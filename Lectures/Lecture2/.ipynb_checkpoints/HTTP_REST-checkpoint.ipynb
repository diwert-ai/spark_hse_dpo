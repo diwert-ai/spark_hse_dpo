{
 "cells": [
  {
   "cell_type": "markdown",
   "id": "6199bbc5-70fc-42db-9946-a47bcb674721",
   "metadata": {},
   "source": [
    "# `Промышленное машинное обучение на Spark`\n",
    "## `Занятие 02: Оборачиваем модель в сервис. Вторая часть: HTTP, requests, REST API, Flask`"
   ]
  },
  {
   "cell_type": "markdown",
   "id": "ad6ff51e-e398-4e82-b691-f756f160bff1",
   "metadata": {},
   "source": [
    "О чём можно узнать из этого ноутбука:\n",
    "\n",
    "* Сетевые протоколы. HTTP.\n",
    "* Пример клиентских библиотек для работы с сетью в Python: urllib, requests\n",
    "* Пример серверной библиотеки для создания WEB-приложений: Flask\n",
    "* REST API"
   ]
  },
  {
   "cell_type": "markdown",
   "id": "28beea26-e568-444f-bc7c-d31f868c4a45",
   "metadata": {},
   "source": [
    "### `Семейство сетевых протоколов. Модель OSI`"
   ]
  },
  {
   "cell_type": "markdown",
   "id": "0df80f2c-5742-4960-83b7-8bb0e39b58a2",
   "metadata": {},
   "source": [
    "Стевой протокол набор правил, описывающих формат обмениваемыми данными и алгоритмы их передачи по некоторой сети.\n",
    "В основе сетевых протоколов лежит принцип уровневости, который гласит, что каждый протокол относится к строго своему одному единственному уровню и при обмене данными решает задачи только своего уровня, причём каждый уровень обеспечивает сервис вышестоящему уровню и пользуется услугами нижестоящего уровня.\n",
    "\n",
    "![СетевыеПротоколы](images/network_layers_min.svg)"
   ]
  },
  {
   "cell_type": "markdown",
   "id": "71621ffa-0ad4-46cd-a6ef-24264fd6bace",
   "metadata": {},
   "source": [
    "На заре развития сетевых технологий была предложена эталонная модель эталонная модель взаимодействия OSI.\n",
    "В ней было представлено предствлено 7 уровней, с описанием зоны ответственности каждого уровня.\n",
    "\n",
    "![OSIModel](images/osi-model.png)"
   ]
  },
  {
   "cell_type": "markdown",
   "id": "58bc37a3-826e-4700-8054-25005913e8c1",
   "metadata": {},
   "source": [
    "### `HTTP`"
   ]
  },
  {
   "cell_type": "markdown",
   "id": "2805e7d9-aad8-4871-886c-a382f97b33f9",
   "metadata": {},
   "source": [
    "**HTTP** (HyperText Transfer Protocol) — это протокол прикладного уровня, позволяющий получать различные ресурсы.\n",
    "Изначально, как следует из названия — для документов, но сейчас уже для передачи произвольных данных.\n",
    "Лежит в основе обмена данными в Web.\n",
    "\n",
    "Это протокол клиент-серверного взаимодействия, что означает инициирование запросов к серверу самим получателем.\n",
    "Итоговый документ может состоять из различных частей: текст, аудио/видео файлов, скриптов.\n",
    "Взаимодействие осуществляется посредством обмена одиночными сообщениями: запрос-ответ."
   ]
  },
  {
   "cell_type": "markdown",
   "id": "1af3784a-fa65-465c-9c3c-b5734e5a4d76",
   "metadata": {},
   "source": [
    "В **HTTP** имеются другие методы работы с сетевыми ресурсами, но они используются гораздо реже."
   ]
  },
  {
   "cell_type": "markdown",
   "id": "4b00e881-cd9f-4f91-a976-52391ea7efd1",
   "metadata": {},
   "source": [
    "HTTP работает поверх протокола транспотного уроня, который отвечетает за корректную передачу данных по сети — TCP. Основное требование к данному протоколу — надёжность, то есть, гарантированная доставка сообщений."
   ]
  },
  {
   "cell_type": "markdown",
   "id": "8afc687e-5a6a-4121-81a4-6a06f199e2a1",
   "metadata": {},
   "source": [
    "**Преимущества**\n",
    "- Прост и человекочитаем\n",
    "- Расширяем\n",
    "- Не имеет состояния (каждый запрос — в отрыве от остальных), следовательно, базово простой\n",
    "\n",
    "**Расширения**\n",
    "- Кэш — сервер может инструктировать клиента/прокси о том, что и как надолго можно кэшировать\n",
    "- Ослабления ограничения источника — инструкции клиенту о том, что на загружаемой странице может содержаться информация с других доменов\n",
    "- Аутентификация — для доступа к защищённой информации\n",
    "- Прокси и туннелирование — сокрытие источника или получателя информации, кэширование для уменьшения нагрузки\n",
    "- Сессии — расширение для сохранения состояния взаимодействия. Несколько механизмов, самый известный — cookies"
   ]
  },
  {
   "cell_type": "markdown",
   "id": "f480b91c-7802-4435-8462-5a2930384919",
   "metadata": {},
   "source": [
    "#### `HTML`\n",
    "\n",
    "**HTML** (HyperText Markup Language) — стандартизированный язык гипертекстовой разметки документов для просмотра веб-страниц в браузере.\n",
    "\n",
    "Первая версия содержала пару десятков тэгов (разметка текста, списки, изображения и гиперссылки).\n",
    "\n",
    "На текущий момент уже 5-я версия. От попыток создать глобальный стандарт отказались, потому что всё ещё динамично развивающаяся область.\n",
    "По сути — дополняемый набор мини-стандартов. \n",
    "\n",
    "Три кита современного веба: \n",
    "\n",
    "1. **HTML5**  - язык разметки документов.\n",
    "2. **CSS3**  - каскадные таблицы стилей, используемые для стилизации элементов.\n",
    "3. **JavaScript**  - язык сценариев, применяемый для испольнения кода на стороне клиента.\n",
    "\n"
   ]
  },
  {
   "cell_type": "markdown",
   "id": "c6c82e58-00c5-40be-bb73-7e20c840aff8",
   "metadata": {},
   "source": [
    "![html_css_js](images/html_css_js.jpeg)"
   ]
  },
  {
   "cell_type": "markdown",
   "id": "966bd142-d3cc-4c5b-8d0a-ed1b8c24c357",
   "metadata": {},
   "source": [
    "#### `Состав HTTP запроса`"
   ]
  },
  {
   "cell_type": "markdown",
   "id": "a0d7b604-ac80-474a-aacd-d68efb163d31",
   "metadata": {},
   "source": [
    "- HTTP-метод: `GET`, `POST`, `OPTIONS` и так далее, определяющее операцию, которую клиент хочет выполнить\n",
    "- Путь к ресурсу\n",
    "- Версию HTTP-протокола\n",
    "- Заголовки  (опционально)\n",
    "- Тело (для некоторых методов, таких как `POST`)\n",
    "\n",
    "*Пример:*\n",
    "```HTTP\n",
    "GET / HTTP/1.1\n",
    "Host: ya.ru\n",
    "User-Agent: Python script\n",
    "Accept: */*\n",
    "\n",
    "```"
   ]
  },
  {
   "cell_type": "markdown",
   "id": "1917ee6c-a4ca-4f50-a7e5-9db5f0bed3d8",
   "metadata": {},
   "source": [
    "#### `Состав ответа`"
   ]
  },
  {
   "cell_type": "markdown",
   "id": "d87c44c6-56a0-45d0-9829-e7fcbd58fd0e",
   "metadata": {},
   "source": [
    "- Версия HTTP-протокола\n",
    "- HTTP код состояния, сообщающий об успешности запроса или причине неудачи\n",
    "- Сообщение состояния — краткое описание кода состояния\n",
    "- HTTP заголовки\n",
    "- Опционально: тело, содержащее пересылаемый ресурс\n",
    "\n",
    "\n",
    "```HTTP\n",
    "HTTP/1.1 200 Ok\n",
    "Cache-Control: no-cache,no-store,max-age=0,must-revalidate\n",
    "Content-Length: 59978\n",
    "Content-Type: text/html; charset=UTF-8\n",
    "Date: Thu, 29 Apr 2021 03:48:39 GMT\n",
    "Set-Cookie: yp=1622260119.ygu.1; Expires=Sun, 27-Apr-2031 03:48:39 GMT; Domain=.ya.ru; Path=/\n",
    "```"
   ]
  },
  {
   "cell_type": "markdown",
   "id": "38fce96e-0ec2-4570-a4f8-1756ebcf48b6",
   "metadata": {},
   "source": [
    "#### `Типы запросов`"
   ]
  },
  {
   "cell_type": "markdown",
   "id": "1949ad69-061c-4024-a77e-c660c5c108ca",
   "metadata": {},
   "source": [
    "Типы запросов в какой-то степени просто договорённость о семантике. Никто не мешает пользоваться только одним типом. Но глобально типы призваны определить что именно требуется при обращении к одному и тому же ресурсу. Каждый конкретный ресурс может поддерживать только часть методов.\n",
    "\n",
    "- `GET` — запрашивает представление ресурса. Запросы с использованием этого метода могут только извлекать данные\n",
    "- `HEAD` — запрашивает ресурс так же, как и метод `GET`, но без тела ответа\n",
    "- `POST` — используется для отправки сущностей к определённому ресурсу. Часто вызывает изменение состояния или какие-то побочные эффекты на сервере\n",
    "- `PUT` — заменяет все текущие представления ресурса данными запроса\n",
    "- `DELETE` — удаляет указанный ресурс\n",
    "- `CONNECT` — устанавливает \"туннель\" к серверу, определённому по ресурсу\n",
    "- `OPTIONS` — используется для описания параметров соединения с ресурсом\n",
    "- `TRACE` — выполняет вызов возвращаемого тестового сообщения с ресурса (например, для отладки)\n",
    "- `PATCH` — используется для частичного изменения ресурса"
   ]
  },
  {
   "cell_type": "markdown",
   "id": "6301ba53-d05c-4ae3-bdf3-5ed32970c197",
   "metadata": {},
   "source": [
    "#### `Заголовки`"
   ]
  },
  {
   "cell_type": "markdown",
   "id": "2769d645-21c4-4a21-82f7-508b09fa7df0",
   "metadata": {},
   "source": [
    "Заголовки содержат дополнительную мета-информацию для более эффективного и корректного взаимодействия между клиентом и сервером.\n",
    "Зачастую в них содержаться следующая информация:\n",
    "\n",
    " - Данные авторизации\n",
    " - Используемая кодировка\n",
    " - Куки файлы\n",
    " - Данные о кешировании\n",
    " - Тип устройства, с которого был произведён запрос\n",
    " - Мета-информация о запрошенном ресурсе, например, последняя дата обновления\n",
    " - Объем передаваемых данных\n",
    "   \n",
    "   ...."
   ]
  },
  {
   "cell_type": "markdown",
   "id": "5eb08c0e-e2c2-480f-b3d9-235743aec34a",
   "metadata": {},
   "source": [
    "#### `Коды`"
   ]
  },
  {
   "cell_type": "markdown",
   "id": "8e9d13eb-7c0e-44c3-8f82-0139808fa155",
   "metadata": {},
   "source": [
    "Каждый ответ пришедший клиенту содержит специальный код, который сообщает о результате запроса.\n",
    "Всего существует 5 типов кодов ответа от сервера.\n",
    "\n",
    "- Информационные (100 - 199)\n",
    "- Успешные (200 - 299)\n",
    "- Перенаправления (300 - 399)\n",
    "- Клиентские ошибки (400 - 499)\n",
    "- Серверные ошибки (500 - 599)\n",
    "\n",
    "Каждый конкретный код сообщает о том, что именно произошло с данным запросом\n",
    "\n",
    "```HTTP\n",
    "200 OK\n",
    "302 Found\n",
    "400 Bad Request\n",
    "401 Unauthorized\n",
    "404 Not Found\n",
    "500 Internal Server Error\n",
    "503 Service Unavailable\n",
    "```"
   ]
  },
  {
   "cell_type": "markdown",
   "id": "0d6b22c6-6217-40cf-a8d2-7d8ec3a3041a",
   "metadata": {},
   "source": [
    "### `HTTPS`"
   ]
  },
  {
   "cell_type": "markdown",
   "id": "20ac513b-323f-46a7-8e07-38f64f8206ee",
   "metadata": {},
   "source": [
    "- HTTPS не является отдельным протоколом передачи данных, а представляет собой расширение протокола HTTP с надстройкой шифрования\n",
    "- передаваемые по протоколу HTTP данные не защищены, HTTPS обеспечивает конфиденциальность информации путем ее шифрования\n",
    "- HTTP использует порт $80$, HTTPS — порт $443$"
   ]
  },
  {
   "cell_type": "markdown",
   "id": "cbaadb65-2d24-4ac6-aa4d-8229011f0282",
   "metadata": {},
   "source": [
    "#### Сетевое обеспечение защищённого протокола"
   ]
  },
  {
   "cell_type": "markdown",
   "id": "1a5de9a0-0f50-4233-9ac5-9cc854fdb2f9",
   "metadata": {},
   "source": [
    "SSL-сертификат (Secure Socket Layer) — это электронный паспорт веб-ресурса, который содержит информацию о нем и шифрует обмен данными с его посетителем. Соединение по криптографическому протоколу происходит таким образом, что передаваемые данные невозможно перехватить и прочитать.\n",
    "\n",
    "TLS (Transport Layer Security) — развитие SSL\n",
    "\n",
    "Обеспечивают шифрование и поддержку сертификатов\n",
    "\n",
    "Принцип работы:\n",
    "\n",
    "С помощью ассиметричного шифрования устанавливается ключ соединения и передаётся сессионный ключ\n",
    "Всё дальнейшее общение шифруется уже сессионным ключом"
   ]
  },
  {
   "cell_type": "markdown",
   "id": "ed2ba5cf-d1cc-43ad-8319-c8718900a972",
   "metadata": {},
   "source": [
    "### Асимметричное шифрование"
   ]
  },
  {
   "cell_type": "markdown",
   "id": "8e1c45bb-66d3-4de8-abe5-6714b6c42fc5",
   "metadata": {},
   "source": [
    "![asymetric_encription](images/asymetric_encription.png)"
   ]
  },
  {
   "cell_type": "markdown",
   "id": "af9e3e7c-4cf6-4693-8f51-9f6f1ccff35c",
   "metadata": {},
   "source": [
    "Называется так, потому что передающая сторона может только зашифровать (но не расшифровать) данные.\n",
    "\n",
    "Асимметричный ключ — ключ, имеющий две составляющие: публичную и частную (закрытую). Публичный ключ доступен любому. Частный (закрытый) известен только владельцу. Если браузер хочет отправить сообщение, то он находит публичный ключ сервера, шифрует сообщение и отправляет на сервер. Далее сервер расшифровывает полученное сообщение с помощью своего частного ключа. Чтобы ответить пользователю, сервер делает те же самые действия: поиск публичного ключа собеседника, шифрование, отправка\n",
    "\n",
    "Следовательно, для двустороннего общения требуется 2 пары ключей.\n",
    "\n",
    "Алгоритмы ассиметричного шифрования более ресурсоёмкие, поэтому обычно только первичная установка соединения производится с его помощью, далее стороны договариваются о симметричном сессионном ключе и дальшейшее общение ведётся с помощью симметричного шифрованиия"
   ]
  },
  {
   "cell_type": "markdown",
   "id": "e3a81db7-7933-4dbe-9a75-7749b87d52a8",
   "metadata": {},
   "source": [
    "### Симметричное шифрование"
   ]
  },
  {
   "cell_type": "markdown",
   "id": "db14a27a-7d4f-496d-adbc-76438d5c86b6",
   "metadata": {},
   "source": [
    "![symetric_encription](images/symetric_encription.png)"
   ]
  },
  {
   "cell_type": "markdown",
   "id": "4890bae1-bc9a-4763-9571-e06b7df184f8",
   "metadata": {},
   "source": [
    "В этом случае у обеих сторон есть один общий ключ, с помощью которого они и передают данные. Основная проблема — как договориться об этом ключе, чтобы знали только две стороны. И один из способов (не единственный) — с помощью ассиметричных алгоритмов - создаётся ассиметричное соединение и по нему передаётся общий ключ."
   ]
  },
  {
   "cell_type": "markdown",
   "id": "0ef62a98-b3d5-48de-9689-a3bccb6a9303",
   "metadata": {},
   "source": [
    "### `Python Web-clients`"
   ]
  },
  {
   "cell_type": "markdown",
   "id": "eac9dad0-8a7f-44b8-a0ed-6c9417f3fbae",
   "metadata": {},
   "source": [
    "#### `urllib`"
   ]
  },
  {
   "cell_type": "markdown",
   "id": "683eccb9-7a0d-449d-8765-ad46814dd65f",
   "metadata": {},
   "source": [
    "Стандартная библиотека `urllib`\n",
    "\n",
    "Реализует все необходимые методы и примитивы необходимые для сетевого взаимодействия через http протокол.\n",
    "Но зачастую требует вызовов дополнительных методов из сторонних библиотек, чтобы декодировать полученные данные."
   ]
  },
  {
   "cell_type": "code",
   "execution_count": 1,
   "id": "6a57ac50-c1c5-474e-b622-77478e9bc999",
   "metadata": {},
   "outputs": [],
   "source": [
    "import json\n",
    "import urllib.request"
   ]
  },
  {
   "cell_type": "code",
   "execution_count": 2,
   "id": "da379680-f8ed-4918-80bd-2b445b2d1c93",
   "metadata": {},
   "outputs": [
    {
     "name": "stdout",
     "output_type": "stream",
     "text": [
      "200\n"
     ]
    }
   ],
   "source": [
    "# сделаем GET запрос по следующему урлу: postman-echo.com/get\n",
    "ur = urllib.request.urlopen('https://postman-echo.com/get?foo=bar&foo1=bar1')\n",
    "print(ur.code)"
   ]
  },
  {
   "cell_type": "markdown",
   "id": "85e68e1d-5c24-462d-9054-bbdf04202aa5",
   "metadata": {},
   "source": [
    "Получили статус ответа 200 от сервера, что сигнализирует об успешно выполненном запросе"
   ]
  },
  {
   "cell_type": "code",
   "execution_count": 3,
   "id": "d91ebd6f-9380-4d55-af9d-ddf9f0071fc0",
   "metadata": {},
   "outputs": [
    {
     "data": {
      "text/plain": [
       "b'{\\n  \"args\": {\\n    \"foo\": \"bar\",\\n    \"foo1\": \"bar1\"\\n  },\\n  \"headers\": {\\n    \"x-forwarded-proto\": \"https\",\\n    \"x-forwarded-port\": \"443\",\\n    \"host\": \"postman-echo.com\",\\n    \"x-amzn-trace-id\": \"Root=1-652a434c-2314d5bd0cae9bab1ed0182c\",\\n    \"accept-encoding\": \"identity\",\\n    \"user-agent\": \"Python-urllib/3.9\"\\n  },\\n  \"url\": \"https://postman-echo.com/get?foo=bar&foo1=bar1\"\\n}'"
      ]
     },
     "execution_count": 3,
     "metadata": {},
     "output_type": "execute_result"
    }
   ],
   "source": [
    "# теперь посмотрим, что вернул сервер\n",
    "content = ur.read()\n",
    "content"
   ]
  },
  {
   "cell_type": "code",
   "execution_count": 4,
   "id": "06e5e0bf-b4ab-4fed-a7ba-7867a7a468f5",
   "metadata": {},
   "outputs": [
    {
     "name": "stdout",
     "output_type": "stream",
     "text": [
      "{\n",
      "    \"args\": {\n",
      "        \"foo\": \"bar\",\n",
      "        \"foo1\": \"bar1\"\n",
      "    },\n",
      "    \"headers\": {\n",
      "        \"accept-encoding\": \"identity\",\n",
      "        \"host\": \"postman-echo.com\",\n",
      "        \"user-agent\": \"Python-urllib/3.9\",\n",
      "        \"x-amzn-trace-id\": \"Root=1-652a434c-2314d5bd0cae9bab1ed0182c\",\n",
      "        \"x-forwarded-port\": \"443\",\n",
      "        \"x-forwarded-proto\": \"https\"\n",
      "    },\n",
      "    \"url\": \"https://postman-echo.com/get?foo=bar&foo1=bar1\"\n",
      "}\n"
     ]
    }
   ],
   "source": [
    "# работать с бинарными данными не очень удобно, поэтому декодируем полученные данные\n",
    "content = json.loads(content)\n",
    "print(json.dumps(content, indent=4, sort_keys=True))"
   ]
  },
  {
   "cell_type": "markdown",
   "id": "893f7b2a-db8a-4135-84a3-bcd35c3a718b",
   "metadata": {},
   "source": [
    "В предыдщем вызове использовался метод GET, чтобы считать данные с сервера, теперь же попробуем произвести их отправку"
   ]
  },
  {
   "cell_type": "code",
   "execution_count": 5,
   "id": "dafc45e0-0fdf-46d8-b0da-1ad37a6b25d8",
   "metadata": {},
   "outputs": [],
   "source": [
    "import json\n",
    "from urllib import request, parse"
   ]
  },
  {
   "cell_type": "code",
   "execution_count": 6,
   "id": "d6f5dd7c-ee08-41cb-b026-2cca01cb4b6d",
   "metadata": {},
   "outputs": [
    {
     "name": "stdout",
     "output_type": "stream",
     "text": [
      "b'foo=bar'\n"
     ]
    }
   ],
   "source": [
    "data = parse.urlencode({ 'foo': 'bar' })\n",
    "data = data.encode()\n",
    "print(data)"
   ]
  },
  {
   "cell_type": "code",
   "execution_count": 7,
   "id": "514778d4-60f3-492d-9c2e-f8df65775174",
   "metadata": {},
   "outputs": [
    {
     "name": "stdout",
     "output_type": "stream",
     "text": [
      "200\n"
     ]
    }
   ],
   "source": [
    "req = request.Request('https://postman-echo.com/post', method=\"POST\", data=data)\n",
    "ur = request.urlopen(req)\n",
    "print(ur.code)"
   ]
  },
  {
   "cell_type": "code",
   "execution_count": 8,
   "id": "c221176e-e80b-40fa-90d1-411abe005e12",
   "metadata": {},
   "outputs": [
    {
     "name": "stdout",
     "output_type": "stream",
     "text": [
      "{\n",
      "    \"args\": {},\n",
      "    \"data\": \"\",\n",
      "    \"files\": {},\n",
      "    \"form\": {\n",
      "        \"foo\": \"bar\"\n",
      "    },\n",
      "    \"headers\": {\n",
      "        \"accept-encoding\": \"identity\",\n",
      "        \"content-length\": \"7\",\n",
      "        \"content-type\": \"application/x-www-form-urlencoded\",\n",
      "        \"host\": \"postman-echo.com\",\n",
      "        \"user-agent\": \"Python-urllib/3.9\",\n",
      "        \"x-amzn-trace-id\": \"Root=1-652a434d-30b495e51585ffff40241687\",\n",
      "        \"x-forwarded-port\": \"443\",\n",
      "        \"x-forwarded-proto\": \"https\"\n",
      "    },\n",
      "    \"json\": {\n",
      "        \"foo\": \"bar\"\n",
      "    },\n",
      "    \"url\": \"https://postman-echo.com/post\"\n",
      "}\n"
     ]
    }
   ],
   "source": [
    "content = json.loads(ur.read())\n",
    "print(json.dumps(content, indent=4, sort_keys=True))"
   ]
  },
  {
   "cell_type": "markdown",
   "id": "4c0046c1-9d8f-43cf-bf95-6bc05b4ce6e4",
   "metadata": {},
   "source": [
    "#### `requests`"
   ]
  },
  {
   "cell_type": "markdown",
   "id": "1e70d868-6efa-48fc-95a4-29bdbaeaad4a",
   "metadata": {},
   "source": [
    "Библиотека requests более высокого уровня и инкапсулирует всю вспомогательную работу.\n",
    "Поэтому можно сконценирироваться на логике приложения, а не на низкоуровневых деталях."
   ]
  },
  {
   "cell_type": "markdown",
   "id": "4bb1db28-35c9-43da-8969-a23599cc4f53",
   "metadata": {},
   "source": [
    "#### `Запрос GET`"
   ]
  },
  {
   "cell_type": "code",
   "execution_count": 14,
   "id": "1fcced3a-0948-4e06-9ae3-df5b497d1acb",
   "metadata": {},
   "outputs": [],
   "source": [
    "import requests"
   ]
  },
  {
   "cell_type": "code",
   "execution_count": 39,
   "id": "35716bb8-a739-4a3c-a687-f26bb90e6192",
   "metadata": {},
   "outputs": [
    {
     "data": {
      "text/plain": [
       "200"
      ]
     },
     "execution_count": 39,
     "metadata": {},
     "output_type": "execute_result"
    }
   ],
   "source": [
    "r = requests.get(\n",
    "    'https://postman-echo.com/get',\n",
    "    params={'foo': 'bar'},\n",
    "    headers={'user-agent': 'Python Script'}\n",
    ")\n",
    "r.status_code"
   ]
  },
  {
   "cell_type": "code",
   "execution_count": 40,
   "id": "84775d82-f2d7-46c6-b45b-abb9ebe84582",
   "metadata": {},
   "outputs": [
    {
     "data": {
      "text/plain": [
       "{'args': {'foo': 'bar'},\n",
       " 'headers': {'x-forwarded-proto': 'https',\n",
       "  'x-forwarded-port': '443',\n",
       "  'host': 'postman-echo.com',\n",
       "  'x-amzn-trace-id': 'Root=1-6527048f-5afb64156bfd76fd0602b550',\n",
       "  'user-agent': 'Python Script',\n",
       "  'accept-encoding': 'gzip, deflate',\n",
       "  'accept': '*/*'},\n",
       " 'url': 'https://postman-echo.com/get?foo=bar'}"
      ]
     },
     "execution_count": 40,
     "metadata": {},
     "output_type": "execute_result"
    }
   ],
   "source": [
    "r.json()"
   ]
  },
  {
   "cell_type": "markdown",
   "id": "4595ebb4-9215-4b16-81b5-66911db33a10",
   "metadata": {},
   "source": [
    "#### `Запрос POST`"
   ]
  },
  {
   "cell_type": "code",
   "execution_count": 42,
   "id": "18c77226-36a7-47d1-88f5-fd2bd430d35e",
   "metadata": {},
   "outputs": [
    {
     "data": {
      "text/plain": [
       "200"
      ]
     },
     "execution_count": 42,
     "metadata": {},
     "output_type": "execute_result"
    }
   ],
   "source": [
    "r = requests.post(\n",
    "    'https://postman-echo.com/post',\n",
    "    json={'foo': 'bar'},\n",
    "    headers = {'user-agent': 'Python Script'}\n",
    ")\n",
    "r.status_code"
   ]
  },
  {
   "cell_type": "code",
   "execution_count": 43,
   "id": "e92370f2-c795-4182-ac62-993a9b1dd602",
   "metadata": {},
   "outputs": [
    {
     "data": {
      "text/plain": [
       "{'args': {},\n",
       " 'data': {'foo': 'bar'},\n",
       " 'files': {},\n",
       " 'form': {},\n",
       " 'headers': {'x-forwarded-proto': 'https',\n",
       "  'x-forwarded-port': '443',\n",
       "  'host': 'postman-echo.com',\n",
       "  'x-amzn-trace-id': 'Root=1-652704c1-59417bc40f0eda09459bf3a3',\n",
       "  'content-length': '14',\n",
       "  'user-agent': 'Python Script',\n",
       "  'accept-encoding': 'gzip, deflate',\n",
       "  'accept': '*/*',\n",
       "  'content-type': 'application/json'},\n",
       " 'json': {'foo': 'bar'},\n",
       " 'url': 'https://postman-echo.com/post'}"
      ]
     },
     "execution_count": 43,
     "metadata": {},
     "output_type": "execute_result"
    }
   ],
   "source": [
    "r.json()"
   ]
  },
  {
   "cell_type": "markdown",
   "id": "c4205112-bd93-41f6-aeeb-ebfe25b63498",
   "metadata": {},
   "source": [
    "### `Python Web-servers`"
   ]
  },
  {
   "cell_type": "markdown",
   "id": "e8a75e7f-8d0f-4cde-9d1f-e496c49bcaaa",
   "metadata": {},
   "source": [
    "![python_webframeworks](images/python_webframeworks.png)"
   ]
  },
  {
   "cell_type": "markdown",
   "id": "0d734056-28ac-46e8-967c-8931e851761a",
   "metadata": {},
   "source": [
    "Язык Python благодаря своей универсальности позволяет писать не только программы для обработки и анализа данных, но и реализовывать полноценные веб приложения. Вокруг него образовалось множество фреймворков, позволяющих писать полноценные веб-приложения. \n",
    "Такие известные высоконагруженные сервисы, как Netflix, Youtube, Uber и тд., используют Python некоторых частях своего бекенда."
   ]
  },
  {
   "cell_type": "markdown",
   "id": "cf5513e5-486f-4d14-ab18-203785025434",
   "metadata": {},
   "source": [
    "**Flask** — один из фреймворк для создания веб-приложений на языке программирования Python. \n",
    "Данный фреймоврк относится к категории микрофреймворков — минималистичных каркасов веб-приложений, сознательно предоставляющих лишь самые базовые возможности."
   ]
  },
  {
   "cell_type": "code",
   "execution_count": null,
   "id": "0031d2a1-f8ec-4c68-99b6-b195f1981f8b",
   "metadata": {},
   "outputs": [],
   "source": [
    "# Устновка\n",
    "! pip3 install Flask"
   ]
  },
  {
   "cell_type": "code",
   "execution_count": 68,
   "id": "1974ad0e-caa5-408f-8e1f-2b08b64ec080",
   "metadata": {},
   "outputs": [
    {
     "name": "stdout",
     "output_type": "stream",
     "text": [
      "Overwriting simple_flask.py\n"
     ]
    }
   ],
   "source": [
    "%%writefile simple_flask.py\n",
    "# Простейший сервер на flask\n",
    "from flask import Flask\n",
    "\n",
    "\n",
    "app = Flask(__name__)\n",
    "\n",
    "\n",
    "@app.route('/')\n",
    "def hello_world():\n",
    "    return 'Hello, World!'\n",
    "   \n",
    "if __name__ == '__main__':\n",
    "    app.run(host='localhost')"
   ]
  },
  {
   "cell_type": "markdown",
   "id": "a7d245c8-1ac6-4d0a-894d-6ad6590803ca",
   "metadata": {},
   "source": [
    "Через специальный метод `route` указывается, какая функция должна отрботать при переходе по URL "
   ]
  },
  {
   "cell_type": "markdown",
   "id": "5bc9f29b-9541-4151-bd32-af080b1a56c9",
   "metadata": {},
   "source": [
    "Чтобы запустить сервер, наберите в новом окне терминала.\n",
    "\n",
    "```bash\n",
    "> python3 simple_flask.py\n",
    "```\n",
    "После того как он будет запущен на него можно отправлять запросы."
   ]
  },
  {
   "cell_type": "code",
   "execution_count": 73,
   "id": "045602a2-4896-490d-a133-750830b32548",
   "metadata": {},
   "outputs": [],
   "source": [
    "import requests"
   ]
  },
  {
   "cell_type": "code",
   "execution_count": 77,
   "id": "2de0a05a-859c-44f0-8c55-4aec9f33a70a",
   "metadata": {},
   "outputs": [
    {
     "name": "stdout",
     "output_type": "stream",
     "text": [
      "200\n",
      "{'Server': 'Werkzeug/2.2.3 Python/3.9.6', 'Date': 'Wed, 11 Oct 2023 21:11:51 GMT', 'Content-Type': 'text/html; charset=utf-8', 'Content-Length': '13', 'Connection': 'close'}\n",
      "b'Hello, World!'\n"
     ]
    }
   ],
   "source": [
    "r = requests.get('http://127.0.0.1:5000/')\n",
    "print(r.status_code)\n",
    "print(r.headers)\n",
    "print(r.content)"
   ]
  },
  {
   "cell_type": "markdown",
   "id": "cf003678-481c-44ca-8201-3788fbe99b60",
   "metadata": {},
   "source": [
    "##### `Простейший пример сервера. POST/GET`"
   ]
  },
  {
   "cell_type": "markdown",
   "id": "a00d1b9f-38ee-440a-8a04-f8585bd465e5",
   "metadata": {},
   "source": [
    "По умолчанию `route` обрабатывает только `GET` запросы.\n",
    "\n",
    "Если нужно добавить другие методы обработки, то их нужно передать в параметрах `route`"
   ]
  },
  {
   "cell_type": "code",
   "execution_count": 78,
   "id": "241d5497-e04f-4409-9b1e-abb5da27c3c8",
   "metadata": {},
   "outputs": [
    {
     "name": "stdout",
     "output_type": "stream",
     "text": [
      "Writing simple_flask_post.py\n"
     ]
    }
   ],
   "source": [
    "%%writefile simple_flask_post.py\n",
    "# Простейший сервер на flask\n",
    "from flask import Flask\n",
    "\n",
    "app = Flask(__name__)\n",
    "\n",
    "@app.route('/post', methods=['POST'])\n",
    "def hello_path():\n",
    "    return 'Hello, Path!'\n",
    "   \n",
    "if __name__ == '__main__':\n",
    "    app.run(host='localhost')"
   ]
  },
  {
   "cell_type": "code",
   "execution_count": 81,
   "id": "d58a9cf0-6073-4acd-9836-6b8668388729",
   "metadata": {},
   "outputs": [
    {
     "name": "stdout",
     "output_type": "stream",
     "text": [
      "200\n",
      "{'Server': 'Werkzeug/2.2.3 Python/3.9.6', 'Date': 'Wed, 11 Oct 2023 21:18:32 GMT', 'Content-Type': 'text/html; charset=utf-8', 'Content-Length': '12', 'Connection': 'close'}\n",
      "b'Hello, Path!'\n"
     ]
    }
   ],
   "source": [
    "r = requests.post('http://127.0.0.1:5000/post')\n",
    "print(r.status_code)\n",
    "print(r.headers)\n",
    "print(r.content)"
   ]
  },
  {
   "cell_type": "markdown",
   "id": "92d2cca6-3dbe-47c3-8665-97a8c43a4e33",
   "metadata": {},
   "source": [
    "Если же попытаться обратиться с GET методом по этому пути, то сервер выдаст ошибку `405`  - Method Not Allowed"
   ]
  },
  {
   "cell_type": "code",
   "execution_count": 83,
   "id": "678bac82-3ee0-48a5-882f-438221b28035",
   "metadata": {},
   "outputs": [
    {
     "name": "stdout",
     "output_type": "stream",
     "text": [
      "405\n",
      "{'Server': 'Werkzeug/2.2.3 Python/3.9.6', 'Date': 'Wed, 11 Oct 2023 21:21:32 GMT', 'Content-Type': 'text/html; charset=utf-8', 'Allow': 'POST, OPTIONS', 'Content-Length': '153', 'Connection': 'close'}\n",
      "b'<!doctype html>\\n<html lang=en>\\n<title>405 Method Not Allowed</title>\\n<h1>Method Not Allowed</h1>\\n<p>The method is not allowed for the requested URL.</p>\\n'\n"
     ]
    }
   ],
   "source": [
    "r = requests.get('http://127.0.0.1:5000/post')\n",
    "print(r.status_code)\n",
    "print(r.headers)\n",
    "print(r.content)"
   ]
  },
  {
   "cell_type": "markdown",
   "id": "85b42c6e-a40d-4303-b1af-709d1003ff90",
   "metadata": {},
   "source": [
    "##### `Простейший пример сервера. Variable Rules`"
   ]
  },
  {
   "cell_type": "markdown",
   "id": "98c24011-153a-4192-9b7f-8db9f60e043b",
   "metadata": {},
   "source": [
    "В пути можно передавать переменные и использовать их в обработчике\n",
    "\n",
    "Синтаксис: `<converter:variable_name>`\n",
    "\n",
    "Доступные типы converters:\n",
    "- `string`\n",
    "- `int`\n",
    "- `float`\n",
    "- `path`\n",
    "- `uuid`"
   ]
  },
  {
   "cell_type": "code",
   "execution_count": 86,
   "id": "d7c28496-4d6a-4c09-ab84-53a9d3d7f5c4",
   "metadata": {},
   "outputs": [
    {
     "name": "stdout",
     "output_type": "stream",
     "text": [
      "Writing simple_flask_converters.py\n"
     ]
    }
   ],
   "source": [
    "%%writefile simple_flask_converters.py\n",
    "from flask import Flask\n",
    "\n",
    "app = Flask(__name__)\n",
    "\n",
    "@app.route('/hello/<string:name>')\n",
    "def hello_name(name):\n",
    "    return f'Hello {name}!'\n",
    "   \n",
    "if __name__ == '__main__':\n",
    "    app.run(host='localhost')"
   ]
  },
  {
   "cell_type": "code",
   "execution_count": 92,
   "id": "c3721683-41a7-462b-93df-21604014309e",
   "metadata": {},
   "outputs": [
    {
     "name": "stdout",
     "output_type": "stream",
     "text": [
      "b'Hello John!'\n"
     ]
    }
   ],
   "source": [
    "r = requests.get('http://127.0.0.1:5000/hello/John')\n",
    "print(r.content)"
   ]
  },
  {
   "cell_type": "markdown",
   "id": "96c2a567-54ac-4960-91be-f9a721c316b5",
   "metadata": {},
   "source": [
    "#### `Flask WSGI`"
   ]
  },
  {
   "cell_type": "markdown",
   "id": "fa404a4a-1231-4adf-b5f1-c3bb8b9d1004",
   "metadata": {},
   "source": [
    "Flask используется для разработки и отладки.\n",
    "\n",
    "Для промышленной эксплуатации необходимо использование **WSGI** (Web Server Gateway Interface) сервера:\n",
    "- WSGI-сервера были разработаны чтобы обрабатывать множество запросов одновременно. А фреймворки (в том числе Flask) не предназначены для обработки тысяч запросов и не дают решения того, как наилучшим образом маршрутизировать запросы с веб-сервера\n",
    "- с WSGI не нужно беспокоиться о том, как ваша конкретная инфраструктура использует стандарт WSGI\n",
    "- WSGI дает Вам гибкость в изменении компонентов веб-стека без изменения приложения, которое работает с WSGI\n",
    "\n",
    "Здесь WSGI (Web Server Gateway Interface) — стандарт взаимодействия между Python-программой, выполняющейся на стороне сервера, и самим веб-сервером, например Apache. Фактически, это интерпретатор Python, который запускает WSGI-приложение, написанное на Flask.\n",
    "\n",
    "При поступлении запроса активизируется WSGI-приложение, выполняется определенный обработчик, который еще называется «Представление» и реализованный в виде функции на языке Python. Соответственно, если приходит сразу несколько запросов, то одна и та же функция-обработчик может быть запущена в параллельных потоках. Многопоточность – это норма для фреймворков, поэтому, работая с представлениями во Flask, всегда следует это учитывать."
   ]
  },
  {
   "cell_type": "markdown",
   "id": "7071abbb-e821-4f2f-8b9a-8166a8eabc29",
   "metadata": {},
   "source": [
    "Если не планируется большой нагрузки, для `flask` это может быть `waitress`.\n",
    "\n",
    "Установка: `pip install waitress`\n",
    "\n",
    "Использование:"
   ]
  },
  {
   "cell_type": "code",
   "execution_count": 93,
   "id": "b557c8d0-e652-485c-92cf-af073e35aebc",
   "metadata": {},
   "outputs": [
    {
     "name": "stdout",
     "output_type": "stream",
     "text": [
      "Writing flask_wsgi.py\n"
     ]
    }
   ],
   "source": [
    "%%writefile flask_wsgi.py\n",
    "import time\n",
    "from flask import Flask\n",
    "from waitress import serve\n",
    "\n",
    "app = Flask(__name__)\n",
    "\n",
    "@app.route('/')\n",
    "def hello_world():\n",
    "    time.sleep(5)\n",
    "    return 'Hello, World!'\n",
    "   \n",
    "if __name__ == '__main__':\n",
    "    # Вместо запуска flask запускаем waitress.serve\n",
    "#     app.run(host='localhost', threaded=False)\n",
    "    serve(app, host='localhost', port='5000', threads=2)"
   ]
  },
  {
   "cell_type": "markdown",
   "id": "6335b52d-2614-447b-b7de-e45fdf95524e",
   "metadata": {},
   "source": [
    "Либо запускаем из командной строки: \n",
    "```bash\n",
    "waitress-serve --port 5000 '<имя модуля>:<перемнная приложения>'\n",
    "```\n",
    "\n",
    "Если наш файл называется `server.py`, то наш пример можно запустить командой: \n",
    "```bash\n",
    "waitress-serve --port 5000 'server:app'\n",
    "```"
   ]
  },
  {
   "cell_type": "markdown",
   "id": "509a83d8-c465-40e8-a2e9-c5da96621894",
   "metadata": {},
   "source": [
    "### REST API"
   ]
  },
  {
   "cell_type": "markdown",
   "id": "1b709157-b002-4e37-b12a-de2da7a97580",
   "metadata": {},
   "source": [
    "**REST** (Representational State Transfer — «передача репрезентативного состояния» или «передача „самоописываемого“ состояния») — архитектурный стиль взаимодействия компонентов распределённого приложения в сети. Другими словами, REST — это **набор правил** того, как программисту организовать написание **кода серверного приложения**, чтобы все системы легко **обменивались данными** и приложение можно было масштабировать. REST работает поверх HTTP и использует его для передачи сообщений между компонентами системы.\n",
    "Cтандарт был придуман"
   ]
  },
  {
   "cell_type": "markdown",
   "id": "77b1806d-cd94-4827-ae4e-9e16e9d1f91b",
   "metadata": {},
   "source": [
    "![API_TIMELINE](images/API_TIMELINE.png)"
   ]
  },
  {
   "cell_type": "markdown",
   "id": "1b09d5f1-47b2-4e03-930a-8641cbb764c7",
   "metadata": {},
   "source": [
    "#### `Правила REST`"
   ]
  },
  {
   "cell_type": "markdown",
   "id": "6afba193-b495-4ffa-877d-a5e38b0b8c74",
   "metadata": {},
   "source": [
    "1. **Клиент-Сервер**: Должно быть разделение между сервером, который предлагает сервис и клиентом, который использует ее.\n",
    "2. **Stateless**: Каждый запрос от клиента должен содержать всю информацию, необходимую серверу для выполнения запроса. Другими словами, сервер не обязан сохранять информацию о состоянии клиента.\n",
    "3. **Кэширование**: В каждом запросе клиента должно явно содержаться указание о возможности кэширования ответа и получения ответа из существующего кэша.\n",
    "4. **Уровневая система**: Клиент может взаимодействовать не напрямую с сервером, а с произвольным количеством промежуточных узлов. При этом клиент может не знать о существовании промежуточных узлов, за исключением случаев передачи конфиденциальной информации.\n",
    "5. **Унификация**: Унифицированный программный интерфейс сервера.\n",
    "6. **Код по запросу**: Сервера могут поставлять исполняемый код или скрипты для выполнения их на стороне клиентов."
   ]
  },
  {
   "cell_type": "markdown",
   "id": "5c551834-5441-4b85-b7cf-9fd110bb96ee",
   "metadata": {},
   "source": [
    "#### `Ресурс`"
   ]
  },
  {
   "cell_type": "markdown",
   "id": "e721c6c5-1d0a-4d42-b238-8d5dcedb6eec",
   "metadata": {},
   "source": [
    "**Ресурс** — это ключевая абстракция, на которой концентрируется протокол HTTP. Ресурс — это все, что вы хотите показать внешнему миру через ваше приложение. Например, если мы пишем приложение для управления задачами, экземпляры ресурсов будут следующие:\n",
    "* Задачи от конкретного пользователя\n",
    "* Конкретная задача\n",
    "* Весь список задач\n",
    "* Выполненные задачи\n"
   ]
  },
  {
   "cell_type": "markdown",
   "id": "053e2f8d-b36e-46e9-bebc-984fba9f9f7d",
   "metadata": {},
   "source": [
    "#### `Дизайн REST`"
   ]
  },
  {
   "cell_type": "markdown",
   "id": "a1536a45-de8d-4c6f-98e4-73c1a5beaa2d",
   "metadata": {},
   "source": [
    "| Метод HTTP |            Действие           |                                      Пример                                     |\n",
    "|:----------:|:-----------------------------:|:-------------------------------------------------------------------------------:|\n",
    "| **GET**        | Получить информацию о ресурсе | `example.com/api/orders` (получить список заказов)                                |\n",
    "| **GET**        | Получить информацию о ресурсе | `example.com/api/orders/123` (получить заказ #123)                                |\n",
    "| **POST**       | Создать новый ресурс          | `example.com/api/orders` (создать новый заказ из данных переданных с запросом)    |\n",
    "| **PUT**        | Обновить ресурс               | `example.com/api/orders/123` (обновить заказ #123 данными переданными с запросом) |\n",
    "| **DELETE**     | Удалить ресурс                | `example.com/api/orders/123` (удалить заказ #123)                                 |"
   ]
  },
  {
   "cell_type": "markdown",
   "id": "d9a046ed-6229-4d42-bfa5-cd482294bfd5",
   "metadata": {},
   "source": [
    "Дизайн REST не дает рекомендаций каким конкретно должен быть формат данных передаваемых с запросами. Данные переданные в теле запроса могут быть JSON blob, или с помощью аргументов в URL."
   ]
  },
  {
   "cell_type": "markdown",
   "id": "eb6e862c-8410-4f5d-a3a7-b61d9c602ac6",
   "metadata": {},
   "source": [
    "#### `REST. Пример на Flask`"
   ]
  },
  {
   "cell_type": "markdown",
   "id": "9008b349-9112-4189-9b73-4324d280c0c0",
   "metadata": {},
   "source": [
    "| Метод HTTP |                       URI                       |           Действие           |\n",
    "|:----------:|:-----------------------------------------------:|:----------------------------:|\n",
    "| **GET**        | `http://[hostname]/todo/api/v1.0/tasks`           | Получить список задач        |\n",
    "| **GET**        | `http://[hostname]/todo/api/v1.0/tasks/[task_id]` | Получить задачу              |\n",
    "| **POST**       | `http://[hostname]/todo/api/v1.0/tasks`           | Создать новую задачу         |\n",
    "| **PUT**        | `http://[hostname]/todo/api/v1.0/tasks/[task_id]` | Обновить существующую задачу |\n",
    "| **DELETE**     | `http://[hostname]/todo/api/v1.0/tasks/[task_id]` | Удалить задачу               |"
   ]
  },
  {
   "cell_type": "markdown",
   "id": "9b458b87-2d4d-4f8f-a729-6418dea65f7d",
   "metadata": {},
   "source": [
    "Наша задача будет иметь следующие поля:\n",
    "\n",
    "* **id** — уникальный идентификатор задачи. Тип int.\n",
    "* **title** — Краткое описание задачи. Тип str.\n",
    "* **description** — подробное описание задачи. Тип str.\n",
    "* **done** — отметка о выполнении. Тип bool."
   ]
  },
  {
   "cell_type": "code",
   "execution_count": 24,
   "id": "e21d9995-556f-4ee0-a78c-7b33f7f2212f",
   "metadata": {},
   "outputs": [
    {
     "name": "stdout",
     "output_type": "stream",
     "text": [
      "Overwriting flask_rest_api.py\n"
     ]
    }
   ],
   "source": [
    "%%writefile flask_rest_api.py\n",
    "\n",
    "from flask import Flask, jsonify, abort, request, make_response, url_for\n",
    "\n",
    "app = Flask(__name__)\n",
    "\n",
    "tasks = [\n",
    "    {\n",
    "        'id': 1,\n",
    "        'title': u'Buy groceries',\n",
    "        'description': u'Milk, Cheese, Pizza, Fruit, Tylenol', \n",
    "        'done': False\n",
    "    },\n",
    "    {\n",
    "        'id': 2,\n",
    "        'title': u'Learn Python',\n",
    "        'description': u'Need to find a good Python tutorial on the web', \n",
    "        'done': False\n",
    "    }\n",
    "]\n",
    "\n",
    "@app.route('/todo/api/v1.0/tasks', methods=['GET'])\n",
    "def get_tasks():\n",
    "    return {'tasks': tasks}\n",
    "\n",
    "\n",
    "@app.route('/todo/api/v1.0/tasks/<int:task_id>', methods=['GET'])\n",
    "def get_task(task_id):\n",
    "    for task in tasks:\n",
    "        if task['id'] == task_id:\n",
    "            return {'task': task}\n",
    "    abort(404)\n",
    "\n",
    "\n",
    "@app.route('/todo/api/v1.0/tasks', methods=['POST'])\n",
    "def create_task():\n",
    "    if not request.json or not 'title' in request.json:\n",
    "        abort(400)\n",
    "    task = {\n",
    "        'id': tasks[-1]['id'] + 1,\n",
    "        'title': request.json['title'],\n",
    "        'description': request.json.get('description', \"\"),\n",
    "        'done': False\n",
    "    }\n",
    "    tasks.append(task)\n",
    "    return jsonify({'task': task}), 201\n",
    "\n",
    "\n",
    "@app.route('/todo/api/v1.0/tasks/<int:task_id>', methods=['PUT'])\n",
    "def update_task(task_id):\n",
    "    target_tasks = [task for task in tasks if task['id'] == task_id]\n",
    "    if len(target_tasks) != 1:\n",
    "        abort(404)\n",
    "    task = target_tasks[0]\n",
    "        \n",
    "    if not request.json:\n",
    "        abort(400)\n",
    "    if 'title' in request.json and not isinstance(request.json['title'], str):\n",
    "        abort(400)\n",
    "    if 'description' in request.json and not isinstance(request.json['description'], str):\n",
    "        abort(400)\n",
    "    if 'done' in request.json and not isinstance(request.json['done'], bool):\n",
    "        abort(400)\n",
    "\n",
    "    task['title'] = request.json.get('title', task['title'])\n",
    "    task['description'] = request.json.get('description', task['description'])\n",
    "    task['done'] = request.json.get('done', task['done'])\n",
    "    \n",
    "    return jsonify({'task': task})\n",
    "    \n",
    "    \n",
    "@app.route('/todo/api/v1.0/tasks/<int:task_id>', methods = ['DELETE'])\n",
    "def delete_task(task_id):\n",
    "    target_tasks = [task for task in tasks if task['id'] == task_id]\n",
    "    if len(target_tasks) != 1:\n",
    "        abort(404)\n",
    "    task = target_tasks[0]\n",
    "    \n",
    "    tasks.remove(task)\n",
    "    return {'result': True}\n",
    "\n",
    "\n",
    "if __name__ == '__main__':\n",
    "    app.run(debug=True)"
   ]
  },
  {
   "cell_type": "markdown",
   "id": "1d4ef46a-4d81-4ef2-8524-b9b4d189eddf",
   "metadata": {},
   "source": [
    "##### `GET tasks`\n",
    "\n",
    "Получим весь список существующих задач."
   ]
  },
  {
   "cell_type": "code",
   "execution_count": 25,
   "id": "42ef8f40-e9c4-4b32-9660-f38b42d1d151",
   "metadata": {},
   "outputs": [
    {
     "name": "stdout",
     "output_type": "stream",
     "text": [
      "Status code: 200\n"
     ]
    },
    {
     "data": {
      "text/plain": [
       "{'tasks': [{'description': 'Milk, Cheese, Pizza, Fruit, Tylenol',\n",
       "   'done': False,\n",
       "   'id': 1,\n",
       "   'title': 'Buy groceries'},\n",
       "  {'description': 'Need to find a good Python tutorial on the web',\n",
       "   'done': False,\n",
       "   'id': 2,\n",
       "   'title': 'Learn Python'}]}"
      ]
     },
     "execution_count": 25,
     "metadata": {},
     "output_type": "execute_result"
    }
   ],
   "source": [
    "r = requests.get('http://127.0.0.1:5000/todo/api/v1.0/tasks')\n",
    "print(f\"Status code: {r.status_code}\")\n",
    "r.json()"
   ]
  },
  {
   "cell_type": "markdown",
   "id": "608a492c-8ab7-4590-9e8a-97d0283d98a8",
   "metadata": {},
   "source": [
    "##### `GET specific task`"
   ]
  },
  {
   "cell_type": "code",
   "execution_count": 26,
   "id": "920dcd11-dbdf-40ec-b8e4-8d77e2256191",
   "metadata": {},
   "outputs": [
    {
     "name": "stdout",
     "output_type": "stream",
     "text": [
      "Status code: 200\n"
     ]
    },
    {
     "data": {
      "text/plain": [
       "{'task': {'description': 'Milk, Cheese, Pizza, Fruit, Tylenol',\n",
       "  'done': False,\n",
       "  'id': 1,\n",
       "  'title': 'Buy groceries'}}"
      ]
     },
     "execution_count": 26,
     "metadata": {},
     "output_type": "execute_result"
    }
   ],
   "source": [
    "r = requests.get('http://127.0.0.1:5000/todo/api/v1.0/tasks/1')\n",
    "print(f\"Status code: {r.status_code}\")\n",
    "r.json()"
   ]
  },
  {
   "cell_type": "markdown",
   "id": "41ed8717-6413-4df6-bf61-af28685259e6",
   "metadata": {},
   "source": [
    "##### `POST new task`"
   ]
  },
  {
   "cell_type": "code",
   "execution_count": 27,
   "id": "986426a3-cf6a-4e3c-ace2-870208bc1e0e",
   "metadata": {},
   "outputs": [
    {
     "name": "stdout",
     "output_type": "stream",
     "text": [
      "201\n"
     ]
    },
    {
     "data": {
      "text/plain": [
       "{'task': {'description': 'New info',\n",
       "  'done': False,\n",
       "  'id': 3,\n",
       "  'title': 'New Task'}}"
      ]
     },
     "execution_count": 27,
     "metadata": {},
     "output_type": "execute_result"
    }
   ],
   "source": [
    "r = requests.post(\n",
    "    'http://127.0.0.1:5000/todo/api/v1.0/tasks',\n",
    "    json={'title': 'New Task', 'description': 'New info'}\n",
    ")\n",
    "\n",
    "print(r.status_code)\n",
    "r.json()"
   ]
  },
  {
   "cell_type": "code",
   "execution_count": 28,
   "id": "4b6bcd73-5bb7-455b-991d-3dedbdd615e4",
   "metadata": {},
   "outputs": [
    {
     "name": "stdout",
     "output_type": "stream",
     "text": [
      "200\n",
      "{\n",
      "    \"tasks\": [\n",
      "        {\n",
      "            \"description\": \"Milk, Cheese, Pizza, Fruit, Tylenol\",\n",
      "            \"done\": false,\n",
      "            \"id\": 1,\n",
      "            \"title\": \"Buy groceries\"\n",
      "        },\n",
      "        {\n",
      "            \"description\": \"Need to find a good Python tutorial on the web\",\n",
      "            \"done\": false,\n",
      "            \"id\": 2,\n",
      "            \"title\": \"Learn Python\"\n",
      "        },\n",
      "        {\n",
      "            \"description\": \"New info\",\n",
      "            \"done\": false,\n",
      "            \"id\": 3,\n",
      "            \"title\": \"New Task\"\n",
      "        }\n",
      "    ]\n",
      "}\n"
     ]
    }
   ],
   "source": [
    "r = requests.get('http://127.0.0.1:5000/todo/api/v1.0/tasks')\n",
    "print(r.status_code)\n",
    "\n",
    "content = json.loads(r.content)\n",
    "print(json.dumps(content, indent=4, sort_keys=True))"
   ]
  },
  {
   "cell_type": "markdown",
   "id": "7cd97bab-0971-4d9d-8b8c-1d9e4c5da076",
   "metadata": {},
   "source": [
    "##### `PUT task`"
   ]
  },
  {
   "cell_type": "code",
   "execution_count": 29,
   "id": "a4eb127a-d5a6-4423-be10-9c0c9302ea30",
   "metadata": {},
   "outputs": [
    {
     "name": "stdout",
     "output_type": "stream",
     "text": [
      "200\n",
      "{\n",
      "    \"task\": {\n",
      "        \"description\": \"Milk, Cheese, Pizza, Fruit, Tylenol\",\n",
      "        \"done\": true,\n",
      "        \"id\": 1,\n",
      "        \"title\": \"Buy groceries\"\n",
      "    }\n",
      "}\n"
     ]
    }
   ],
   "source": [
    "r = requests.put('http://127.0.0.1:5000/todo/api/v1.0/tasks/1', json={'done': True})\n",
    "print(r.status_code)\n",
    "\n",
    "content = json.loads(r.content)\n",
    "print(json.dumps(content, indent=4, sort_keys=True))"
   ]
  },
  {
   "cell_type": "markdown",
   "id": "9f61d848-eda3-4418-9026-6af8d04f8de5",
   "metadata": {},
   "source": [
    "##### `DELETE task`"
   ]
  },
  {
   "cell_type": "code",
   "execution_count": 30,
   "id": "bbdbb277-0237-43a1-bf94-adcc86ae984e",
   "metadata": {},
   "outputs": [
    {
     "name": "stdout",
     "output_type": "stream",
     "text": [
      "200\n",
      "{\n",
      "    \"result\": true\n",
      "}\n"
     ]
    }
   ],
   "source": [
    "r = requests.delete('http://127.0.0.1:5000/todo/api/v1.0/tasks/1')\n",
    "print(r.status_code)\n",
    "\n",
    "content = json.loads(r.content)\n",
    "print(json.dumps(content, indent=4, sort_keys=True))"
   ]
  },
  {
   "cell_type": "code",
   "execution_count": 31,
   "id": "df2da641-7110-443e-97e8-a98d781e0deb",
   "metadata": {},
   "outputs": [
    {
     "name": "stdout",
     "output_type": "stream",
     "text": [
      "200\n",
      "{\n",
      "    \"tasks\": [\n",
      "        {\n",
      "            \"description\": \"Need to find a good Python tutorial on the web\",\n",
      "            \"done\": false,\n",
      "            \"id\": 2,\n",
      "            \"title\": \"Learn Python\"\n",
      "        },\n",
      "        {\n",
      "            \"description\": \"New info\",\n",
      "            \"done\": false,\n",
      "            \"id\": 3,\n",
      "            \"title\": \"New Task\"\n",
      "        }\n",
      "    ]\n",
      "}\n"
     ]
    }
   ],
   "source": [
    "r = requests.get('http://127.0.0.1:5000/todo/api/v1.0/tasks')\n",
    "print(r.status_code)\n",
    "\n",
    "content = json.loads(r.content)\n",
    "print(json.dumps(content, indent=4, sort_keys=True))"
   ]
  },
  {
   "cell_type": "code",
   "execution_count": null,
   "id": "97252a0e-5998-4f35-a04d-5c1f732426f2",
   "metadata": {},
   "outputs": [],
   "source": []
  }
 ],
 "metadata": {
  "kernelspec": {
   "display_name": "Python 3 (ipykernel)",
   "language": "python",
   "name": "python3"
  },
  "language_info": {
   "codemirror_mode": {
    "name": "ipython",
    "version": 3
   },
   "file_extension": ".py",
   "mimetype": "text/x-python",
   "name": "python",
   "nbconvert_exporter": "python",
   "pygments_lexer": "ipython3",
   "version": "3.9.6"
  }
 },
 "nbformat": 4,
 "nbformat_minor": 5
}
