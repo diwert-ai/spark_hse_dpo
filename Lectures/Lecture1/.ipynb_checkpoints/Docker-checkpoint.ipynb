{
 "cells": [
  {
   "cell_type": "markdown",
   "id": "b8f9a096-002c-4675-abf1-1d06907ff988",
   "metadata": {},
   "source": [
    "### `Установка docker на Linux`"
   ]
  },
  {
   "cell_type": "markdown",
   "id": "3f0e6231-f32a-44e8-ab96-4ac184a229b8",
   "metadata": {},
   "source": [
    "```bash\n",
    "> curl -fsSL https://get.docker.com -o get-docker.sh\n",
    "> sudo sh get-docker.sh\n",
    "> sudo groupadd docker\n",
    "> sudo gpasswd -a $USER docker\n",
    "> newgrp docker \n",
    "```"
   ]
  },
  {
   "cell_type": "markdown",
   "id": "7d28917e-fc33-4027-a54d-eee1b063d547",
   "metadata": {},
   "source": [
    "Проверить, что всё установилось можно через команду:\n",
    "\n",
    "```bash\n",
    "docker --version\n",
    "```"
   ]
  },
  {
   "cell_type": "markdown",
   "id": "74bf0310-eb3d-4a63-81f3-1a58d2189ea6",
   "metadata": {},
   "source": [
    "### `Демонстрация`"
   ]
  },
  {
   "cell_type": "markdown",
   "id": "a0e17ee2-6eb3-4774-89b6-08d39f57bacc",
   "metadata": {},
   "source": [
    "#### `1. Простейший пример. Docker-hub`"
   ]
  },
  {
   "cell_type": "markdown",
   "id": "e62b5b51-2f60-406c-a18b-4b678b2149fe",
   "metadata": {},
   "source": [
    "```bash\n",
    "docker pull hello-world\n",
    "docker image ls\n",
    "docker run hello-world\n",
    "docker container ls -a\n",
    "docker rm \"<CONTAINER_ID>\"\n",
    "```"
   ]
  },
  {
   "cell_type": "markdown",
   "id": "b7d24eae-d28b-448a-babe-50f967a49949",
   "metadata": {},
   "source": [
    "#### `2. Docker-hub. Ubuntu`\n",
    "\n",
    "* Первый контейнер, который можно применять на практике\n",
    "* Рассказ про выполнение команд внутри контейнера (на примере `ls`)\n",
    "* Обзор флагов запуска (`--rm`, `-i`, `-t`, `-d`, `-p`, `-v`)."
   ]
  },
  {
   "cell_type": "markdown",
   "id": "994c963c-fbdc-463a-8868-8557c12ea27c",
   "metadata": {},
   "source": [
    "```bash\n",
    "docker pull ubuntu\n",
    "docker image ls\n",
    "docker run ubuntu ls\n",
    "docker rm \"<CONTAINER_ID>\"\n",
    "# Запуск с удалением по завершению\n",
    "docker run --rm ubuntu ls\n",
    "# Запуск с подключением к псевдоконсоли\n",
    "docker run -i -t ubuntu bash\n",
    "```"
   ]
  },
  {
   "cell_type": "markdown",
   "id": "cabe9560-27b2-4488-ae9d-9f433fac16b5",
   "metadata": {},
   "source": [
    "#### `3.`\n",
    "* Демонстрация изменений временной файловой системы внутри контейнера\n",
    "* Уничтожение пространства процесса"
   ]
  },
  {
   "cell_type": "markdown",
   "id": "e9bb335b-b360-47c5-82dc-0d3148da7aa2",
   "metadata": {},
   "source": [
    " ```bash\n",
    " # Запуск с комбинацией -i -t позволяет выполнять detach комбинацией ^P^Q внутри контейнера\n",
    " docker run -i -t ubuntu bash\n",
    " >> echo \"Hello World\" > ~/test.txt\n",
    " >> cat ~/test.txt\n",
    " # Если был указан флаг --rm, то контейнер после завершения будет удалён вместе с его файловой системой\n",
    " # При отсутствии этого флага уничтожается только пространство процессов, а файловая система остаётся нетронутой\n",
    " >> exit\n",
    " docker ps -a\n",
    " docker start -i \"<CONTAINER_ID>\"\n",
    " # Видно, что состояние файловой системы не поменялось\n",
    " >> cat ~/test.txt\n",
    " ```"
   ]
  },
  {
   "cell_type": "markdown",
   "id": "63b6d720-f331-4bc7-9f24-fe153b3d16d4",
   "metadata": {},
   "source": [
    "#### `4.`\n",
    "* Демонстрация работы с пространством процессов\n",
    "* Отсоединение от контейнера\n",
    "* Фоновая работа"
   ]
  },
  {
   "cell_type": "markdown",
   "id": "051e4b43-6c1b-4126-9e62-36825ca6bd58",
   "metadata": {},
   "source": [
    "```bash\n",
    "docker run -i -t ubuntu bash\n",
    ">> apt update && apt install -y tmux\n",
    "# Создаём фоновое приложение\n",
    ">> tmux new -s run\n",
    ">> while true; do echo >> test.txt; sleep 1; done;\n",
    ">> ^B D\n",
    ">> exit\n",
    "docker start -i \"<CONTAINER_ID>\"\n",
    "# Видим, что выход из контейнера таким образом действительно уничтожает пространство процессов\n",
    ">> tmux ls\n",
    "# Создаём фоновое приложение ещё раз\n",
    ">> tmux new -s run\n",
    ">> while true; do echo \"1\" >> test.txt; sleep 1; done;\n",
    ">> ^B D\n",
    "# Отсоединяемся от контейнера\n",
    ">> ^P ^Q\n",
    "docker start -i \"<CONTAINER_ID>\"\n",
    "# Видим, что пространство процессов осталось нетронутым\n",
    ">> tmux ls\n",
    ">> exit\n",
    "\n",
    "# Для запуска в фоне можно использовать флаг -d\n",
    "docker run --rm -d ubuntu bash -c \"while true; do echo '0'; sleep 1; done;\"\n",
    "\n",
    "# Зайти в работающий контейнер под новым sh-процессом\n",
    "docker exec -ti \"<CONTAINER_ID>\" bash\n",
    "# Видим, что появился ещё один процесс bash\n",
    ">> ps aux\n",
    "```"
   ]
  },
  {
   "cell_type": "markdown",
   "id": "78b2d63c-80db-4fec-b5b2-4a52fe32cea2",
   "metadata": {},
   "source": [
    "#### `5. Сборка контейнеров из DockerFile`"
   ]
  },
  {
   "cell_type": "code",
   "execution_count": 1,
   "id": "f9d94b80-ff70-4390-be40-c2dad48cbbbf",
   "metadata": {},
   "outputs": [
    {
     "data": {
      "text/html": [
       "<style>pre { line-height: 125%; }\n",
       "td.linenos .normal { color: inherit; background-color: transparent; padding-left: 5px; padding-right: 5px; }\n",
       "span.linenos { color: inherit; background-color: transparent; padding-left: 5px; padding-right: 5px; }\n",
       "td.linenos .special { color: #000000; background-color: #ffffc0; padding-left: 5px; padding-right: 5px; }\n",
       "span.linenos.special { color: #000000; background-color: #ffffc0; padding-left: 5px; padding-right: 5px; }\n",
       ".output_html .hll { background-color: #ffffcc }\n",
       ".output_html { background: #f8f8f8; }\n",
       ".output_html .c { color: #3D7B7B; font-style: italic } /* Comment */\n",
       ".output_html .err { border: 1px solid #FF0000 } /* Error */\n",
       ".output_html .k { color: #008000; font-weight: bold } /* Keyword */\n",
       ".output_html .o { color: #666666 } /* Operator */\n",
       ".output_html .ch { color: #3D7B7B; font-style: italic } /* Comment.Hashbang */\n",
       ".output_html .cm { color: #3D7B7B; font-style: italic } /* Comment.Multiline */\n",
       ".output_html .cp { color: #9C6500 } /* Comment.Preproc */\n",
       ".output_html .cpf { color: #3D7B7B; font-style: italic } /* Comment.PreprocFile */\n",
       ".output_html .c1 { color: #3D7B7B; font-style: italic } /* Comment.Single */\n",
       ".output_html .cs { color: #3D7B7B; font-style: italic } /* Comment.Special */\n",
       ".output_html .gd { color: #A00000 } /* Generic.Deleted */\n",
       ".output_html .ge { font-style: italic } /* Generic.Emph */\n",
       ".output_html .ges { font-weight: bold; font-style: italic } /* Generic.EmphStrong */\n",
       ".output_html .gr { color: #E40000 } /* Generic.Error */\n",
       ".output_html .gh { color: #000080; font-weight: bold } /* Generic.Heading */\n",
       ".output_html .gi { color: #008400 } /* Generic.Inserted */\n",
       ".output_html .go { color: #717171 } /* Generic.Output */\n",
       ".output_html .gp { color: #000080; font-weight: bold } /* Generic.Prompt */\n",
       ".output_html .gs { font-weight: bold } /* Generic.Strong */\n",
       ".output_html .gu { color: #800080; font-weight: bold } /* Generic.Subheading */\n",
       ".output_html .gt { color: #0044DD } /* Generic.Traceback */\n",
       ".output_html .kc { color: #008000; font-weight: bold } /* Keyword.Constant */\n",
       ".output_html .kd { color: #008000; font-weight: bold } /* Keyword.Declaration */\n",
       ".output_html .kn { color: #008000; font-weight: bold } /* Keyword.Namespace */\n",
       ".output_html .kp { color: #008000 } /* Keyword.Pseudo */\n",
       ".output_html .kr { color: #008000; font-weight: bold } /* Keyword.Reserved */\n",
       ".output_html .kt { color: #B00040 } /* Keyword.Type */\n",
       ".output_html .m { color: #666666 } /* Literal.Number */\n",
       ".output_html .s { color: #BA2121 } /* Literal.String */\n",
       ".output_html .na { color: #687822 } /* Name.Attribute */\n",
       ".output_html .nb { color: #008000 } /* Name.Builtin */\n",
       ".output_html .nc { color: #0000FF; font-weight: bold } /* Name.Class */\n",
       ".output_html .no { color: #880000 } /* Name.Constant */\n",
       ".output_html .nd { color: #AA22FF } /* Name.Decorator */\n",
       ".output_html .ni { color: #717171; font-weight: bold } /* Name.Entity */\n",
       ".output_html .ne { color: #CB3F38; font-weight: bold } /* Name.Exception */\n",
       ".output_html .nf { color: #0000FF } /* Name.Function */\n",
       ".output_html .nl { color: #767600 } /* Name.Label */\n",
       ".output_html .nn { color: #0000FF; font-weight: bold } /* Name.Namespace */\n",
       ".output_html .nt { color: #008000; font-weight: bold } /* Name.Tag */\n",
       ".output_html .nv { color: #19177C } /* Name.Variable */\n",
       ".output_html .ow { color: #AA22FF; font-weight: bold } /* Operator.Word */\n",
       ".output_html .w { color: #bbbbbb } /* Text.Whitespace */\n",
       ".output_html .mb { color: #666666 } /* Literal.Number.Bin */\n",
       ".output_html .mf { color: #666666 } /* Literal.Number.Float */\n",
       ".output_html .mh { color: #666666 } /* Literal.Number.Hex */\n",
       ".output_html .mi { color: #666666 } /* Literal.Number.Integer */\n",
       ".output_html .mo { color: #666666 } /* Literal.Number.Oct */\n",
       ".output_html .sa { color: #BA2121 } /* Literal.String.Affix */\n",
       ".output_html .sb { color: #BA2121 } /* Literal.String.Backtick */\n",
       ".output_html .sc { color: #BA2121 } /* Literal.String.Char */\n",
       ".output_html .dl { color: #BA2121 } /* Literal.String.Delimiter */\n",
       ".output_html .sd { color: #BA2121; font-style: italic } /* Literal.String.Doc */\n",
       ".output_html .s2 { color: #BA2121 } /* Literal.String.Double */\n",
       ".output_html .se { color: #AA5D1F; font-weight: bold } /* Literal.String.Escape */\n",
       ".output_html .sh { color: #BA2121 } /* Literal.String.Heredoc */\n",
       ".output_html .si { color: #A45A77; font-weight: bold } /* Literal.String.Interpol */\n",
       ".output_html .sx { color: #008000 } /* Literal.String.Other */\n",
       ".output_html .sr { color: #A45A77 } /* Literal.String.Regex */\n",
       ".output_html .s1 { color: #BA2121 } /* Literal.String.Single */\n",
       ".output_html .ss { color: #19177C } /* Literal.String.Symbol */\n",
       ".output_html .bp { color: #008000 } /* Name.Builtin.Pseudo */\n",
       ".output_html .fm { color: #0000FF } /* Name.Function.Magic */\n",
       ".output_html .vc { color: #19177C } /* Name.Variable.Class */\n",
       ".output_html .vg { color: #19177C } /* Name.Variable.Global */\n",
       ".output_html .vi { color: #19177C } /* Name.Variable.Instance */\n",
       ".output_html .vm { color: #19177C } /* Name.Variable.Magic */\n",
       ".output_html .il { color: #666666 } /* Literal.Number.Integer.Long */</style><div class=\"highlight\"><pre><span></span><span class=\"kn\">import</span> <span class=\"nn\">os</span>\n",
       "\n",
       "\n",
       "<span class=\"k\">if</span> <span class=\"vm\">__name__</span> <span class=\"o\">==</span> <span class=\"s1\">&#39;__main__&#39;</span><span class=\"p\">:</span>\n",
       "    <span class=\"k\">if</span> <span class=\"n\">os</span><span class=\"o\">.</span><span class=\"n\">path</span><span class=\"o\">.</span><span class=\"n\">exists</span><span class=\"p\">(</span><span class=\"s1\">&#39;/root/data/data.txt&#39;</span><span class=\"p\">):</span>\n",
       "        <span class=\"k\">with</span> <span class=\"nb\">open</span><span class=\"p\">(</span><span class=\"s1\">&#39;/root/data/data.txt&#39;</span><span class=\"p\">,</span> <span class=\"s1\">&#39;r&#39;</span><span class=\"p\">,</span> <span class=\"n\">encoding</span><span class=\"o\">=</span><span class=\"s1\">&#39;utf-8&#39;</span><span class=\"p\">)</span> <span class=\"k\">as</span> <span class=\"n\">infile</span><span class=\"p\">:</span>\n",
       "            <span class=\"n\">result</span> <span class=\"o\">=</span> <span class=\"nb\">sum</span><span class=\"p\">((</span><span class=\"nb\">float</span><span class=\"p\">(</span><span class=\"n\">line</span><span class=\"o\">.</span><span class=\"n\">strip</span><span class=\"p\">())</span> <span class=\"k\">for</span> <span class=\"n\">line</span> <span class=\"ow\">in</span> <span class=\"n\">infile</span><span class=\"p\">))</span>\n",
       "            <span class=\"nb\">print</span><span class=\"p\">(</span><span class=\"s1\">&#39;Sum is equal to : </span><span class=\"si\">{0:.3f}</span><span class=\"s1\">&#39;</span><span class=\"o\">.</span><span class=\"n\">format</span><span class=\"p\">(</span><span class=\"n\">result</span><span class=\"p\">))</span>\n",
       "    <span class=\"k\">else</span><span class=\"p\">:</span>\n",
       "        <span class=\"nb\">print</span><span class=\"p\">(</span><span class=\"s1\">&#39;File /root/data/data.txt does not exist&#39;</span><span class=\"p\">)</span>\n",
       "\n",
       "    <span class=\"nb\">print</span><span class=\"p\">(</span><span class=\"s1\">&#39;SECRET_KEY env variable is equal to: </span><span class=\"si\">{0}</span><span class=\"s1\">&#39;</span><span class=\"o\">.</span><span class=\"n\">format</span><span class=\"p\">(</span><span class=\"n\">os</span><span class=\"o\">.</span><span class=\"n\">environ</span><span class=\"o\">.</span><span class=\"n\">get</span><span class=\"p\">(</span><span class=\"s1\">&#39;SECRET_KEY&#39;</span><span class=\"p\">,</span> <span class=\"s1\">&#39;&#39;</span><span class=\"p\">)))</span>\n",
       "</pre></div>\n"
      ],
      "text/latex": [
       "\\begin{Verbatim}[commandchars=\\\\\\{\\}]\n",
       "\\PY{k+kn}{import} \\PY{n+nn}{os}\n",
       "\n",
       "\n",
       "\\PY{k}{if} \\PY{n+nv+vm}{\\PYZus{}\\PYZus{}name\\PYZus{}\\PYZus{}} \\PY{o}{==} \\PY{l+s+s1}{\\PYZsq{}}\\PY{l+s+s1}{\\PYZus{}\\PYZus{}main\\PYZus{}\\PYZus{}}\\PY{l+s+s1}{\\PYZsq{}}\\PY{p}{:}\n",
       "    \\PY{k}{if} \\PY{n}{os}\\PY{o}{.}\\PY{n}{path}\\PY{o}{.}\\PY{n}{exists}\\PY{p}{(}\\PY{l+s+s1}{\\PYZsq{}}\\PY{l+s+s1}{/root/data/data.txt}\\PY{l+s+s1}{\\PYZsq{}}\\PY{p}{)}\\PY{p}{:}\n",
       "        \\PY{k}{with} \\PY{n+nb}{open}\\PY{p}{(}\\PY{l+s+s1}{\\PYZsq{}}\\PY{l+s+s1}{/root/data/data.txt}\\PY{l+s+s1}{\\PYZsq{}}\\PY{p}{,} \\PY{l+s+s1}{\\PYZsq{}}\\PY{l+s+s1}{r}\\PY{l+s+s1}{\\PYZsq{}}\\PY{p}{,} \\PY{n}{encoding}\\PY{o}{=}\\PY{l+s+s1}{\\PYZsq{}}\\PY{l+s+s1}{utf\\PYZhy{}8}\\PY{l+s+s1}{\\PYZsq{}}\\PY{p}{)} \\PY{k}{as} \\PY{n}{infile}\\PY{p}{:}\n",
       "            \\PY{n}{result} \\PY{o}{=} \\PY{n+nb}{sum}\\PY{p}{(}\\PY{p}{(}\\PY{n+nb}{float}\\PY{p}{(}\\PY{n}{line}\\PY{o}{.}\\PY{n}{strip}\\PY{p}{(}\\PY{p}{)}\\PY{p}{)} \\PY{k}{for} \\PY{n}{line} \\PY{o+ow}{in} \\PY{n}{infile}\\PY{p}{)}\\PY{p}{)}\n",
       "            \\PY{n+nb}{print}\\PY{p}{(}\\PY{l+s+s1}{\\PYZsq{}}\\PY{l+s+s1}{Sum is equal to : }\\PY{l+s+si}{\\PYZob{}0:.3f\\PYZcb{}}\\PY{l+s+s1}{\\PYZsq{}}\\PY{o}{.}\\PY{n}{format}\\PY{p}{(}\\PY{n}{result}\\PY{p}{)}\\PY{p}{)}\n",
       "    \\PY{k}{else}\\PY{p}{:}\n",
       "        \\PY{n+nb}{print}\\PY{p}{(}\\PY{l+s+s1}{\\PYZsq{}}\\PY{l+s+s1}{File /root/data/data.txt does not exist}\\PY{l+s+s1}{\\PYZsq{}}\\PY{p}{)}\n",
       "\n",
       "    \\PY{n+nb}{print}\\PY{p}{(}\\PY{l+s+s1}{\\PYZsq{}}\\PY{l+s+s1}{SECRET\\PYZus{}KEY env variable is equal to: }\\PY{l+s+si}{\\PYZob{}0\\PYZcb{}}\\PY{l+s+s1}{\\PYZsq{}}\\PY{o}{.}\\PY{n}{format}\\PY{p}{(}\\PY{n}{os}\\PY{o}{.}\\PY{n}{environ}\\PY{o}{.}\\PY{n}{get}\\PY{p}{(}\\PY{l+s+s1}{\\PYZsq{}}\\PY{l+s+s1}{SECRET\\PYZus{}KEY}\\PY{l+s+s1}{\\PYZsq{}}\\PY{p}{,} \\PY{l+s+s1}{\\PYZsq{}}\\PY{l+s+s1}{\\PYZsq{}}\\PY{p}{)}\\PY{p}{)}\\PY{p}{)}\n",
       "\\end{Verbatim}\n"
      ],
      "text/plain": [
       "import os\n",
       "\n",
       "\n",
       "if __name__ == '__main__':\n",
       "    if os.path.exists('/root/data/data.txt'):\n",
       "        with open('/root/data/data.txt', 'r', encoding='utf-8') as infile:\n",
       "            result = sum((float(line.strip()) for line in infile))\n",
       "            print('Sum is equal to : {0:.3f}'.format(result))\n",
       "    else:\n",
       "        print('File /root/data/data.txt does not exist')\n",
       "\n",
       "    print('SECRET_KEY env variable is equal to: {0}'.format(os.environ.get('SECRET_KEY', '')))"
      ]
     },
     "execution_count": 1,
     "metadata": {},
     "output_type": "execute_result"
    }
   ],
   "source": [
    "from IPython.display import Code\n",
    "Code('./example.py', language='python')"
   ]
  },
  {
   "cell_type": "code",
   "execution_count": 2,
   "id": "46b7c422-d356-4673-b095-82cc312dc52e",
   "metadata": {},
   "outputs": [
    {
     "data": {
      "text/plain": [
       "\u001b[0;36m1.234\u001b[0m\u001b[0;34m\u001b[0m\n",
       "\u001b[0;34m\u001b[0m\u001b[0;36m2.345\u001b[0m\u001b[0;34m\u001b[0m\n",
       "\u001b[0;34m\u001b[0m\u001b[0;36m3.456\u001b[0m\u001b[0;34m\u001b[0m\u001b[0;34m\u001b[0m\u001b[0m\n"
      ]
     },
     "metadata": {},
     "output_type": "display_data"
    }
   ],
   "source": [
    "with open('data.txt', 'w') as data_file:\n",
    "    data_file.write('1.234\\n2.345\\n3.456')\n",
    "%pycat data.txt"
   ]
  },
  {
   "cell_type": "code",
   "execution_count": 3,
   "id": "b254009b-d954-47d5-81ce-94cc39d2665a",
   "metadata": {},
   "outputs": [
    {
     "data": {
      "text/html": [
       "<style>pre { line-height: 125%; }\n",
       "td.linenos .normal { color: inherit; background-color: transparent; padding-left: 5px; padding-right: 5px; }\n",
       "span.linenos { color: inherit; background-color: transparent; padding-left: 5px; padding-right: 5px; }\n",
       "td.linenos .special { color: #000000; background-color: #ffffc0; padding-left: 5px; padding-right: 5px; }\n",
       "span.linenos.special { color: #000000; background-color: #ffffc0; padding-left: 5px; padding-right: 5px; }\n",
       ".output_html .hll { background-color: #ffffcc }\n",
       ".output_html { background: #f8f8f8; }\n",
       ".output_html .c { color: #3D7B7B; font-style: italic } /* Comment */\n",
       ".output_html .err { border: 1px solid #FF0000 } /* Error */\n",
       ".output_html .k { color: #008000; font-weight: bold } /* Keyword */\n",
       ".output_html .o { color: #666666 } /* Operator */\n",
       ".output_html .ch { color: #3D7B7B; font-style: italic } /* Comment.Hashbang */\n",
       ".output_html .cm { color: #3D7B7B; font-style: italic } /* Comment.Multiline */\n",
       ".output_html .cp { color: #9C6500 } /* Comment.Preproc */\n",
       ".output_html .cpf { color: #3D7B7B; font-style: italic } /* Comment.PreprocFile */\n",
       ".output_html .c1 { color: #3D7B7B; font-style: italic } /* Comment.Single */\n",
       ".output_html .cs { color: #3D7B7B; font-style: italic } /* Comment.Special */\n",
       ".output_html .gd { color: #A00000 } /* Generic.Deleted */\n",
       ".output_html .ge { font-style: italic } /* Generic.Emph */\n",
       ".output_html .ges { font-weight: bold; font-style: italic } /* Generic.EmphStrong */\n",
       ".output_html .gr { color: #E40000 } /* Generic.Error */\n",
       ".output_html .gh { color: #000080; font-weight: bold } /* Generic.Heading */\n",
       ".output_html .gi { color: #008400 } /* Generic.Inserted */\n",
       ".output_html .go { color: #717171 } /* Generic.Output */\n",
       ".output_html .gp { color: #000080; font-weight: bold } /* Generic.Prompt */\n",
       ".output_html .gs { font-weight: bold } /* Generic.Strong */\n",
       ".output_html .gu { color: #800080; font-weight: bold } /* Generic.Subheading */\n",
       ".output_html .gt { color: #0044DD } /* Generic.Traceback */\n",
       ".output_html .kc { color: #008000; font-weight: bold } /* Keyword.Constant */\n",
       ".output_html .kd { color: #008000; font-weight: bold } /* Keyword.Declaration */\n",
       ".output_html .kn { color: #008000; font-weight: bold } /* Keyword.Namespace */\n",
       ".output_html .kp { color: #008000 } /* Keyword.Pseudo */\n",
       ".output_html .kr { color: #008000; font-weight: bold } /* Keyword.Reserved */\n",
       ".output_html .kt { color: #B00040 } /* Keyword.Type */\n",
       ".output_html .m { color: #666666 } /* Literal.Number */\n",
       ".output_html .s { color: #BA2121 } /* Literal.String */\n",
       ".output_html .na { color: #687822 } /* Name.Attribute */\n",
       ".output_html .nb { color: #008000 } /* Name.Builtin */\n",
       ".output_html .nc { color: #0000FF; font-weight: bold } /* Name.Class */\n",
       ".output_html .no { color: #880000 } /* Name.Constant */\n",
       ".output_html .nd { color: #AA22FF } /* Name.Decorator */\n",
       ".output_html .ni { color: #717171; font-weight: bold } /* Name.Entity */\n",
       ".output_html .ne { color: #CB3F38; font-weight: bold } /* Name.Exception */\n",
       ".output_html .nf { color: #0000FF } /* Name.Function */\n",
       ".output_html .nl { color: #767600 } /* Name.Label */\n",
       ".output_html .nn { color: #0000FF; font-weight: bold } /* Name.Namespace */\n",
       ".output_html .nt { color: #008000; font-weight: bold } /* Name.Tag */\n",
       ".output_html .nv { color: #19177C } /* Name.Variable */\n",
       ".output_html .ow { color: #AA22FF; font-weight: bold } /* Operator.Word */\n",
       ".output_html .w { color: #bbbbbb } /* Text.Whitespace */\n",
       ".output_html .mb { color: #666666 } /* Literal.Number.Bin */\n",
       ".output_html .mf { color: #666666 } /* Literal.Number.Float */\n",
       ".output_html .mh { color: #666666 } /* Literal.Number.Hex */\n",
       ".output_html .mi { color: #666666 } /* Literal.Number.Integer */\n",
       ".output_html .mo { color: #666666 } /* Literal.Number.Oct */\n",
       ".output_html .sa { color: #BA2121 } /* Literal.String.Affix */\n",
       ".output_html .sb { color: #BA2121 } /* Literal.String.Backtick */\n",
       ".output_html .sc { color: #BA2121 } /* Literal.String.Char */\n",
       ".output_html .dl { color: #BA2121 } /* Literal.String.Delimiter */\n",
       ".output_html .sd { color: #BA2121; font-style: italic } /* Literal.String.Doc */\n",
       ".output_html .s2 { color: #BA2121 } /* Literal.String.Double */\n",
       ".output_html .se { color: #AA5D1F; font-weight: bold } /* Literal.String.Escape */\n",
       ".output_html .sh { color: #BA2121 } /* Literal.String.Heredoc */\n",
       ".output_html .si { color: #A45A77; font-weight: bold } /* Literal.String.Interpol */\n",
       ".output_html .sx { color: #008000 } /* Literal.String.Other */\n",
       ".output_html .sr { color: #A45A77 } /* Literal.String.Regex */\n",
       ".output_html .s1 { color: #BA2121 } /* Literal.String.Single */\n",
       ".output_html .ss { color: #19177C } /* Literal.String.Symbol */\n",
       ".output_html .bp { color: #008000 } /* Name.Builtin.Pseudo */\n",
       ".output_html .fm { color: #0000FF } /* Name.Function.Magic */\n",
       ".output_html .vc { color: #19177C } /* Name.Variable.Class */\n",
       ".output_html .vg { color: #19177C } /* Name.Variable.Global */\n",
       ".output_html .vi { color: #19177C } /* Name.Variable.Instance */\n",
       ".output_html .vm { color: #19177C } /* Name.Variable.Magic */\n",
       ".output_html .il { color: #666666 } /* Literal.Number.Integer.Long */</style><div class=\"highlight\"><pre><span></span>./Dockerfile\n",
       "</pre></div>\n"
      ],
      "text/latex": [
       "\\begin{Verbatim}[commandchars=\\\\\\{\\}]\n",
       "./Dockerfile\n",
       "\\end{Verbatim}\n"
      ],
      "text/plain": [
       "./Dockerfile"
      ]
     },
     "execution_count": 3,
     "metadata": {},
     "output_type": "execute_result"
    }
   ],
   "source": [
    "Code('./Dockerfile', language='Dockerfile')"
   ]
  },
  {
   "cell_type": "markdown",
   "id": "7c9725b2-a02e-4529-a542-68115628d4de",
   "metadata": {},
   "source": [
    "```bash\n",
    "# Сборка контейнера\n",
    "docker build -t test_app:1.0 .\n",
    "\n",
    "# Сборка контейнера c параметром\n",
    "docker build -t test_app:1.0 --build-arg \"PROGRAMM_NAME=docker_example\" .\n",
    "\n",
    "# Запуск контейнера\n",
    "docker run test_app\n",
    "\n",
    "# Запуск с переменными окружения\n",
    "docker run -e SECRET_KEY:hi test_app:1.0\n",
    "    \n",
    "# Запуск с монтированием директорий\n",
    "docker run -e SECRET_KEY=hi -v \"./:/root/data\" test_app\n",
    "```"
   ]
  },
  {
   "cell_type": "markdown",
   "id": "9f9c8389-7c92-4f5b-a672-54d2051b2bf7",
   "metadata": {},
   "source": [
    "### `Шпаргалка по основным командам Docker`"
   ]
  },
  {
   "cell_type": "markdown",
   "id": "684620ca-5a49-4dc5-9f3e-e26977baeb80",
   "metadata": {},
   "source": [
    "```bash\n",
    "# Скачать контейнер из репозитория\n",
    "docker pull container_name\n",
    "```"
   ]
  },
  {
   "cell_type": "markdown",
   "id": "dd36908b-450c-4b5f-8d23-93da59345949",
   "metadata": {},
   "source": [
    "```bash\n",
    "# Запустить контейнер\n",
    "docker run \\\n",
    "    [-d] [-i] [-t] [-p 1234:5000] [-v local_path:container_path] [-w container_working_path] container_name [COMMAND]\n",
    "# Здесь\n",
    "# -d -- запуск в фоновом режиме\n",
    "# -i -- запуск в интерактивном режиме, т.е. даёт возможность взаимодействовать с контейнером через ввод\n",
    "# -t -- создать псевдокоммандную строку\n",
    "# -p -- пробросить порт контейнера 5000 на локальный порт 1234\n",
    "# -v -- примонтировать локальный файл/папку local_path внутрь контейнера по пути container_path\n",
    "# -w -- установить рабочую директорию внутри контейнера\n",
    "# container_name -- имя контейнера\n",
    "# COMMAND -- команда, которую нужно запустить внутри контейнера\n",
    "\n",
    "# Например:\n",
    "# docker run hello-world       # запускает команду по умолчанию внутри контейнера hello-world\n",
    "# docker -i -t ubuntu bash     # запускает командную строку bash внутри контейнера ubuntu выполняя её связывание\n",
    "#                                с \"локальной\" командой строкой (-t) и позволяя ввод в командную строку (-i) \n",
    "```"
   ]
  },
  {
   "cell_type": "code",
   "execution_count": null,
   "id": "79064474-9a09-451c-bc67-0e781995ddec",
   "metadata": {},
   "outputs": [],
   "source": []
  },
  {
   "cell_type": "code",
   "execution_count": null,
   "id": "f0cf5961-966f-4d5c-8bfe-4fee3385255e",
   "metadata": {},
   "outputs": [],
   "source": []
  }
 ],
 "metadata": {
  "kernelspec": {
   "display_name": "Python 3 (ipykernel)",
   "language": "python",
   "name": "python3"
  },
  "language_info": {
   "codemirror_mode": {
    "name": "ipython",
    "version": 3
   },
   "file_extension": ".py",
   "mimetype": "text/x-python",
   "name": "python",
   "nbconvert_exporter": "python",
   "pygments_lexer": "ipython3",
   "version": "3.9.6"
  }
 },
 "nbformat": 4,
 "nbformat_minor": 5
}
