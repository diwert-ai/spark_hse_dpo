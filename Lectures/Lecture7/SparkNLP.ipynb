{
  "nbformat": 4,
  "nbformat_minor": 0,
  "metadata": {
    "colab": {
      "provenance": []
    },
    "kernelspec": {
      "name": "python3",
      "display_name": "Python 3"
    },
    "language_info": {
      "name": "python"
    }
  },
  "cells": [
    {
      "cell_type": "markdown",
      "source": [
        "## Подготовка spark-окружения в google colab"
      ],
      "metadata": {
        "id": "Dkv10qeq1D22"
      }
    },
    {
      "cell_type": "code",
      "execution_count": 1,
      "metadata": {
        "id": "ywEFVldzxo3E"
      },
      "outputs": [],
      "source": [
        "!apt-get install openjdk-8-jdk-headless -qq > /dev/null\n",
        "!wget -q http://archive.apache.org/dist/spark/spark-3.1.1/spark-3.1.1-bin-hadoop3.2.tgz\n",
        "!tar xf spark-3.1.1-bin-hadoop3.2.tgz\n",
        "!pip install -q findspark"
      ]
    },
    {
      "cell_type": "code",
      "source": [
        "!pip install spark-nlp==5.3.0"
      ],
      "metadata": {
        "colab": {
          "base_uri": "https://localhost:8080/"
        },
        "id": "YzK2huPYx63T",
        "outputId": "ef92d3f8-377c-408c-8dbe-3f902e8135d3"
      },
      "execution_count": 2,
      "outputs": [
        {
          "output_type": "stream",
          "name": "stdout",
          "text": [
            "Collecting spark-nlp==5.3.0\n",
            "  Downloading spark_nlp-5.3.0-py2.py3-none-any.whl (564 kB)\n",
            "\u001b[?25l     \u001b[90m━━━━━━━━━━━━━━━━━━━━━━━━━━━━━━━━━━━━━━━━\u001b[0m \u001b[32m0.0/564.8 kB\u001b[0m \u001b[31m?\u001b[0m eta \u001b[36m-:--:--\u001b[0m\r\u001b[2K     \u001b[91m━━━━━━━━\u001b[0m\u001b[91m╸\u001b[0m\u001b[90m━━━━━━━━━━━━━━━━━━━━━━━━━━━━━━━\u001b[0m \u001b[32m122.9/564.8 kB\u001b[0m \u001b[31m3.5 MB/s\u001b[0m eta \u001b[36m0:00:01\u001b[0m\r\u001b[2K     \u001b[91m━━━━━━━━━━━━━━━━━━━━━━━━━━━━━━━━━━━━━\u001b[0m\u001b[91m╸\u001b[0m\u001b[90m━━\u001b[0m \u001b[32m532.5/564.8 kB\u001b[0m \u001b[31m7.3 MB/s\u001b[0m eta \u001b[36m0:00:01\u001b[0m\r\u001b[2K     \u001b[90m━━━━━━━━━━━━━━━━━━━━━━━━━━━━━━━━━━━━━━━━\u001b[0m \u001b[32m564.8/564.8 kB\u001b[0m \u001b[31m6.6 MB/s\u001b[0m eta \u001b[36m0:00:00\u001b[0m\n",
            "\u001b[?25hInstalling collected packages: spark-nlp\n",
            "Successfully installed spark-nlp-5.3.0\n"
          ]
        }
      ]
    },
    {
      "cell_type": "code",
      "source": [
        "!pip install pyspark==3.1.1"
      ],
      "metadata": {
        "colab": {
          "base_uri": "https://localhost:8080/"
        },
        "id": "5mgQJ7dpydF-",
        "outputId": "fa73c810-4cdc-443e-f46b-ee7578e8ef94"
      },
      "execution_count": 3,
      "outputs": [
        {
          "output_type": "stream",
          "name": "stdout",
          "text": [
            "Collecting pyspark==3.1.1\n",
            "  Downloading pyspark-3.1.1.tar.gz (212.3 MB)\n",
            "\u001b[2K     \u001b[90m━━━━━━━━━━━━━━━━━━━━━━━━━━━━━━━━━━━━━━━━\u001b[0m \u001b[32m212.3/212.3 MB\u001b[0m \u001b[31m3.8 MB/s\u001b[0m eta \u001b[36m0:00:00\u001b[0m\n",
            "\u001b[?25h  Preparing metadata (setup.py) ... \u001b[?25l\u001b[?25hdone\n",
            "Collecting py4j==0.10.9 (from pyspark==3.1.1)\n",
            "  Downloading py4j-0.10.9-py2.py3-none-any.whl (198 kB)\n",
            "\u001b[2K     \u001b[90m━━━━━━━━━━━━━━━━━━━━━━━━━━━━━━━━━━━━━━━━\u001b[0m \u001b[32m198.6/198.6 kB\u001b[0m \u001b[31m19.4 MB/s\u001b[0m eta \u001b[36m0:00:00\u001b[0m\n",
            "\u001b[?25hBuilding wheels for collected packages: pyspark\n",
            "  Building wheel for pyspark (setup.py) ... \u001b[?25l\u001b[?25hdone\n",
            "  Created wheel for pyspark: filename=pyspark-3.1.1-py2.py3-none-any.whl size=212767583 sha256=2c7e03bc40d65a842932824d5558775e3eb2ea21c1f0952512f3ce0d407e9410\n",
            "  Stored in directory: /root/.cache/pip/wheels/a0/3f/72/8efd988f9ae041f051c75e6834cd92dd6d13a726e206e8b6f3\n",
            "Successfully built pyspark\n",
            "Installing collected packages: py4j, pyspark\n",
            "  Attempting uninstall: py4j\n",
            "    Found existing installation: py4j 0.10.9.7\n",
            "    Uninstalling py4j-0.10.9.7:\n",
            "      Successfully uninstalled py4j-0.10.9.7\n",
            "Successfully installed py4j-0.10.9 pyspark-3.1.1\n"
          ]
        }
      ]
    },
    {
      "cell_type": "code",
      "source": [
        "import os\n",
        "os.environ[\"JAVA_HOME\"] = \"/usr/lib/jvm/java-8-openjdk-amd64\"\n",
        "os.environ[\"SPARK_HOME\"] = \"/content/spark-3.1.1-bin-hadoop3.2\""
      ],
      "metadata": {
        "id": "0ZGkZR_KxuKN"
      },
      "execution_count": 4,
      "outputs": []
    },
    {
      "cell_type": "markdown",
      "source": [
        "## `Обработка текстов. Spark NLP`"
      ],
      "metadata": {
        "id": "NOHcCjgH1CRU"
      }
    },
    {
      "cell_type": "markdown",
      "source": [
        "Для работы с текстами можно использовать Spark ML, однако, набор средств ограничен. В частности, отсутствуют предобученные модели, включая нейросети.\n",
        "\n",
        "**Spark NLP** поддерживает большое чисто трансформеров и эстиматоров для работы с текстами, включая предобученные нейронные сети."
      ],
      "metadata": {
        "id": "3wXMeFLO1jvi"
      }
    },
    {
      "cell_type": "markdown",
      "source": [
        "Пайплайн работы с текстами может выглядеть следующим образом:\n",
        "1. Загрузка данных в Spark DataFrame\n",
        "2. Преобразование в необходимый для **Spark NLP** тип данных (Document)\n",
        "3. Преобразования с использованием **Spark NLP** (токенизация, стемминг, эмбеддинги, инференс моделей)\n",
        "4. Обратное преобразование к \"обычные\" типы данных\n",
        "5. Применение Spark ML"
      ],
      "metadata": {
        "id": "kYFxWuk41m6Z"
      }
    },
    {
      "cell_type": "markdown",
      "source": [
        "Из преимуществ можно отметить высокую эффективность инференса при наличии большого числа исполнителей.\n",
        "\n",
        "Так, при правильной конфигурации Spark NLP может обгонять в $5$ раз GPU:\n",
        "\n",
        "```text\n",
        "https://github.com/JohnSnowLabs/spark-nlp/issues/570\n",
        "\n",
        "For BertEmbeddings:\n",
        "On a local server with 50 cores and 180G memory:\n",
        "1. 14k sentences take more than 16000 seconds on CPU (27 minutes)\n",
        "2. 14K sentences take around 500 seconds on Tesla P100 GPU (less than 10)\n",
        "3. 17K sentences take around 120 seconds on a CPU-based Spark cluster with 10 executors each 5 cores!\n",
        "This has been tested on a Bert Model with 256 max sentence length and second-to-last-hidden layer which is way slower due to encoding from sentence's context.\n",
        "\n",
        "Two things are very important, first is that Bert is GPU optimized not CPU. The second is, we distribute TensorFlow over Spark so this boost parallelism into prediction which as you can see it beats a single GPU. (now if you have GPU Spark cluster then this would be flying)\n",
        "```\n",
        "\n",
        "Из недостатков можно отметить, что обучение моделей происходит только на драйвере:\n",
        "```text\n",
        "https://github.com/JohnSnowLabs/spark-nlp/issues/9266\n",
        "\n",
        "* Unfortunately, at the moment the trainable annotators can only use Driver and cannot scale (CPU or GPU).\n",
        "* Training in Spark NLP happens inside Driver and only on 1 GPU\n",
        "* Prediction/inference also uses 1 GPU device, however, if you are in a cluster mode (multiple executors) then each machine can have 1 GPU device and that way you can distribute and parallelize the computation over multiple GPU\n",
        "* Currently, due to TensorFlow limitations especially available APIs in Java only 1 GPU per machine is possible\n",
        "```"
      ],
      "metadata": {
        "id": "Qtz3ATok1qgE"
      }
    },
    {
      "cell_type": "code",
      "source": [
        "import pyspark.sql.types as T\n",
        "import pyspark.sql.functions as F\n",
        "from pyspark.sql.window import Window\n",
        "\n",
        "from pyspark.sql import SparkSession\n",
        "from pyspark import SparkConf, SparkContext\n",
        "\n",
        "conf = (\n",
        "    SparkConf()\n",
        "        .set('spark.ui.port', '4050')\n",
        "        .set('spark.driver.memory', '15g')\n",
        "        .set(\"spark.kryoserializer.buffer.max\", \"2000M\")\n",
        "        # Укажем библиотеки, необходимые для Spark NLP\n",
        "        .set(\"spark.jars.packages\", \"com.johnsnowlabs.nlp:spark-nlp_2.12:5.3.0\")\n",
        "        .setMaster('local[*]')\n",
        ")\n",
        "sc = SparkContext(conf=conf)\n",
        "spark = SparkSession(sc)"
      ],
      "metadata": {
        "id": "mSLmDa8CyD-f"
      },
      "execution_count": 5,
      "outputs": []
    },
    {
      "cell_type": "markdown",
      "source": [
        "### `Применение готового пайплайна`\n"
      ],
      "metadata": {
        "id": "D9huxqS11ea3"
      }
    },
    {
      "cell_type": "code",
      "source": [
        "import sparknlp\n",
        "\n",
        "from pyspark.ml import Pipeline\n",
        "from pyspark.ml.evaluation import MulticlassClassificationEvaluator"
      ],
      "metadata": {
        "id": "BujA-nxdyTAm"
      },
      "execution_count": 6,
      "outputs": []
    },
    {
      "cell_type": "markdown",
      "source": [
        "Модели можно инферить как для единичных примеров:"
      ],
      "metadata": {
        "id": "AJtF-Hhe2Bpn"
      }
    },
    {
      "cell_type": "code",
      "source": [
        "from sparknlp.pretrained import PretrainedPipeline\n",
        "\n",
        "explain_document_pipeline = PretrainedPipeline(\"explain_document_ml\")\n",
        "annotations = explain_document_pipeline.annotate(\"We are very happy about SparkNLP\")\n",
        "annotations"
      ],
      "metadata": {
        "colab": {
          "base_uri": "https://localhost:8080/"
        },
        "id": "lSrLGMjNzxpq",
        "outputId": "891f4d28-9322-47d0-85ae-f79a2408f9a1"
      },
      "execution_count": 7,
      "outputs": [
        {
          "output_type": "stream",
          "name": "stdout",
          "text": [
            "explain_document_ml download started this may take some time.\n",
            "Approx size to download 9 MB\n",
            "[OK!]\n"
          ]
        },
        {
          "output_type": "execute_result",
          "data": {
            "text/plain": [
              "{'document': ['We are very happy about SparkNLP'],\n",
              " 'spell': ['We', 'are', 'very', 'happy', 'about', 'SparkNLP'],\n",
              " 'pos': ['PRP', 'VBP', 'RB', 'JJ', 'IN', 'NNP'],\n",
              " 'lemmas': ['We', 'be', 'very', 'happy', 'about', 'SparkNLP'],\n",
              " 'token': ['We', 'are', 'very', 'happy', 'about', 'SparkNLP'],\n",
              " 'stems': ['we', 'ar', 'veri', 'happi', 'about', 'sparknlp'],\n",
              " 'sentence': ['We are very happy about SparkNLP']}"
            ]
          },
          "metadata": {},
          "execution_count": 7
        }
      ]
    },
    {
      "cell_type": "markdown",
      "source": [
        "Так и для распределённых данных:\n",
        "\n"
      ],
      "metadata": {
        "id": "4YWkgL0X2ILE"
      }
    },
    {
      "cell_type": "code",
      "source": [
        "sample_df = spark.createDataFrame([\n",
        "       (\"We are very happy about SparkNLP\", )\n",
        "], ['text'])\n",
        "sample_df.show()\n",
        "explain_document_pipeline.transform(sample_df).toPandas()"
      ],
      "metadata": {
        "colab": {
          "base_uri": "https://localhost:8080/",
          "height": 229
        },
        "id": "jIKTTVJvzx-O",
        "outputId": "8495b50d-8455-48de-d0d7-2b2b8a39bbf7"
      },
      "execution_count": 8,
      "outputs": [
        {
          "output_type": "stream",
          "name": "stdout",
          "text": [
            "+--------------------+\n",
            "|                text|\n",
            "+--------------------+\n",
            "|We are very happy...|\n",
            "+--------------------+\n",
            "\n"
          ]
        },
        {
          "output_type": "execute_result",
          "data": {
            "text/plain": [
              "                               text  \\\n",
              "0  We are very happy about SparkNLP   \n",
              "\n",
              "                                            document  \\\n",
              "0  [(document, 0, 31, We are very happy about Spa...   \n",
              "\n",
              "                                            sentence  \\\n",
              "0  [(document, 0, 31, We are very happy about Spa...   \n",
              "\n",
              "                                               token  \\\n",
              "0  [(token, 0, 1, We, {'sentence': '0'}, []), (to...   \n",
              "\n",
              "                                               spell  \\\n",
              "0  [(token, 0, 1, We, {'sentence': '0', 'confiden...   \n",
              "\n",
              "                                              lemmas  \\\n",
              "0  [(token, 0, 1, We, {'sentence': '0', 'confiden...   \n",
              "\n",
              "                                               stems  \\\n",
              "0  [(token, 0, 1, we, {'sentence': '0', 'confiden...   \n",
              "\n",
              "                                                 pos  \n",
              "0  [(pos, 0, 1, PRP, {'sentence': '0', 'word': 'W...  "
            ],
            "text/html": [
              "\n",
              "  <div id=\"df-9c08277f-fb16-4062-b5d6-50c9bbbbac11\" class=\"colab-df-container\">\n",
              "    <div>\n",
              "<style scoped>\n",
              "    .dataframe tbody tr th:only-of-type {\n",
              "        vertical-align: middle;\n",
              "    }\n",
              "\n",
              "    .dataframe tbody tr th {\n",
              "        vertical-align: top;\n",
              "    }\n",
              "\n",
              "    .dataframe thead th {\n",
              "        text-align: right;\n",
              "    }\n",
              "</style>\n",
              "<table border=\"1\" class=\"dataframe\">\n",
              "  <thead>\n",
              "    <tr style=\"text-align: right;\">\n",
              "      <th></th>\n",
              "      <th>text</th>\n",
              "      <th>document</th>\n",
              "      <th>sentence</th>\n",
              "      <th>token</th>\n",
              "      <th>spell</th>\n",
              "      <th>lemmas</th>\n",
              "      <th>stems</th>\n",
              "      <th>pos</th>\n",
              "    </tr>\n",
              "  </thead>\n",
              "  <tbody>\n",
              "    <tr>\n",
              "      <th>0</th>\n",
              "      <td>We are very happy about SparkNLP</td>\n",
              "      <td>[(document, 0, 31, We are very happy about Spa...</td>\n",
              "      <td>[(document, 0, 31, We are very happy about Spa...</td>\n",
              "      <td>[(token, 0, 1, We, {'sentence': '0'}, []), (to...</td>\n",
              "      <td>[(token, 0, 1, We, {'sentence': '0', 'confiden...</td>\n",
              "      <td>[(token, 0, 1, We, {'sentence': '0', 'confiden...</td>\n",
              "      <td>[(token, 0, 1, we, {'sentence': '0', 'confiden...</td>\n",
              "      <td>[(pos, 0, 1, PRP, {'sentence': '0', 'word': 'W...</td>\n",
              "    </tr>\n",
              "  </tbody>\n",
              "</table>\n",
              "</div>\n",
              "    <div class=\"colab-df-buttons\">\n",
              "\n",
              "  <div class=\"colab-df-container\">\n",
              "    <button class=\"colab-df-convert\" onclick=\"convertToInteractive('df-9c08277f-fb16-4062-b5d6-50c9bbbbac11')\"\n",
              "            title=\"Convert this dataframe to an interactive table.\"\n",
              "            style=\"display:none;\">\n",
              "\n",
              "  <svg xmlns=\"http://www.w3.org/2000/svg\" height=\"24px\" viewBox=\"0 -960 960 960\">\n",
              "    <path d=\"M120-120v-720h720v720H120Zm60-500h600v-160H180v160Zm220 220h160v-160H400v160Zm0 220h160v-160H400v160ZM180-400h160v-160H180v160Zm440 0h160v-160H620v160ZM180-180h160v-160H180v160Zm440 0h160v-160H620v160Z\"/>\n",
              "  </svg>\n",
              "    </button>\n",
              "\n",
              "  <style>\n",
              "    .colab-df-container {\n",
              "      display:flex;\n",
              "      gap: 12px;\n",
              "    }\n",
              "\n",
              "    .colab-df-convert {\n",
              "      background-color: #E8F0FE;\n",
              "      border: none;\n",
              "      border-radius: 50%;\n",
              "      cursor: pointer;\n",
              "      display: none;\n",
              "      fill: #1967D2;\n",
              "      height: 32px;\n",
              "      padding: 0 0 0 0;\n",
              "      width: 32px;\n",
              "    }\n",
              "\n",
              "    .colab-df-convert:hover {\n",
              "      background-color: #E2EBFA;\n",
              "      box-shadow: 0px 1px 2px rgba(60, 64, 67, 0.3), 0px 1px 3px 1px rgba(60, 64, 67, 0.15);\n",
              "      fill: #174EA6;\n",
              "    }\n",
              "\n",
              "    .colab-df-buttons div {\n",
              "      margin-bottom: 4px;\n",
              "    }\n",
              "\n",
              "    [theme=dark] .colab-df-convert {\n",
              "      background-color: #3B4455;\n",
              "      fill: #D2E3FC;\n",
              "    }\n",
              "\n",
              "    [theme=dark] .colab-df-convert:hover {\n",
              "      background-color: #434B5C;\n",
              "      box-shadow: 0px 1px 3px 1px rgba(0, 0, 0, 0.15);\n",
              "      filter: drop-shadow(0px 1px 2px rgba(0, 0, 0, 0.3));\n",
              "      fill: #FFFFFF;\n",
              "    }\n",
              "  </style>\n",
              "\n",
              "    <script>\n",
              "      const buttonEl =\n",
              "        document.querySelector('#df-9c08277f-fb16-4062-b5d6-50c9bbbbac11 button.colab-df-convert');\n",
              "      buttonEl.style.display =\n",
              "        google.colab.kernel.accessAllowed ? 'block' : 'none';\n",
              "\n",
              "      async function convertToInteractive(key) {\n",
              "        const element = document.querySelector('#df-9c08277f-fb16-4062-b5d6-50c9bbbbac11');\n",
              "        const dataTable =\n",
              "          await google.colab.kernel.invokeFunction('convertToInteractive',\n",
              "                                                    [key], {});\n",
              "        if (!dataTable) return;\n",
              "\n",
              "        const docLinkHtml = 'Like what you see? Visit the ' +\n",
              "          '<a target=\"_blank\" href=https://colab.research.google.com/notebooks/data_table.ipynb>data table notebook</a>'\n",
              "          + ' to learn more about interactive tables.';\n",
              "        element.innerHTML = '';\n",
              "        dataTable['output_type'] = 'display_data';\n",
              "        await google.colab.output.renderOutput(dataTable, element);\n",
              "        const docLink = document.createElement('div');\n",
              "        docLink.innerHTML = docLinkHtml;\n",
              "        element.appendChild(docLink);\n",
              "      }\n",
              "    </script>\n",
              "  </div>\n",
              "\n",
              "    </div>\n",
              "  </div>\n"
            ],
            "application/vnd.google.colaboratory.intrinsic+json": {
              "type": "dataframe",
              "summary": "{\n  \"name\": \"explain_document_pipeline\",\n  \"rows\": 1,\n  \"fields\": [\n    {\n      \"column\": \"text\",\n      \"properties\": {\n        \"dtype\": \"string\",\n        \"num_unique_values\": 1,\n        \"samples\": [\n          \"We are very happy about SparkNLP\"\n        ],\n        \"semantic_type\": \"\",\n        \"description\": \"\"\n      }\n    },\n    {\n      \"column\": \"document\",\n      \"properties\": {\n        \"dtype\": \"object\",\n        \"semantic_type\": \"\",\n        \"description\": \"\"\n      }\n    },\n    {\n      \"column\": \"sentence\",\n      \"properties\": {\n        \"dtype\": \"object\",\n        \"semantic_type\": \"\",\n        \"description\": \"\"\n      }\n    },\n    {\n      \"column\": \"token\",\n      \"properties\": {\n        \"dtype\": \"object\",\n        \"semantic_type\": \"\",\n        \"description\": \"\"\n      }\n    },\n    {\n      \"column\": \"spell\",\n      \"properties\": {\n        \"dtype\": \"object\",\n        \"semantic_type\": \"\",\n        \"description\": \"\"\n      }\n    },\n    {\n      \"column\": \"lemmas\",\n      \"properties\": {\n        \"dtype\": \"object\",\n        \"semantic_type\": \"\",\n        \"description\": \"\"\n      }\n    },\n    {\n      \"column\": \"stems\",\n      \"properties\": {\n        \"dtype\": \"object\",\n        \"semantic_type\": \"\",\n        \"description\": \"\"\n      }\n    },\n    {\n      \"column\": \"pos\",\n      \"properties\": {\n        \"dtype\": \"object\",\n        \"semantic_type\": \"\",\n        \"description\": \"\"\n      }\n    }\n  ]\n}"
            }
          },
          "metadata": {},
          "execution_count": 8
        }
      ]
    },
    {
      "cell_type": "markdown",
      "source": [
        "Библиотека использует набор концептов из Spark ML:\n",
        "* **Annotator Approaches** — аналог`Spark ML Estimator`, то есть модель, которую можно обучить\n",
        "* **Annotator Models** — аналог `Spark ML Transformer`, то есть обученная модель, которая позволяет добавлять колонки в DataFrame"
      ],
      "metadata": {
        "id": "O1LGmvxF2Qhp"
      }
    },
    {
      "cell_type": "markdown",
      "source": [
        "Также можно посмотреть какие стадии обработки данных находятся внутри пайплайна:"
      ],
      "metadata": {
        "id": "GlNS5orW2Y3H"
      }
    },
    {
      "cell_type": "code",
      "source": [
        "explain_document_pipeline.model.stages"
      ],
      "metadata": {
        "colab": {
          "base_uri": "https://localhost:8080/"
        },
        "id": "pX1CM79j0CMO",
        "outputId": "98ad4845-b92b-490b-b9c7-1e3f0dfb660f"
      },
      "execution_count": 9,
      "outputs": [
        {
          "output_type": "execute_result",
          "data": {
            "text/plain": [
              "[document_811d40a38b24,\n",
              " SENTENCE_ce56851acebe,\n",
              " REGEX_TOKENIZER_282781ab961b,\n",
              " SPELL_79c88338ef12,\n",
              " LEMMATIZER_c62ad8f355f9,\n",
              " STEMMER_caf11d1f4d0e,\n",
              " POS_dbb704204f6f]"
            ]
          },
          "metadata": {},
          "execution_count": 9
        }
      ]
    },
    {
      "cell_type": "markdown",
      "source": [
        "\n",
        "Spark NLP работает с колонками в особом формате — в **формате аннотированного текста**. Такой тип определяется как список **аннотаций** (annotation), каждая из которых соответствует некоторой подстроке исходного текста (поля `begin`, `end`) и содержит информацию о типе этого отрезка (`annotatorType`), а также сами аннотации (`result`) и метаинформацию (`metadata`).\n",
        "\n"
      ],
      "metadata": {
        "id": "G7ZOBJAm0izq"
      }
    },
    {
      "cell_type": "code",
      "source": [
        "sentences = [\n",
        "  ['Hello, this is an example sentence'],\n",
        "  ['And this is a second sentence.']\n",
        "]\n",
        "\n",
        "data = spark.createDataFrame(sentences).toDF(\"text\")\n",
        "explained_df = explain_document_pipeline.transform(data)\n",
        "explained_df.printSchema()"
      ],
      "metadata": {
        "colab": {
          "base_uri": "https://localhost:8080/"
        },
        "id": "BOtpIZbX0kfi",
        "outputId": "2dcf5b7d-9264-4279-969a-6d03b5924aa8"
      },
      "execution_count": 10,
      "outputs": [
        {
          "output_type": "stream",
          "name": "stdout",
          "text": [
            "root\n",
            " |-- text: string (nullable = true)\n",
            " |-- document: array (nullable = true)\n",
            " |    |-- element: struct (containsNull = true)\n",
            " |    |    |-- annotatorType: string (nullable = true)\n",
            " |    |    |-- begin: integer (nullable = false)\n",
            " |    |    |-- end: integer (nullable = false)\n",
            " |    |    |-- result: string (nullable = true)\n",
            " |    |    |-- metadata: map (nullable = true)\n",
            " |    |    |    |-- key: string\n",
            " |    |    |    |-- value: string (valueContainsNull = true)\n",
            " |    |    |-- embeddings: array (nullable = true)\n",
            " |    |    |    |-- element: float (containsNull = false)\n",
            " |-- sentence: array (nullable = true)\n",
            " |    |-- element: struct (containsNull = true)\n",
            " |    |    |-- annotatorType: string (nullable = true)\n",
            " |    |    |-- begin: integer (nullable = false)\n",
            " |    |    |-- end: integer (nullable = false)\n",
            " |    |    |-- result: string (nullable = true)\n",
            " |    |    |-- metadata: map (nullable = true)\n",
            " |    |    |    |-- key: string\n",
            " |    |    |    |-- value: string (valueContainsNull = true)\n",
            " |    |    |-- embeddings: array (nullable = true)\n",
            " |    |    |    |-- element: float (containsNull = false)\n",
            " |-- token: array (nullable = true)\n",
            " |    |-- element: struct (containsNull = true)\n",
            " |    |    |-- annotatorType: string (nullable = true)\n",
            " |    |    |-- begin: integer (nullable = false)\n",
            " |    |    |-- end: integer (nullable = false)\n",
            " |    |    |-- result: string (nullable = true)\n",
            " |    |    |-- metadata: map (nullable = true)\n",
            " |    |    |    |-- key: string\n",
            " |    |    |    |-- value: string (valueContainsNull = true)\n",
            " |    |    |-- embeddings: array (nullable = true)\n",
            " |    |    |    |-- element: float (containsNull = false)\n",
            " |-- spell: array (nullable = true)\n",
            " |    |-- element: struct (containsNull = true)\n",
            " |    |    |-- annotatorType: string (nullable = true)\n",
            " |    |    |-- begin: integer (nullable = false)\n",
            " |    |    |-- end: integer (nullable = false)\n",
            " |    |    |-- result: string (nullable = true)\n",
            " |    |    |-- metadata: map (nullable = true)\n",
            " |    |    |    |-- key: string\n",
            " |    |    |    |-- value: string (valueContainsNull = true)\n",
            " |    |    |-- embeddings: array (nullable = true)\n",
            " |    |    |    |-- element: float (containsNull = false)\n",
            " |-- lemmas: array (nullable = true)\n",
            " |    |-- element: struct (containsNull = true)\n",
            " |    |    |-- annotatorType: string (nullable = true)\n",
            " |    |    |-- begin: integer (nullable = false)\n",
            " |    |    |-- end: integer (nullable = false)\n",
            " |    |    |-- result: string (nullable = true)\n",
            " |    |    |-- metadata: map (nullable = true)\n",
            " |    |    |    |-- key: string\n",
            " |    |    |    |-- value: string (valueContainsNull = true)\n",
            " |    |    |-- embeddings: array (nullable = true)\n",
            " |    |    |    |-- element: float (containsNull = false)\n",
            " |-- stems: array (nullable = true)\n",
            " |    |-- element: struct (containsNull = true)\n",
            " |    |    |-- annotatorType: string (nullable = true)\n",
            " |    |    |-- begin: integer (nullable = false)\n",
            " |    |    |-- end: integer (nullable = false)\n",
            " |    |    |-- result: string (nullable = true)\n",
            " |    |    |-- metadata: map (nullable = true)\n",
            " |    |    |    |-- key: string\n",
            " |    |    |    |-- value: string (valueContainsNull = true)\n",
            " |    |    |-- embeddings: array (nullable = true)\n",
            " |    |    |    |-- element: float (containsNull = false)\n",
            " |-- pos: array (nullable = true)\n",
            " |    |-- element: struct (containsNull = true)\n",
            " |    |    |-- annotatorType: string (nullable = true)\n",
            " |    |    |-- begin: integer (nullable = false)\n",
            " |    |    |-- end: integer (nullable = false)\n",
            " |    |    |-- result: string (nullable = true)\n",
            " |    |    |-- metadata: map (nullable = true)\n",
            " |    |    |    |-- key: string\n",
            " |    |    |    |-- value: string (valueContainsNull = true)\n",
            " |    |    |-- embeddings: array (nullable = true)\n",
            " |    |    |    |-- element: float (containsNull = false)\n",
            "\n"
          ]
        }
      ]
    },
    {
      "cell_type": "markdown",
      "source": [
        "Рассмотрим примеры таких аннотированных колонок.\n",
        "\n",
        "Первым шагом в работе со Spark NLP является преобразование RAW текста в документ.\n",
        "\n",
        "Видно, что документ состоит из одной аннотации:"
      ],
      "metadata": {
        "id": "kiXqSQOg23Uz"
      }
    },
    {
      "cell_type": "code",
      "source": [
        "[document] = explained_df.select('document').take(1)\n",
        "document"
      ],
      "metadata": {
        "colab": {
          "base_uri": "https://localhost:8080/"
        },
        "id": "wG1pSApM0xa-",
        "outputId": "f0f4ff60-db94-4cad-a910-ac069875a294"
      },
      "execution_count": 11,
      "outputs": [
        {
          "output_type": "execute_result",
          "data": {
            "text/plain": [
              "Row(document=[Row(annotatorType='document', begin=0, end=33, result='Hello, this is an example sentence', metadata={'sentence': '0'}, embeddings=[])])"
            ]
          },
          "metadata": {},
          "execution_count": 11
        }
      ]
    },
    {
      "cell_type": "markdown",
      "source": [
        "Применение других моделей преобразует одну колонку с аннотациями в другую:"
      ],
      "metadata": {
        "id": "DNCwnaLZ3OBl"
      }
    },
    {
      "cell_type": "code",
      "source": [
        "[tokens] = explained_df.select('token').take(1)\n",
        "[pos_tags] = explained_df.select('pos').take(1)"
      ],
      "metadata": {
        "id": "Bbks0kO-2r72"
      },
      "execution_count": 12,
      "outputs": []
    },
    {
      "cell_type": "code",
      "source": [
        "tokens.token"
      ],
      "metadata": {
        "colab": {
          "base_uri": "https://localhost:8080/"
        },
        "id": "yfTqUwZ43LdT",
        "outputId": "bd6d73d2-ff70-4167-84ba-cfc775884809"
      },
      "execution_count": 13,
      "outputs": [
        {
          "output_type": "execute_result",
          "data": {
            "text/plain": [
              "[Row(annotatorType='token', begin=0, end=4, result='Hello', metadata={'sentence': '0'}, embeddings=[]),\n",
              " Row(annotatorType='token', begin=5, end=5, result=',', metadata={'sentence': '0'}, embeddings=[]),\n",
              " Row(annotatorType='token', begin=7, end=10, result='this', metadata={'sentence': '0'}, embeddings=[]),\n",
              " Row(annotatorType='token', begin=12, end=13, result='is', metadata={'sentence': '0'}, embeddings=[]),\n",
              " Row(annotatorType='token', begin=15, end=16, result='an', metadata={'sentence': '0'}, embeddings=[]),\n",
              " Row(annotatorType='token', begin=18, end=24, result='example', metadata={'sentence': '0'}, embeddings=[]),\n",
              " Row(annotatorType='token', begin=26, end=33, result='sentence', metadata={'sentence': '0'}, embeddings=[])]"
            ]
          },
          "metadata": {},
          "execution_count": 13
        }
      ]
    },
    {
      "cell_type": "code",
      "source": [
        "pos_tags.pos"
      ],
      "metadata": {
        "colab": {
          "base_uri": "https://localhost:8080/"
        },
        "id": "wzXg2OcE3QFc",
        "outputId": "e651b02d-e382-48e8-a4c2-719f72ec2634"
      },
      "execution_count": 14,
      "outputs": [
        {
          "output_type": "execute_result",
          "data": {
            "text/plain": [
              "[Row(annotatorType='pos', begin=0, end=4, result='UH', metadata={'sentence': '0', 'word': 'Hello'}, embeddings=[]),\n",
              " Row(annotatorType='pos', begin=5, end=5, result=',', metadata={'sentence': '0', 'word': ','}, embeddings=[]),\n",
              " Row(annotatorType='pos', begin=7, end=10, result='DT', metadata={'sentence': '0', 'word': 'this'}, embeddings=[]),\n",
              " Row(annotatorType='pos', begin=12, end=13, result='VBZ', metadata={'sentence': '0', 'word': 'is'}, embeddings=[]),\n",
              " Row(annotatorType='pos', begin=15, end=16, result='DT', metadata={'sentence': '0', 'word': 'an'}, embeddings=[]),\n",
              " Row(annotatorType='pos', begin=18, end=24, result='NN', metadata={'sentence': '0', 'word': 'example'}, embeddings=[]),\n",
              " Row(annotatorType='pos', begin=26, end=33, result='NN', metadata={'sentence': '0', 'word': 'sentence'}, embeddings=[])]"
            ]
          },
          "metadata": {},
          "execution_count": 14
        }
      ]
    },
    {
      "cell_type": "code",
      "source": [
        "explain_document_pipeline.transform(sample_df).select(\"token\").show(truncate=False)"
      ],
      "metadata": {
        "colab": {
          "base_uri": "https://localhost:8080/"
        },
        "id": "QgHne5k03TrG",
        "outputId": "594b60b2-d82f-4b93-c599-6a2fe931d2c7"
      },
      "execution_count": 15,
      "outputs": [
        {
          "output_type": "stream",
          "name": "stdout",
          "text": [
            "+----------------------------------------------------------------------------------------------------------------------------------------------------------------------------------------------------------------------------------------------------------------------+\n",
            "|token                                                                                                                                                                                                                                                                 |\n",
            "+----------------------------------------------------------------------------------------------------------------------------------------------------------------------------------------------------------------------------------------------------------------------+\n",
            "|[{token, 0, 1, We, {sentence -> 0}, []}, {token, 3, 5, are, {sentence -> 0}, []}, {token, 7, 10, very, {sentence -> 0}, []}, {token, 12, 16, happy, {sentence -> 0}, []}, {token, 18, 22, about, {sentence -> 0}, []}, {token, 24, 31, SparkNLP, {sentence -> 0}, []}]|\n",
            "+----------------------------------------------------------------------------------------------------------------------------------------------------------------------------------------------------------------------------------------------------------------------+\n",
            "\n"
          ]
        }
      ]
    },
    {
      "cell_type": "markdown",
      "source": [
        "Вывод колонок в виде аннотаций затрудняет анализ данных. Для удобного чтения содержимого используется Transformer `sparknlp.Finisher`, который оставляет только поле `result` из каждой аннотации и возвращает их в виде списка:"
      ],
      "metadata": {
        "id": "SWGvbEg33yB7"
      }
    },
    {
      "cell_type": "code",
      "source": [
        "finisher = sparknlp.Finisher().setInputCols([\"token\", \"lemmas\", \"pos\"])\n",
        "\n",
        "pipeline = (\n",
        "    Pipeline()\n",
        "        .setStages([\n",
        "            explain_document_pipeline.model,\n",
        "            finisher\n",
        "        ])\n",
        ")\n",
        "\n",
        "model = pipeline.fit(data)\n",
        "\n",
        "annotations_finished_df = model.transform(data)\n",
        "annotations_finished_df.toPandas()"
      ],
      "metadata": {
        "colab": {
          "base_uri": "https://localhost:8080/",
          "height": 112
        },
        "id": "WAl4Dy_63j6s",
        "outputId": "1adb06db-575c-449b-909d-dc2a601abd6b"
      },
      "execution_count": 16,
      "outputs": [
        {
          "output_type": "execute_result",
          "data": {
            "text/plain": [
              "                                 text  \\\n",
              "0  Hello, this is an example sentence   \n",
              "1      And this is a second sentence.   \n",
              "\n",
              "                                finished_token  \\\n",
              "0  [Hello, ,, this, is, an, example, sentence]   \n",
              "1      [And, this, is, a, second, sentence, .]   \n",
              "\n",
              "                               finished_lemmas                  finished_pos  \n",
              "0  [Hello, ,, this, be, an, example, sentence]  [UH, ,, DT, VBZ, DT, NN, NN]  \n",
              "1      [And, this, be, a, second, sentence, .]  [CC, DT, VBZ, DT, JJ, NN, .]  "
            ],
            "text/html": [
              "\n",
              "  <div id=\"df-85ba3998-3808-42be-a3d7-bbec020bd97d\" class=\"colab-df-container\">\n",
              "    <div>\n",
              "<style scoped>\n",
              "    .dataframe tbody tr th:only-of-type {\n",
              "        vertical-align: middle;\n",
              "    }\n",
              "\n",
              "    .dataframe tbody tr th {\n",
              "        vertical-align: top;\n",
              "    }\n",
              "\n",
              "    .dataframe thead th {\n",
              "        text-align: right;\n",
              "    }\n",
              "</style>\n",
              "<table border=\"1\" class=\"dataframe\">\n",
              "  <thead>\n",
              "    <tr style=\"text-align: right;\">\n",
              "      <th></th>\n",
              "      <th>text</th>\n",
              "      <th>finished_token</th>\n",
              "      <th>finished_lemmas</th>\n",
              "      <th>finished_pos</th>\n",
              "    </tr>\n",
              "  </thead>\n",
              "  <tbody>\n",
              "    <tr>\n",
              "      <th>0</th>\n",
              "      <td>Hello, this is an example sentence</td>\n",
              "      <td>[Hello, ,, this, is, an, example, sentence]</td>\n",
              "      <td>[Hello, ,, this, be, an, example, sentence]</td>\n",
              "      <td>[UH, ,, DT, VBZ, DT, NN, NN]</td>\n",
              "    </tr>\n",
              "    <tr>\n",
              "      <th>1</th>\n",
              "      <td>And this is a second sentence.</td>\n",
              "      <td>[And, this, is, a, second, sentence, .]</td>\n",
              "      <td>[And, this, be, a, second, sentence, .]</td>\n",
              "      <td>[CC, DT, VBZ, DT, JJ, NN, .]</td>\n",
              "    </tr>\n",
              "  </tbody>\n",
              "</table>\n",
              "</div>\n",
              "    <div class=\"colab-df-buttons\">\n",
              "\n",
              "  <div class=\"colab-df-container\">\n",
              "    <button class=\"colab-df-convert\" onclick=\"convertToInteractive('df-85ba3998-3808-42be-a3d7-bbec020bd97d')\"\n",
              "            title=\"Convert this dataframe to an interactive table.\"\n",
              "            style=\"display:none;\">\n",
              "\n",
              "  <svg xmlns=\"http://www.w3.org/2000/svg\" height=\"24px\" viewBox=\"0 -960 960 960\">\n",
              "    <path d=\"M120-120v-720h720v720H120Zm60-500h600v-160H180v160Zm220 220h160v-160H400v160Zm0 220h160v-160H400v160ZM180-400h160v-160H180v160Zm440 0h160v-160H620v160ZM180-180h160v-160H180v160Zm440 0h160v-160H620v160Z\"/>\n",
              "  </svg>\n",
              "    </button>\n",
              "\n",
              "  <style>\n",
              "    .colab-df-container {\n",
              "      display:flex;\n",
              "      gap: 12px;\n",
              "    }\n",
              "\n",
              "    .colab-df-convert {\n",
              "      background-color: #E8F0FE;\n",
              "      border: none;\n",
              "      border-radius: 50%;\n",
              "      cursor: pointer;\n",
              "      display: none;\n",
              "      fill: #1967D2;\n",
              "      height: 32px;\n",
              "      padding: 0 0 0 0;\n",
              "      width: 32px;\n",
              "    }\n",
              "\n",
              "    .colab-df-convert:hover {\n",
              "      background-color: #E2EBFA;\n",
              "      box-shadow: 0px 1px 2px rgba(60, 64, 67, 0.3), 0px 1px 3px 1px rgba(60, 64, 67, 0.15);\n",
              "      fill: #174EA6;\n",
              "    }\n",
              "\n",
              "    .colab-df-buttons div {\n",
              "      margin-bottom: 4px;\n",
              "    }\n",
              "\n",
              "    [theme=dark] .colab-df-convert {\n",
              "      background-color: #3B4455;\n",
              "      fill: #D2E3FC;\n",
              "    }\n",
              "\n",
              "    [theme=dark] .colab-df-convert:hover {\n",
              "      background-color: #434B5C;\n",
              "      box-shadow: 0px 1px 3px 1px rgba(0, 0, 0, 0.15);\n",
              "      filter: drop-shadow(0px 1px 2px rgba(0, 0, 0, 0.3));\n",
              "      fill: #FFFFFF;\n",
              "    }\n",
              "  </style>\n",
              "\n",
              "    <script>\n",
              "      const buttonEl =\n",
              "        document.querySelector('#df-85ba3998-3808-42be-a3d7-bbec020bd97d button.colab-df-convert');\n",
              "      buttonEl.style.display =\n",
              "        google.colab.kernel.accessAllowed ? 'block' : 'none';\n",
              "\n",
              "      async function convertToInteractive(key) {\n",
              "        const element = document.querySelector('#df-85ba3998-3808-42be-a3d7-bbec020bd97d');\n",
              "        const dataTable =\n",
              "          await google.colab.kernel.invokeFunction('convertToInteractive',\n",
              "                                                    [key], {});\n",
              "        if (!dataTable) return;\n",
              "\n",
              "        const docLinkHtml = 'Like what you see? Visit the ' +\n",
              "          '<a target=\"_blank\" href=https://colab.research.google.com/notebooks/data_table.ipynb>data table notebook</a>'\n",
              "          + ' to learn more about interactive tables.';\n",
              "        element.innerHTML = '';\n",
              "        dataTable['output_type'] = 'display_data';\n",
              "        await google.colab.output.renderOutput(dataTable, element);\n",
              "        const docLink = document.createElement('div');\n",
              "        docLink.innerHTML = docLinkHtml;\n",
              "        element.appendChild(docLink);\n",
              "      }\n",
              "    </script>\n",
              "  </div>\n",
              "\n",
              "\n",
              "<div id=\"df-357e43af-3a69-4136-88e8-7352fa488c00\">\n",
              "  <button class=\"colab-df-quickchart\" onclick=\"quickchart('df-357e43af-3a69-4136-88e8-7352fa488c00')\"\n",
              "            title=\"Suggest charts\"\n",
              "            style=\"display:none;\">\n",
              "\n",
              "<svg xmlns=\"http://www.w3.org/2000/svg\" height=\"24px\"viewBox=\"0 0 24 24\"\n",
              "     width=\"24px\">\n",
              "    <g>\n",
              "        <path d=\"M19 3H5c-1.1 0-2 .9-2 2v14c0 1.1.9 2 2 2h14c1.1 0 2-.9 2-2V5c0-1.1-.9-2-2-2zM9 17H7v-7h2v7zm4 0h-2V7h2v10zm4 0h-2v-4h2v4z\"/>\n",
              "    </g>\n",
              "</svg>\n",
              "  </button>\n",
              "\n",
              "<style>\n",
              "  .colab-df-quickchart {\n",
              "      --bg-color: #E8F0FE;\n",
              "      --fill-color: #1967D2;\n",
              "      --hover-bg-color: #E2EBFA;\n",
              "      --hover-fill-color: #174EA6;\n",
              "      --disabled-fill-color: #AAA;\n",
              "      --disabled-bg-color: #DDD;\n",
              "  }\n",
              "\n",
              "  [theme=dark] .colab-df-quickchart {\n",
              "      --bg-color: #3B4455;\n",
              "      --fill-color: #D2E3FC;\n",
              "      --hover-bg-color: #434B5C;\n",
              "      --hover-fill-color: #FFFFFF;\n",
              "      --disabled-bg-color: #3B4455;\n",
              "      --disabled-fill-color: #666;\n",
              "  }\n",
              "\n",
              "  .colab-df-quickchart {\n",
              "    background-color: var(--bg-color);\n",
              "    border: none;\n",
              "    border-radius: 50%;\n",
              "    cursor: pointer;\n",
              "    display: none;\n",
              "    fill: var(--fill-color);\n",
              "    height: 32px;\n",
              "    padding: 0;\n",
              "    width: 32px;\n",
              "  }\n",
              "\n",
              "  .colab-df-quickchart:hover {\n",
              "    background-color: var(--hover-bg-color);\n",
              "    box-shadow: 0 1px 2px rgba(60, 64, 67, 0.3), 0 1px 3px 1px rgba(60, 64, 67, 0.15);\n",
              "    fill: var(--button-hover-fill-color);\n",
              "  }\n",
              "\n",
              "  .colab-df-quickchart-complete:disabled,\n",
              "  .colab-df-quickchart-complete:disabled:hover {\n",
              "    background-color: var(--disabled-bg-color);\n",
              "    fill: var(--disabled-fill-color);\n",
              "    box-shadow: none;\n",
              "  }\n",
              "\n",
              "  .colab-df-spinner {\n",
              "    border: 2px solid var(--fill-color);\n",
              "    border-color: transparent;\n",
              "    border-bottom-color: var(--fill-color);\n",
              "    animation:\n",
              "      spin 1s steps(1) infinite;\n",
              "  }\n",
              "\n",
              "  @keyframes spin {\n",
              "    0% {\n",
              "      border-color: transparent;\n",
              "      border-bottom-color: var(--fill-color);\n",
              "      border-left-color: var(--fill-color);\n",
              "    }\n",
              "    20% {\n",
              "      border-color: transparent;\n",
              "      border-left-color: var(--fill-color);\n",
              "      border-top-color: var(--fill-color);\n",
              "    }\n",
              "    30% {\n",
              "      border-color: transparent;\n",
              "      border-left-color: var(--fill-color);\n",
              "      border-top-color: var(--fill-color);\n",
              "      border-right-color: var(--fill-color);\n",
              "    }\n",
              "    40% {\n",
              "      border-color: transparent;\n",
              "      border-right-color: var(--fill-color);\n",
              "      border-top-color: var(--fill-color);\n",
              "    }\n",
              "    60% {\n",
              "      border-color: transparent;\n",
              "      border-right-color: var(--fill-color);\n",
              "    }\n",
              "    80% {\n",
              "      border-color: transparent;\n",
              "      border-right-color: var(--fill-color);\n",
              "      border-bottom-color: var(--fill-color);\n",
              "    }\n",
              "    90% {\n",
              "      border-color: transparent;\n",
              "      border-bottom-color: var(--fill-color);\n",
              "    }\n",
              "  }\n",
              "</style>\n",
              "\n",
              "  <script>\n",
              "    async function quickchart(key) {\n",
              "      const quickchartButtonEl =\n",
              "        document.querySelector('#' + key + ' button');\n",
              "      quickchartButtonEl.disabled = true;  // To prevent multiple clicks.\n",
              "      quickchartButtonEl.classList.add('colab-df-spinner');\n",
              "      try {\n",
              "        const charts = await google.colab.kernel.invokeFunction(\n",
              "            'suggestCharts', [key], {});\n",
              "      } catch (error) {\n",
              "        console.error('Error during call to suggestCharts:', error);\n",
              "      }\n",
              "      quickchartButtonEl.classList.remove('colab-df-spinner');\n",
              "      quickchartButtonEl.classList.add('colab-df-quickchart-complete');\n",
              "    }\n",
              "    (() => {\n",
              "      let quickchartButtonEl =\n",
              "        document.querySelector('#df-357e43af-3a69-4136-88e8-7352fa488c00 button');\n",
              "      quickchartButtonEl.style.display =\n",
              "        google.colab.kernel.accessAllowed ? 'block' : 'none';\n",
              "    })();\n",
              "  </script>\n",
              "</div>\n",
              "    </div>\n",
              "  </div>\n"
            ],
            "application/vnd.google.colaboratory.intrinsic+json": {
              "type": "dataframe",
              "summary": "{\n  \"name\": \"annotations_finished_df\",\n  \"rows\": 2,\n  \"fields\": [\n    {\n      \"column\": \"text\",\n      \"properties\": {\n        \"dtype\": \"string\",\n        \"num_unique_values\": 2,\n        \"samples\": [\n          \"And this is a second sentence.\",\n          \"Hello, this is an example sentence\"\n        ],\n        \"semantic_type\": \"\",\n        \"description\": \"\"\n      }\n    },\n    {\n      \"column\": \"finished_token\",\n      \"properties\": {\n        \"dtype\": \"object\",\n        \"semantic_type\": \"\",\n        \"description\": \"\"\n      }\n    },\n    {\n      \"column\": \"finished_lemmas\",\n      \"properties\": {\n        \"dtype\": \"object\",\n        \"semantic_type\": \"\",\n        \"description\": \"\"\n      }\n    },\n    {\n      \"column\": \"finished_pos\",\n      \"properties\": {\n        \"dtype\": \"object\",\n        \"semantic_type\": \"\",\n        \"description\": \"\"\n      }\n    }\n  ]\n}"
            }
          },
          "metadata": {},
          "execution_count": 16
        }
      ]
    },
    {
      "cell_type": "markdown",
      "source": [
        "### `Дообучение классификатора`"
      ],
      "metadata": {
        "id": "-MNEMn7U4RC8"
      }
    },
    {
      "cell_type": "markdown",
      "source": [
        "Применим Spark NLP для дообучения на задаче многоклассовой классификации — будем предсказывать категорию новостей:"
      ],
      "metadata": {
        "id": "bAjwTYWk4SZW"
      }
    },
    {
      "cell_type": "code",
      "source": [
        "base_url = 'https://s3.amazonaws.com/auxdata.johnsnowlabs.com/public/resources/en/classifier-dl/news_Category'\n",
        "! wget -O news_category_test.csv $base_url/news_category_test.csv\n",
        "! wget -O news_category_train.csv $base_url/news_category_train.csv"
      ],
      "metadata": {
        "colab": {
          "base_uri": "https://localhost:8080/"
        },
        "id": "YMvydla039tf",
        "outputId": "d78979d8-ea1f-40f8-950c-db0f00197f2c"
      },
      "execution_count": 17,
      "outputs": [
        {
          "output_type": "stream",
          "name": "stdout",
          "text": [
            "--2024-03-02 06:52:59--  https://s3.amazonaws.com/auxdata.johnsnowlabs.com/public/resources/en/classifier-dl/news_Category/news_category_test.csv\n",
            "Resolving s3.amazonaws.com (s3.amazonaws.com)... 16.182.97.56, 52.217.107.102, 52.216.133.45, ...\n",
            "Connecting to s3.amazonaws.com (s3.amazonaws.com)|16.182.97.56|:443... connected.\n",
            "HTTP request sent, awaiting response... 200 OK\n",
            "Length: 1504408 (1.4M) [text/csv]\n",
            "Saving to: ‘news_category_test.csv’\n",
            "\n",
            "news_category_test. 100%[===================>]   1.43M  3.83MB/s    in 0.4s    \n",
            "\n",
            "2024-03-02 06:52:59 (3.83 MB/s) - ‘news_category_test.csv’ saved [1504408/1504408]\n",
            "\n",
            "--2024-03-02 06:52:59--  https://s3.amazonaws.com/auxdata.johnsnowlabs.com/public/resources/en/classifier-dl/news_Category/news_category_train.csv\n",
            "Resolving s3.amazonaws.com (s3.amazonaws.com)... 16.182.97.56, 52.217.107.102, 52.216.133.45, ...\n",
            "Connecting to s3.amazonaws.com (s3.amazonaws.com)|16.182.97.56|:443... connected.\n",
            "HTTP request sent, awaiting response... 200 OK\n",
            "Length: 24032125 (23M) [text/csv]\n",
            "Saving to: ‘news_category_train.csv’\n",
            "\n",
            "news_category_train 100%[===================>]  22.92M  24.5MB/s    in 0.9s    \n",
            "\n",
            "2024-03-02 06:53:01 (24.5 MB/s) - ‘news_category_train.csv’ saved [24032125/24032125]\n",
            "\n"
          ]
        }
      ]
    },
    {
      "cell_type": "code",
      "source": [
        "! head news_category_train.csv"
      ],
      "metadata": {
        "colab": {
          "base_uri": "https://localhost:8080/"
        },
        "id": "5sls2-074V_P",
        "outputId": "6ca81af5-d3c9-4e6b-c55d-5732f53add32"
      },
      "execution_count": 18,
      "outputs": [
        {
          "output_type": "stream",
          "name": "stdout",
          "text": [
            "category,description\n",
            "Business,\" Short sellers, Wall Street's dwindling band of ultra cynics, are seeing green again.\"\n",
            "Business,\" Private investment firm Carlyle Group, which has a reputation for making well timed and occasionally controversial plays in the defense industry, has quietly placed its bets on another part of the market.\"\n",
            "Business, Soaring crude prices plus worries about the economy and the outlook for earnings are expected to hang over the stock market next week during the depth of the summer doldrums.\n",
            "Business,\" Authorities have halted oil export flows from the main pipeline in southern Iraq after intelligence showed a rebel militia could strike infrastructure, an oil official said on Saturday.\"\n",
            "Business,\" Tearaway world oil prices, toppling records and straining wallets, present a new economic menace barely three months before the US presidential elections.\"\n",
            "Business,\" Stocks ended slightly higher on Friday but stayed near lows for the year as oil prices surged past  #36;46 a barrel, offsetting a positive outlook from computer maker Dell Inc. (DELL.O)\"\n",
            "Business,\" Assets of the nation's retail money market mutual funds fell by  #36;1.17 billion in the latest week to  #36;849.98 trillion, the Investment Company Institute said Thursday.\"\n",
            "Business,\" Retail sales bounced back a bit in July, and new claims for jobless benefits fell last week, the government said Thursday, indicating the economy is improving from a midsummer slump.\"\n",
            "Business,\" After earning a PH.D. in Sociology, Danny Bazil Riley started to work as the general manager at a commercial real estate firm at an annual base salary of  #36;70,000. Soon after, a financial planner stopped by his desk to drop off brochures about insurance benefits available through his employer. But, at 32, \"\"buying insurance was the furthest thing from my mind,\"\" says Riley.\"\n"
          ]
        }
      ]
    },
    {
      "cell_type": "markdown",
      "source": [
        "Считаем скачанные данные в spark-dataframe:"
      ],
      "metadata": {
        "id": "O6R_rQPB4pxj"
      }
    },
    {
      "cell_type": "code",
      "source": [
        "train_df = (\n",
        "    spark.read\n",
        "      .option(\"header\", True)\n",
        "      .csv(\"news_category_train.csv\")\n",
        ")\n",
        "test_df = (\n",
        "    spark.read\n",
        "      .option(\"header\", True)\n",
        "      .csv(\"news_category_test.csv\")\n",
        ")\n",
        "\n",
        "display(train_df.limit(5).toPandas())\n",
        "display(test_df.limit(5).toPandas())\n",
        "\n",
        "train_df.count(), test_df.count()"
      ],
      "metadata": {
        "colab": {
          "base_uri": "https://localhost:8080/",
          "height": 414
        },
        "id": "xIQuMukR4mGi",
        "outputId": "9cb8d733-5b61-4c1e-f20f-2fa08b63ef98"
      },
      "execution_count": 19,
      "outputs": [
        {
          "output_type": "display_data",
          "data": {
            "text/plain": [
              "   category                                        description\n",
              "0  Business   Short sellers, Wall Street's dwindling band o...\n",
              "1  Business   Private investment firm Carlyle Group, which ...\n",
              "2  Business   Soaring crude prices plus worries about the e...\n",
              "3  Business   Authorities have halted oil export flows from...\n",
              "4  Business   Tearaway world oil prices, toppling records a..."
            ],
            "text/html": [
              "\n",
              "  <div id=\"df-9ad5de0b-f20a-4278-891a-d2bc0d3b1b07\" class=\"colab-df-container\">\n",
              "    <div>\n",
              "<style scoped>\n",
              "    .dataframe tbody tr th:only-of-type {\n",
              "        vertical-align: middle;\n",
              "    }\n",
              "\n",
              "    .dataframe tbody tr th {\n",
              "        vertical-align: top;\n",
              "    }\n",
              "\n",
              "    .dataframe thead th {\n",
              "        text-align: right;\n",
              "    }\n",
              "</style>\n",
              "<table border=\"1\" class=\"dataframe\">\n",
              "  <thead>\n",
              "    <tr style=\"text-align: right;\">\n",
              "      <th></th>\n",
              "      <th>category</th>\n",
              "      <th>description</th>\n",
              "    </tr>\n",
              "  </thead>\n",
              "  <tbody>\n",
              "    <tr>\n",
              "      <th>0</th>\n",
              "      <td>Business</td>\n",
              "      <td>Short sellers, Wall Street's dwindling band o...</td>\n",
              "    </tr>\n",
              "    <tr>\n",
              "      <th>1</th>\n",
              "      <td>Business</td>\n",
              "      <td>Private investment firm Carlyle Group, which ...</td>\n",
              "    </tr>\n",
              "    <tr>\n",
              "      <th>2</th>\n",
              "      <td>Business</td>\n",
              "      <td>Soaring crude prices plus worries about the e...</td>\n",
              "    </tr>\n",
              "    <tr>\n",
              "      <th>3</th>\n",
              "      <td>Business</td>\n",
              "      <td>Authorities have halted oil export flows from...</td>\n",
              "    </tr>\n",
              "    <tr>\n",
              "      <th>4</th>\n",
              "      <td>Business</td>\n",
              "      <td>Tearaway world oil prices, toppling records a...</td>\n",
              "    </tr>\n",
              "  </tbody>\n",
              "</table>\n",
              "</div>\n",
              "    <div class=\"colab-df-buttons\">\n",
              "\n",
              "  <div class=\"colab-df-container\">\n",
              "    <button class=\"colab-df-convert\" onclick=\"convertToInteractive('df-9ad5de0b-f20a-4278-891a-d2bc0d3b1b07')\"\n",
              "            title=\"Convert this dataframe to an interactive table.\"\n",
              "            style=\"display:none;\">\n",
              "\n",
              "  <svg xmlns=\"http://www.w3.org/2000/svg\" height=\"24px\" viewBox=\"0 -960 960 960\">\n",
              "    <path d=\"M120-120v-720h720v720H120Zm60-500h600v-160H180v160Zm220 220h160v-160H400v160Zm0 220h160v-160H400v160ZM180-400h160v-160H180v160Zm440 0h160v-160H620v160ZM180-180h160v-160H180v160Zm440 0h160v-160H620v160Z\"/>\n",
              "  </svg>\n",
              "    </button>\n",
              "\n",
              "  <style>\n",
              "    .colab-df-container {\n",
              "      display:flex;\n",
              "      gap: 12px;\n",
              "    }\n",
              "\n",
              "    .colab-df-convert {\n",
              "      background-color: #E8F0FE;\n",
              "      border: none;\n",
              "      border-radius: 50%;\n",
              "      cursor: pointer;\n",
              "      display: none;\n",
              "      fill: #1967D2;\n",
              "      height: 32px;\n",
              "      padding: 0 0 0 0;\n",
              "      width: 32px;\n",
              "    }\n",
              "\n",
              "    .colab-df-convert:hover {\n",
              "      background-color: #E2EBFA;\n",
              "      box-shadow: 0px 1px 2px rgba(60, 64, 67, 0.3), 0px 1px 3px 1px rgba(60, 64, 67, 0.15);\n",
              "      fill: #174EA6;\n",
              "    }\n",
              "\n",
              "    .colab-df-buttons div {\n",
              "      margin-bottom: 4px;\n",
              "    }\n",
              "\n",
              "    [theme=dark] .colab-df-convert {\n",
              "      background-color: #3B4455;\n",
              "      fill: #D2E3FC;\n",
              "    }\n",
              "\n",
              "    [theme=dark] .colab-df-convert:hover {\n",
              "      background-color: #434B5C;\n",
              "      box-shadow: 0px 1px 3px 1px rgba(0, 0, 0, 0.15);\n",
              "      filter: drop-shadow(0px 1px 2px rgba(0, 0, 0, 0.3));\n",
              "      fill: #FFFFFF;\n",
              "    }\n",
              "  </style>\n",
              "\n",
              "    <script>\n",
              "      const buttonEl =\n",
              "        document.querySelector('#df-9ad5de0b-f20a-4278-891a-d2bc0d3b1b07 button.colab-df-convert');\n",
              "      buttonEl.style.display =\n",
              "        google.colab.kernel.accessAllowed ? 'block' : 'none';\n",
              "\n",
              "      async function convertToInteractive(key) {\n",
              "        const element = document.querySelector('#df-9ad5de0b-f20a-4278-891a-d2bc0d3b1b07');\n",
              "        const dataTable =\n",
              "          await google.colab.kernel.invokeFunction('convertToInteractive',\n",
              "                                                    [key], {});\n",
              "        if (!dataTable) return;\n",
              "\n",
              "        const docLinkHtml = 'Like what you see? Visit the ' +\n",
              "          '<a target=\"_blank\" href=https://colab.research.google.com/notebooks/data_table.ipynb>data table notebook</a>'\n",
              "          + ' to learn more about interactive tables.';\n",
              "        element.innerHTML = '';\n",
              "        dataTable['output_type'] = 'display_data';\n",
              "        await google.colab.output.renderOutput(dataTable, element);\n",
              "        const docLink = document.createElement('div');\n",
              "        docLink.innerHTML = docLinkHtml;\n",
              "        element.appendChild(docLink);\n",
              "      }\n",
              "    </script>\n",
              "  </div>\n",
              "\n",
              "\n",
              "<div id=\"df-985703ca-d544-4724-936e-97ba3b6aa0ee\">\n",
              "  <button class=\"colab-df-quickchart\" onclick=\"quickchart('df-985703ca-d544-4724-936e-97ba3b6aa0ee')\"\n",
              "            title=\"Suggest charts\"\n",
              "            style=\"display:none;\">\n",
              "\n",
              "<svg xmlns=\"http://www.w3.org/2000/svg\" height=\"24px\"viewBox=\"0 0 24 24\"\n",
              "     width=\"24px\">\n",
              "    <g>\n",
              "        <path d=\"M19 3H5c-1.1 0-2 .9-2 2v14c0 1.1.9 2 2 2h14c1.1 0 2-.9 2-2V5c0-1.1-.9-2-2-2zM9 17H7v-7h2v7zm4 0h-2V7h2v10zm4 0h-2v-4h2v4z\"/>\n",
              "    </g>\n",
              "</svg>\n",
              "  </button>\n",
              "\n",
              "<style>\n",
              "  .colab-df-quickchart {\n",
              "      --bg-color: #E8F0FE;\n",
              "      --fill-color: #1967D2;\n",
              "      --hover-bg-color: #E2EBFA;\n",
              "      --hover-fill-color: #174EA6;\n",
              "      --disabled-fill-color: #AAA;\n",
              "      --disabled-bg-color: #DDD;\n",
              "  }\n",
              "\n",
              "  [theme=dark] .colab-df-quickchart {\n",
              "      --bg-color: #3B4455;\n",
              "      --fill-color: #D2E3FC;\n",
              "      --hover-bg-color: #434B5C;\n",
              "      --hover-fill-color: #FFFFFF;\n",
              "      --disabled-bg-color: #3B4455;\n",
              "      --disabled-fill-color: #666;\n",
              "  }\n",
              "\n",
              "  .colab-df-quickchart {\n",
              "    background-color: var(--bg-color);\n",
              "    border: none;\n",
              "    border-radius: 50%;\n",
              "    cursor: pointer;\n",
              "    display: none;\n",
              "    fill: var(--fill-color);\n",
              "    height: 32px;\n",
              "    padding: 0;\n",
              "    width: 32px;\n",
              "  }\n",
              "\n",
              "  .colab-df-quickchart:hover {\n",
              "    background-color: var(--hover-bg-color);\n",
              "    box-shadow: 0 1px 2px rgba(60, 64, 67, 0.3), 0 1px 3px 1px rgba(60, 64, 67, 0.15);\n",
              "    fill: var(--button-hover-fill-color);\n",
              "  }\n",
              "\n",
              "  .colab-df-quickchart-complete:disabled,\n",
              "  .colab-df-quickchart-complete:disabled:hover {\n",
              "    background-color: var(--disabled-bg-color);\n",
              "    fill: var(--disabled-fill-color);\n",
              "    box-shadow: none;\n",
              "  }\n",
              "\n",
              "  .colab-df-spinner {\n",
              "    border: 2px solid var(--fill-color);\n",
              "    border-color: transparent;\n",
              "    border-bottom-color: var(--fill-color);\n",
              "    animation:\n",
              "      spin 1s steps(1) infinite;\n",
              "  }\n",
              "\n",
              "  @keyframes spin {\n",
              "    0% {\n",
              "      border-color: transparent;\n",
              "      border-bottom-color: var(--fill-color);\n",
              "      border-left-color: var(--fill-color);\n",
              "    }\n",
              "    20% {\n",
              "      border-color: transparent;\n",
              "      border-left-color: var(--fill-color);\n",
              "      border-top-color: var(--fill-color);\n",
              "    }\n",
              "    30% {\n",
              "      border-color: transparent;\n",
              "      border-left-color: var(--fill-color);\n",
              "      border-top-color: var(--fill-color);\n",
              "      border-right-color: var(--fill-color);\n",
              "    }\n",
              "    40% {\n",
              "      border-color: transparent;\n",
              "      border-right-color: var(--fill-color);\n",
              "      border-top-color: var(--fill-color);\n",
              "    }\n",
              "    60% {\n",
              "      border-color: transparent;\n",
              "      border-right-color: var(--fill-color);\n",
              "    }\n",
              "    80% {\n",
              "      border-color: transparent;\n",
              "      border-right-color: var(--fill-color);\n",
              "      border-bottom-color: var(--fill-color);\n",
              "    }\n",
              "    90% {\n",
              "      border-color: transparent;\n",
              "      border-bottom-color: var(--fill-color);\n",
              "    }\n",
              "  }\n",
              "</style>\n",
              "\n",
              "  <script>\n",
              "    async function quickchart(key) {\n",
              "      const quickchartButtonEl =\n",
              "        document.querySelector('#' + key + ' button');\n",
              "      quickchartButtonEl.disabled = true;  // To prevent multiple clicks.\n",
              "      quickchartButtonEl.classList.add('colab-df-spinner');\n",
              "      try {\n",
              "        const charts = await google.colab.kernel.invokeFunction(\n",
              "            'suggestCharts', [key], {});\n",
              "      } catch (error) {\n",
              "        console.error('Error during call to suggestCharts:', error);\n",
              "      }\n",
              "      quickchartButtonEl.classList.remove('colab-df-spinner');\n",
              "      quickchartButtonEl.classList.add('colab-df-quickchart-complete');\n",
              "    }\n",
              "    (() => {\n",
              "      let quickchartButtonEl =\n",
              "        document.querySelector('#df-985703ca-d544-4724-936e-97ba3b6aa0ee button');\n",
              "      quickchartButtonEl.style.display =\n",
              "        google.colab.kernel.accessAllowed ? 'block' : 'none';\n",
              "    })();\n",
              "  </script>\n",
              "</div>\n",
              "    </div>\n",
              "  </div>\n"
            ],
            "application/vnd.google.colaboratory.intrinsic+json": {
              "type": "dataframe",
              "summary": "{\n  \"name\": \"train_df\",\n  \"rows\": 5,\n  \"fields\": [\n    {\n      \"column\": \"category\",\n      \"properties\": {\n        \"dtype\": \"category\",\n        \"num_unique_values\": 1,\n        \"samples\": [\n          \"Business\"\n        ],\n        \"semantic_type\": \"\",\n        \"description\": \"\"\n      }\n    },\n    {\n      \"column\": \"description\",\n      \"properties\": {\n        \"dtype\": \"string\",\n        \"num_unique_values\": 5,\n        \"samples\": [\n          \" Private investment firm Carlyle Group, which has a reputation for making well timed and occasionally controversial plays in the defense industry, has quietly placed its bets on another part of the market.\"\n        ],\n        \"semantic_type\": \"\",\n        \"description\": \"\"\n      }\n    }\n  ]\n}"
            }
          },
          "metadata": {}
        },
        {
          "output_type": "display_data",
          "data": {
            "text/plain": [
              "   category                                        description\n",
              "0  Business  Unions representing workers at Turner   Newall...\n",
              "1  Sci/Tech   TORONTO, Canada    A second team of rocketeer...\n",
              "2  Sci/Tech   A company founded by a chemistry researcher a...\n",
              "3  Sci/Tech   It's barely dawn when Mike Fitzpatrick starts...\n",
              "4  Sci/Tech   Southern California's smog fighting agency we..."
            ],
            "text/html": [
              "\n",
              "  <div id=\"df-95277238-907a-4ab7-9b5c-40ebe2310f90\" class=\"colab-df-container\">\n",
              "    <div>\n",
              "<style scoped>\n",
              "    .dataframe tbody tr th:only-of-type {\n",
              "        vertical-align: middle;\n",
              "    }\n",
              "\n",
              "    .dataframe tbody tr th {\n",
              "        vertical-align: top;\n",
              "    }\n",
              "\n",
              "    .dataframe thead th {\n",
              "        text-align: right;\n",
              "    }\n",
              "</style>\n",
              "<table border=\"1\" class=\"dataframe\">\n",
              "  <thead>\n",
              "    <tr style=\"text-align: right;\">\n",
              "      <th></th>\n",
              "      <th>category</th>\n",
              "      <th>description</th>\n",
              "    </tr>\n",
              "  </thead>\n",
              "  <tbody>\n",
              "    <tr>\n",
              "      <th>0</th>\n",
              "      <td>Business</td>\n",
              "      <td>Unions representing workers at Turner   Newall...</td>\n",
              "    </tr>\n",
              "    <tr>\n",
              "      <th>1</th>\n",
              "      <td>Sci/Tech</td>\n",
              "      <td>TORONTO, Canada    A second team of rocketeer...</td>\n",
              "    </tr>\n",
              "    <tr>\n",
              "      <th>2</th>\n",
              "      <td>Sci/Tech</td>\n",
              "      <td>A company founded by a chemistry researcher a...</td>\n",
              "    </tr>\n",
              "    <tr>\n",
              "      <th>3</th>\n",
              "      <td>Sci/Tech</td>\n",
              "      <td>It's barely dawn when Mike Fitzpatrick starts...</td>\n",
              "    </tr>\n",
              "    <tr>\n",
              "      <th>4</th>\n",
              "      <td>Sci/Tech</td>\n",
              "      <td>Southern California's smog fighting agency we...</td>\n",
              "    </tr>\n",
              "  </tbody>\n",
              "</table>\n",
              "</div>\n",
              "    <div class=\"colab-df-buttons\">\n",
              "\n",
              "  <div class=\"colab-df-container\">\n",
              "    <button class=\"colab-df-convert\" onclick=\"convertToInteractive('df-95277238-907a-4ab7-9b5c-40ebe2310f90')\"\n",
              "            title=\"Convert this dataframe to an interactive table.\"\n",
              "            style=\"display:none;\">\n",
              "\n",
              "  <svg xmlns=\"http://www.w3.org/2000/svg\" height=\"24px\" viewBox=\"0 -960 960 960\">\n",
              "    <path d=\"M120-120v-720h720v720H120Zm60-500h600v-160H180v160Zm220 220h160v-160H400v160Zm0 220h160v-160H400v160ZM180-400h160v-160H180v160Zm440 0h160v-160H620v160ZM180-180h160v-160H180v160Zm440 0h160v-160H620v160Z\"/>\n",
              "  </svg>\n",
              "    </button>\n",
              "\n",
              "  <style>\n",
              "    .colab-df-container {\n",
              "      display:flex;\n",
              "      gap: 12px;\n",
              "    }\n",
              "\n",
              "    .colab-df-convert {\n",
              "      background-color: #E8F0FE;\n",
              "      border: none;\n",
              "      border-radius: 50%;\n",
              "      cursor: pointer;\n",
              "      display: none;\n",
              "      fill: #1967D2;\n",
              "      height: 32px;\n",
              "      padding: 0 0 0 0;\n",
              "      width: 32px;\n",
              "    }\n",
              "\n",
              "    .colab-df-convert:hover {\n",
              "      background-color: #E2EBFA;\n",
              "      box-shadow: 0px 1px 2px rgba(60, 64, 67, 0.3), 0px 1px 3px 1px rgba(60, 64, 67, 0.15);\n",
              "      fill: #174EA6;\n",
              "    }\n",
              "\n",
              "    .colab-df-buttons div {\n",
              "      margin-bottom: 4px;\n",
              "    }\n",
              "\n",
              "    [theme=dark] .colab-df-convert {\n",
              "      background-color: #3B4455;\n",
              "      fill: #D2E3FC;\n",
              "    }\n",
              "\n",
              "    [theme=dark] .colab-df-convert:hover {\n",
              "      background-color: #434B5C;\n",
              "      box-shadow: 0px 1px 3px 1px rgba(0, 0, 0, 0.15);\n",
              "      filter: drop-shadow(0px 1px 2px rgba(0, 0, 0, 0.3));\n",
              "      fill: #FFFFFF;\n",
              "    }\n",
              "  </style>\n",
              "\n",
              "    <script>\n",
              "      const buttonEl =\n",
              "        document.querySelector('#df-95277238-907a-4ab7-9b5c-40ebe2310f90 button.colab-df-convert');\n",
              "      buttonEl.style.display =\n",
              "        google.colab.kernel.accessAllowed ? 'block' : 'none';\n",
              "\n",
              "      async function convertToInteractive(key) {\n",
              "        const element = document.querySelector('#df-95277238-907a-4ab7-9b5c-40ebe2310f90');\n",
              "        const dataTable =\n",
              "          await google.colab.kernel.invokeFunction('convertToInteractive',\n",
              "                                                    [key], {});\n",
              "        if (!dataTable) return;\n",
              "\n",
              "        const docLinkHtml = 'Like what you see? Visit the ' +\n",
              "          '<a target=\"_blank\" href=https://colab.research.google.com/notebooks/data_table.ipynb>data table notebook</a>'\n",
              "          + ' to learn more about interactive tables.';\n",
              "        element.innerHTML = '';\n",
              "        dataTable['output_type'] = 'display_data';\n",
              "        await google.colab.output.renderOutput(dataTable, element);\n",
              "        const docLink = document.createElement('div');\n",
              "        docLink.innerHTML = docLinkHtml;\n",
              "        element.appendChild(docLink);\n",
              "      }\n",
              "    </script>\n",
              "  </div>\n",
              "\n",
              "\n",
              "<div id=\"df-fd59a07b-2370-4d82-a603-07e15fc7d30a\">\n",
              "  <button class=\"colab-df-quickchart\" onclick=\"quickchart('df-fd59a07b-2370-4d82-a603-07e15fc7d30a')\"\n",
              "            title=\"Suggest charts\"\n",
              "            style=\"display:none;\">\n",
              "\n",
              "<svg xmlns=\"http://www.w3.org/2000/svg\" height=\"24px\"viewBox=\"0 0 24 24\"\n",
              "     width=\"24px\">\n",
              "    <g>\n",
              "        <path d=\"M19 3H5c-1.1 0-2 .9-2 2v14c0 1.1.9 2 2 2h14c1.1 0 2-.9 2-2V5c0-1.1-.9-2-2-2zM9 17H7v-7h2v7zm4 0h-2V7h2v10zm4 0h-2v-4h2v4z\"/>\n",
              "    </g>\n",
              "</svg>\n",
              "  </button>\n",
              "\n",
              "<style>\n",
              "  .colab-df-quickchart {\n",
              "      --bg-color: #E8F0FE;\n",
              "      --fill-color: #1967D2;\n",
              "      --hover-bg-color: #E2EBFA;\n",
              "      --hover-fill-color: #174EA6;\n",
              "      --disabled-fill-color: #AAA;\n",
              "      --disabled-bg-color: #DDD;\n",
              "  }\n",
              "\n",
              "  [theme=dark] .colab-df-quickchart {\n",
              "      --bg-color: #3B4455;\n",
              "      --fill-color: #D2E3FC;\n",
              "      --hover-bg-color: #434B5C;\n",
              "      --hover-fill-color: #FFFFFF;\n",
              "      --disabled-bg-color: #3B4455;\n",
              "      --disabled-fill-color: #666;\n",
              "  }\n",
              "\n",
              "  .colab-df-quickchart {\n",
              "    background-color: var(--bg-color);\n",
              "    border: none;\n",
              "    border-radius: 50%;\n",
              "    cursor: pointer;\n",
              "    display: none;\n",
              "    fill: var(--fill-color);\n",
              "    height: 32px;\n",
              "    padding: 0;\n",
              "    width: 32px;\n",
              "  }\n",
              "\n",
              "  .colab-df-quickchart:hover {\n",
              "    background-color: var(--hover-bg-color);\n",
              "    box-shadow: 0 1px 2px rgba(60, 64, 67, 0.3), 0 1px 3px 1px rgba(60, 64, 67, 0.15);\n",
              "    fill: var(--button-hover-fill-color);\n",
              "  }\n",
              "\n",
              "  .colab-df-quickchart-complete:disabled,\n",
              "  .colab-df-quickchart-complete:disabled:hover {\n",
              "    background-color: var(--disabled-bg-color);\n",
              "    fill: var(--disabled-fill-color);\n",
              "    box-shadow: none;\n",
              "  }\n",
              "\n",
              "  .colab-df-spinner {\n",
              "    border: 2px solid var(--fill-color);\n",
              "    border-color: transparent;\n",
              "    border-bottom-color: var(--fill-color);\n",
              "    animation:\n",
              "      spin 1s steps(1) infinite;\n",
              "  }\n",
              "\n",
              "  @keyframes spin {\n",
              "    0% {\n",
              "      border-color: transparent;\n",
              "      border-bottom-color: var(--fill-color);\n",
              "      border-left-color: var(--fill-color);\n",
              "    }\n",
              "    20% {\n",
              "      border-color: transparent;\n",
              "      border-left-color: var(--fill-color);\n",
              "      border-top-color: var(--fill-color);\n",
              "    }\n",
              "    30% {\n",
              "      border-color: transparent;\n",
              "      border-left-color: var(--fill-color);\n",
              "      border-top-color: var(--fill-color);\n",
              "      border-right-color: var(--fill-color);\n",
              "    }\n",
              "    40% {\n",
              "      border-color: transparent;\n",
              "      border-right-color: var(--fill-color);\n",
              "      border-top-color: var(--fill-color);\n",
              "    }\n",
              "    60% {\n",
              "      border-color: transparent;\n",
              "      border-right-color: var(--fill-color);\n",
              "    }\n",
              "    80% {\n",
              "      border-color: transparent;\n",
              "      border-right-color: var(--fill-color);\n",
              "      border-bottom-color: var(--fill-color);\n",
              "    }\n",
              "    90% {\n",
              "      border-color: transparent;\n",
              "      border-bottom-color: var(--fill-color);\n",
              "    }\n",
              "  }\n",
              "</style>\n",
              "\n",
              "  <script>\n",
              "    async function quickchart(key) {\n",
              "      const quickchartButtonEl =\n",
              "        document.querySelector('#' + key + ' button');\n",
              "      quickchartButtonEl.disabled = true;  // To prevent multiple clicks.\n",
              "      quickchartButtonEl.classList.add('colab-df-spinner');\n",
              "      try {\n",
              "        const charts = await google.colab.kernel.invokeFunction(\n",
              "            'suggestCharts', [key], {});\n",
              "      } catch (error) {\n",
              "        console.error('Error during call to suggestCharts:', error);\n",
              "      }\n",
              "      quickchartButtonEl.classList.remove('colab-df-spinner');\n",
              "      quickchartButtonEl.classList.add('colab-df-quickchart-complete');\n",
              "    }\n",
              "    (() => {\n",
              "      let quickchartButtonEl =\n",
              "        document.querySelector('#df-fd59a07b-2370-4d82-a603-07e15fc7d30a button');\n",
              "      quickchartButtonEl.style.display =\n",
              "        google.colab.kernel.accessAllowed ? 'block' : 'none';\n",
              "    })();\n",
              "  </script>\n",
              "</div>\n",
              "    </div>\n",
              "  </div>\n"
            ],
            "application/vnd.google.colaboratory.intrinsic+json": {
              "type": "dataframe",
              "summary": "{\n  \"name\": \"train_df\",\n  \"rows\": 5,\n  \"fields\": [\n    {\n      \"column\": \"category\",\n      \"properties\": {\n        \"dtype\": \"category\",\n        \"num_unique_values\": 2,\n        \"samples\": [\n          \"Sci/Tech\",\n          \"Business\"\n        ],\n        \"semantic_type\": \"\",\n        \"description\": \"\"\n      }\n    },\n    {\n      \"column\": \"description\",\n      \"properties\": {\n        \"dtype\": \"string\",\n        \"num_unique_values\": 5,\n        \"samples\": [\n          \" TORONTO, Canada    A second team of rocketeers competing for the  #36;10 million Ansari X Prize, a contest for privately funded suborbital space flight, has officially announced the first launch date for its manned rocket.\",\n          \" Southern California's smog fighting agency went after emissions of the bovine variety Friday, adopting the nation's first rules to reduce air pollution from dairy cow manure.\"\n        ],\n        \"semantic_type\": \"\",\n        \"description\": \"\"\n      }\n    }\n  ]\n}"
            }
          },
          "metadata": {}
        },
        {
          "output_type": "execute_result",
          "data": {
            "text/plain": [
              "(120000, 7600)"
            ]
          },
          "metadata": {},
          "execution_count": 19
        }
      ]
    },
    {
      "cell_type": "markdown",
      "source": [
        "Создадим следующий пайплайн:\n",
        "1. Преобразование **RAW** (исходного) текста в аннотированный формат (документ)\n",
        "2. Вычисление эмбеддингов предложений\n",
        "3. Дообучение классификатора"
      ],
      "metadata": {
        "id": "uSAsaQQh47ps"
      }
    },
    {
      "cell_type": "code",
      "source": [
        "# Преобразование исходного текста в аннотированный формат\n",
        "document = (\n",
        "    sparknlp.base.DocumentAssembler()\n",
        "        .setInputCol(\"description\")\n",
        "        .setOutputCol(\"document\")\n",
        ")\n",
        "\n",
        "# Вычисление эмбеддингов\n",
        "use = (\n",
        "    sparknlp.annotator.UniversalSentenceEncoder.pretrained()\n",
        "     .setInputCols([\"document\"])\n",
        "     .setOutputCol(\"sentence_embeddings\")\n",
        ")\n",
        "\n",
        "# Сама модель классификатора\n",
        "classsifierdl = (\n",
        "    sparknlp.annotator.ClassifierDLApproach()\n",
        "      .setInputCols([\"sentence_embeddings\"])\n",
        "      .setOutputCol(\"class\")\n",
        "      .setLabelColumn(\"category\")\n",
        "      .setMaxEpochs(5)\n",
        "      .setEnableOutputLogs(True)\n",
        ")\n",
        "\n",
        "dl_pipeline = Pipeline(stages=[\n",
        "    document,\n",
        "    use,\n",
        "    classsifierdl\n",
        "])"
      ],
      "metadata": {
        "colab": {
          "base_uri": "https://localhost:8080/"
        },
        "id": "z6-U6NV-41OY",
        "outputId": "d670c4c5-b1e7-4a59-dbce-bfbf441f967a"
      },
      "execution_count": 23,
      "outputs": [
        {
          "output_type": "stream",
          "name": "stdout",
          "text": [
            "tfhub_use download started this may take some time.\n",
            "Approximate size to download 923.7 MB\n",
            "[OK!]\n"
          ]
        }
      ]
    },
    {
      "cell_type": "code",
      "source": [
        "train_subsample = train_df.sample(0.1)\n",
        "dl_pipeline_model = dl_pipeline.fit(train_subsample)"
      ],
      "metadata": {
        "id": "yli1QknJ5N7X"
      },
      "execution_count": 24,
      "outputs": []
    },
    {
      "cell_type": "markdown",
      "source": [
        "Обученные модели можно сохранять и загружать:"
      ],
      "metadata": {
        "id": "SAo8r7PQ6AWM"
      }
    },
    {
      "cell_type": "code",
      "source": [
        "# Cохраняем обученную модель\n",
        "dl_pipeline_model.stages[-1].write().overwrite().save('./tmp_classifierDL_model')"
      ],
      "metadata": {
        "id": "pS7DqPcK53KB"
      },
      "execution_count": 25,
      "outputs": []
    },
    {
      "cell_type": "code",
      "source": [
        "# Загружаем\n",
        "classsifierdl_loaded = (\n",
        "    sparknlp.annotator.ClassifierDLModel.load(\"./tmp_classifierDL_model\")\n",
        "      .setInputCols([\"sentence_embeddings\"])\n",
        "      .setOutputCol(\"class\")\n",
        ")\n",
        "\n",
        "dl_pipeline_eval = Pipeline(stages=[\n",
        "    document,\n",
        "    use,\n",
        "    classsifierdl_loaded\n",
        "])"
      ],
      "metadata": {
        "id": "kdrXREL56IP2"
      },
      "execution_count": 26,
      "outputs": []
    },
    {
      "cell_type": "markdown",
      "source": [
        "Применим получившуюся модель для тестовых данных:"
      ],
      "metadata": {
        "id": "gf8_j5tj6FwP"
      }
    },
    {
      "cell_type": "code",
      "source": [
        "test_df_sample = spark.createDataFrame([\n",
        "    \"Unions representing workers at Turner Newall say they are 'disappointed' after talks with stricken parent firm Federal Mogul.\",\n",
        "    \"Scientists have discovered irregular lumps beneath the icy surface of Jupiter's largest moon, Ganymede. These irregular masses may be rock formations, supported by Ganymede's icy shell for btest_dfions of years...\"\n",
        "], T.StringType()).toDF(\"description\")\n",
        "\n",
        "prediction = dl_pipeline_eval.fit(test_df_sample).transform(test_df_sample)\n",
        "\n",
        "prediction.select('class.result').show()\n",
        "prediction.select('class.metadata').show(truncate=False)"
      ],
      "metadata": {
        "colab": {
          "base_uri": "https://localhost:8080/"
        },
        "id": "eIRbkSbs6T_U",
        "outputId": "d3a73fa3-40ae-498e-f788-6ee2f8b1a9fd"
      },
      "execution_count": 28,
      "outputs": [
        {
          "output_type": "stream",
          "name": "stdout",
          "text": [
            "+----------+\n",
            "|    result|\n",
            "+----------+\n",
            "|[Business]|\n",
            "|[Sci/Tech]|\n",
            "+----------+\n",
            "\n",
            "+----------------------------------------------------------------------------------------------------------------+\n",
            "|metadata                                                                                                        |\n",
            "+----------------------------------------------------------------------------------------------------------------+\n",
            "|[{Sports -> 3.989106E-8, Business -> 0.9999995, World -> 2.3197624E-7, Sci/Tech -> 2.3028691E-7, sentence -> 0}]|\n",
            "|[{Sports -> 2.2062956E-7, Business -> 7.281296E-8, World -> 6.2745954E-8, Sci/Tech -> 0.9999995, sentence -> 0}]|\n",
            "+----------------------------------------------------------------------------------------------------------------+\n",
            "\n"
          ]
        }
      ]
    },
    {
      "cell_type": "code",
      "source": [
        "predictions = dl_pipeline_eval.fit(test_df).transform(test_df)\n",
        "\n",
        "predictions\\\n",
        ".select('category', 'description', 'class.result')\\\n",
        ".sample(0.01)\\\n",
        ".show(10, truncate=50)"
      ],
      "metadata": {
        "colab": {
          "base_uri": "https://localhost:8080/"
        },
        "id": "zuLycl_C9U8J",
        "outputId": "bded3fcd-0065-4b3f-a3a6-6e8fd1479dac"
      },
      "execution_count": 29,
      "outputs": [
        {
          "output_type": "stream",
          "name": "stdout",
          "text": [
            "+--------+--------------------------------------------------+----------+\n",
            "|category|                                       description|    result|\n",
            "+--------+--------------------------------------------------+----------+\n",
            "|  Sports|Michael Phelps won the gold medal in the 400 in...|  [Sports]|\n",
            "|  Sports|The Cleveland Indians pulled within one game of...|  [Sports]|\n",
            "|Business| The dollar extended gains against the  euro on...|[Business]|\n",
            "|  Sports| Carly Patterson upstaged Russian diva  Svetlan...|  [Sports]|\n",
            "|  Sports|IT WAS the night of the longest race and the sh...|  [Sports]|\n",
            "|Sci/Tech|One thing that #39;s always irritated those who...|[Sci/Tech]|\n",
            "|Sci/Tech|Hawaii #39;s Keck Observatory has confirmed the...|[Sci/Tech]|\n",
            "|   World| A group calling itself the Secret Islamic Army...|   [World]|\n",
            "|  Sports| Sweden's Fredrik Jacobson made his bid  for a ...|  [Sports]|\n",
            "|  Sports| Troy Glaus was activated from the 60 day disab...|  [Sports]|\n",
            "+--------+--------------------------------------------------+----------+\n",
            "only showing top 10 rows\n",
            "\n"
          ]
        }
      ]
    },
    {
      "cell_type": "markdown",
      "source": [
        "### `Оценка качества`"
      ],
      "metadata": {
        "id": "JJbTFL6I9mRc"
      }
    },
    {
      "cell_type": "markdown",
      "source": [
        "Оценим качество получившейся модели, посчитав Accuracy.\n",
        "\n",
        "Это можно сделать двумя путями:\n",
        "1. Посчитать Accuracy вручную\n",
        "2. Использовать `MulticlassClassificationEvaluator`\n",
        "\n",
        "Сделаем это обоими методами."
      ],
      "metadata": {
        "id": "frArou0O9tKh"
      }
    },
    {
      "cell_type": "markdown",
      "source": [
        "Оставим только нужные колонки для удобства. Также, преобразуем колонку с предсказанием. `class.result` — список из одного элемента. `F.explode` позволяет его распаковать. Как альтернативу, можно использовать `F.element_at(F.col('class.result'), 1)`:"
      ],
      "metadata": {
        "id": "FShVWhUN9v2X"
      }
    },
    {
      "cell_type": "code",
      "source": [
        "predictions = predictions.select('category', 'description', F.explode('class.result').alias('prediction'))\n",
        "predictions.show(10)"
      ],
      "metadata": {
        "colab": {
          "base_uri": "https://localhost:8080/"
        },
        "id": "PPI2hYss9jI_",
        "outputId": "a8c492d2-2702-4e83-f13a-2eb7d3acf5d8"
      },
      "execution_count": 30,
      "outputs": [
        {
          "output_type": "stream",
          "name": "stdout",
          "text": [
            "+--------+--------------------+----------+\n",
            "|category|         description|prediction|\n",
            "+--------+--------------------+----------+\n",
            "|Business|Unions representi...|  Business|\n",
            "|Sci/Tech| TORONTO, Canada ...|  Sci/Tech|\n",
            "|Sci/Tech| A company founde...|  Sci/Tech|\n",
            "|Sci/Tech| It's barely dawn...|    Sports|\n",
            "|Sci/Tech| Southern Califor...|  Business|\n",
            "|Sci/Tech|\"The British Depa...|  Sci/Tech|\n",
            "|Sci/Tech|\"confessed author...|  Sci/Tech|\n",
            "|Sci/Tech|\\\\FOAF/LOAF  and ...|  Sci/Tech|\n",
            "|Sci/Tech|\"Wiltshire Police...|  Sci/Tech|\n",
            "|Sci/Tech|In its first two ...|  Sci/Tech|\n",
            "+--------+--------------------+----------+\n",
            "only showing top 10 rows\n",
            "\n"
          ]
        }
      ]
    },
    {
      "cell_type": "code",
      "source": [
        "(\n",
        "    predictions\n",
        "        .select(F.mean(\n",
        "            # Для агрегации усреднением нужно выполнить преобразование к вещественному типу\n",
        "            (F.col('category') == F.col('prediction')).cast(T.FloatType())\n",
        "        ).alias('accuracy'))\n",
        ").show()"
      ],
      "metadata": {
        "colab": {
          "base_uri": "https://localhost:8080/"
        },
        "id": "XVtrQnYB9z88",
        "outputId": "020c6907-4e13-4385-d7d1-917111c11a3a"
      },
      "execution_count": 31,
      "outputs": [
        {
          "output_type": "stream",
          "name": "stdout",
          "text": [
            "+------------------+\n",
            "|          accuracy|\n",
            "+------------------+\n",
            "|0.8793421052631579|\n",
            "+------------------+\n",
            "\n"
          ]
        }
      ]
    },
    {
      "cell_type": "markdown",
      "source": [
        "### Второй вариант вычисления метрики\n",
        "\n",
        "`MulticlassClassificationEvaluator` требует колонки вещественного типа, поэтому нам нужно предварительно выполнить кодирование названий категорий в индексы. Один из вариантов это сделать: `join` с таблицей, в которой хранится это соответствие.\n",
        "\n",
        "Такую табличку можно сделать множеством вариантов. Вот несколько из них:"
      ],
      "metadata": {
        "id": "aRDXt5bU-GLC"
      }
    },
    {
      "cell_type": "code",
      "source": [
        "# Сложный вариант, но полезный, когда классов много и нужно выполнить детерминированное кодирование (за счёт сортировки)\n",
        "# Для этого сначала категории уникуются, затем устанавливается соответствие, нумеруя с 1\n",
        "wspec = Window().partitionBy().orderBy('category')\n",
        "label_to_idx = (\n",
        "    train_df\n",
        "        .select('category')\n",
        "        .distinct()\n",
        "        .select(F.col('category').alias('label'), F.row_number().over(wspec).alias('idx'))\n",
        ")\n",
        "label_to_idx.show()"
      ],
      "metadata": {
        "colab": {
          "base_uri": "https://localhost:8080/"
        },
        "id": "N2lDmHd-94tp",
        "outputId": "f13d44f0-d941-435d-aef0-f248d164e5e1"
      },
      "execution_count": 32,
      "outputs": [
        {
          "output_type": "stream",
          "name": "stdout",
          "text": [
            "+--------+---+\n",
            "|   label|idx|\n",
            "+--------+---+\n",
            "|Business|  1|\n",
            "|Sci/Tech|  2|\n",
            "|  Sports|  3|\n",
            "|   World|  4|\n",
            "+--------+---+\n",
            "\n"
          ]
        }
      ]
    },
    {
      "cell_type": "code",
      "source": [
        "predictions_with_idx = (\n",
        "    predictions\n",
        "        .join(\n",
        "            F.broadcast(label_to_idx).withColumnRenamed('idx', 'category_idx'),\n",
        "            on=predictions.category == label_to_idx.label\n",
        "        )\n",
        "        .drop('label')\n",
        "        .join(\n",
        "            F.broadcast(label_to_idx).withColumnRenamed('idx', 'prediction_idx'),\n",
        "            on=F.col('prediction') == label_to_idx.label\n",
        "        )\n",
        "        .drop('label')\n",
        ")\n",
        "predictions_with_idx.show(10)"
      ],
      "metadata": {
        "colab": {
          "base_uri": "https://localhost:8080/"
        },
        "id": "Iqw8Omve-DpW",
        "outputId": "5c1068d1-351d-49e9-8198-5d3181453f08"
      },
      "execution_count": 33,
      "outputs": [
        {
          "output_type": "stream",
          "name": "stdout",
          "text": [
            "+--------+--------------------+----------+------------+--------------+\n",
            "|category|         description|prediction|category_idx|prediction_idx|\n",
            "+--------+--------------------+----------+------------+--------------+\n",
            "|Business|Unions representi...|  Business|           1|             1|\n",
            "|Sci/Tech| TORONTO, Canada ...|  Sci/Tech|           2|             2|\n",
            "|Sci/Tech| A company founde...|  Sci/Tech|           2|             2|\n",
            "|Sci/Tech| It's barely dawn...|    Sports|           2|             3|\n",
            "|Sci/Tech| Southern Califor...|  Business|           2|             1|\n",
            "|Sci/Tech|\"The British Depa...|  Sci/Tech|           2|             2|\n",
            "|Sci/Tech|\"confessed author...|  Sci/Tech|           2|             2|\n",
            "|Sci/Tech|\\\\FOAF/LOAF  and ...|  Sci/Tech|           2|             2|\n",
            "|Sci/Tech|\"Wiltshire Police...|  Sci/Tech|           2|             2|\n",
            "|Sci/Tech|In its first two ...|  Sci/Tech|           2|             2|\n",
            "+--------+--------------------+----------+------------+--------------+\n",
            "only showing top 10 rows\n",
            "\n"
          ]
        }
      ]
    },
    {
      "cell_type": "code",
      "source": [
        "evaluator = MulticlassClassificationEvaluator(\n",
        "    predictionCol='prediction_idx', labelCol='category_idx', metricName='accuracy'\n",
        ")\n",
        "evaluator.evaluate((\n",
        "    predictions_with_idx\n",
        "        .select(\n",
        "            F.col('category_idx').cast(T.DoubleType()),\n",
        "            F.col('prediction_idx').cast(T.DoubleType())\n",
        "        )\n",
        "))"
      ],
      "metadata": {
        "colab": {
          "base_uri": "https://localhost:8080/"
        },
        "id": "Pe5moEqj-ig7",
        "outputId": "71802df2-4e51-4261-a6ee-88224dcf556b"
      },
      "execution_count": 34,
      "outputs": [
        {
          "output_type": "execute_result",
          "data": {
            "text/plain": [
              "0.8793421052631579"
            ]
          },
          "metadata": {},
          "execution_count": 34
        }
      ]
    },
    {
      "cell_type": "markdown",
      "source": [
        "Ешё один вариант для кодирования строк, который больше подходит по стилю при работы с пайплайнами: `StringIndexer`."
      ],
      "metadata": {
        "id": "eZy2AjT6-sn2"
      }
    },
    {
      "cell_type": "code",
      "source": [
        "from pyspark.ml.feature import StringIndexer\n",
        "\n",
        "indexer = StringIndexer(inputCol='label', outputCol='idx')\n",
        "indexer_model = indexer.fit(train_df.withColumnRenamed('category', 'label'))\n",
        "\n",
        "predictions_with_idx = indexer_model.transform(\n",
        "    predictions.withColumnRenamed('category', 'label')\n",
        ").withColumnRenamed('idx', 'category_idx').withColumnRenamed('label', 'category')\n",
        "\n",
        "predictions_with_idx = indexer_model.transform(\n",
        "    predictions_with_idx.withColumnRenamed('prediction', 'label')\n",
        ").withColumnRenamed('idx', 'prediction_idx').withColumnRenamed('label', 'prediction')\n",
        "predictions_with_idx.show(10)"
      ],
      "metadata": {
        "colab": {
          "base_uri": "https://localhost:8080/"
        },
        "id": "-tcDE6ze-mzI",
        "outputId": "520a60a1-fc7d-4332-ad6d-ecf855899f9c"
      },
      "execution_count": 35,
      "outputs": [
        {
          "output_type": "stream",
          "name": "stdout",
          "text": [
            "+--------+--------------------+----------+------------+--------------+\n",
            "|category|         description|prediction|category_idx|prediction_idx|\n",
            "+--------+--------------------+----------+------------+--------------+\n",
            "|Business|Unions representi...|  Business|         0.0|           0.0|\n",
            "|Sci/Tech| TORONTO, Canada ...|  Sci/Tech|         1.0|           1.0|\n",
            "|Sci/Tech| A company founde...|  Sci/Tech|         1.0|           1.0|\n",
            "|Sci/Tech| It's barely dawn...|    Sports|         1.0|           2.0|\n",
            "|Sci/Tech| Southern Califor...|  Business|         1.0|           0.0|\n",
            "|Sci/Tech|\"The British Depa...|  Sci/Tech|         1.0|           1.0|\n",
            "|Sci/Tech|\"confessed author...|  Sci/Tech|         1.0|           1.0|\n",
            "|Sci/Tech|\\\\FOAF/LOAF  and ...|  Sci/Tech|         1.0|           1.0|\n",
            "|Sci/Tech|\"Wiltshire Police...|  Sci/Tech|         1.0|           1.0|\n",
            "|Sci/Tech|In its first two ...|  Sci/Tech|         1.0|           1.0|\n",
            "+--------+--------------------+----------+------------+--------------+\n",
            "only showing top 10 rows\n",
            "\n"
          ]
        }
      ]
    },
    {
      "cell_type": "code",
      "source": [
        "evaluator.evaluate(predictions_with_idx)"
      ],
      "metadata": {
        "colab": {
          "base_uri": "https://localhost:8080/"
        },
        "id": "0jQeFlvT-1bO",
        "outputId": "82bcdbe3-cf43-4308-bebe-e6f428b040bf"
      },
      "execution_count": 36,
      "outputs": [
        {
          "output_type": "execute_result",
          "data": {
            "text/plain": [
              "0.8793421052631579"
            ]
          },
          "metadata": {},
          "execution_count": 36
        }
      ]
    }
  ]
}