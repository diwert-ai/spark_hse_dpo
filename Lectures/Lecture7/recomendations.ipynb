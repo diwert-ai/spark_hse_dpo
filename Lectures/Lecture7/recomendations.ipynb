{
 "cells": [
  {
   "cell_type": "markdown",
   "id": "cf5fa89c-c582-4e6c-8509-839270ac5bb1",
   "metadata": {},
   "source": [
    "# `Промышленное машинное обучение на Spark`\n",
    "## `Занятие 07: Spark Recomendation Systems. ALS.`"
   ]
  },
  {
   "cell_type": "markdown",
   "id": "a97bd924-cdbe-454c-a5d2-486bd939a943",
   "metadata": {},
   "source": [
    "О чём можно узнать из этого ноутбука:\n",
    "\n",
    "* Построение рекомендательной системы для фильмов\n",
    "* Алгоритм ALS в Pyspark\n",
    "* Настройка выбор оптимальных гиперпараметров для ALS модели"
   ]
  },
  {
   "cell_type": "code",
   "execution_count": 1,
   "id": "0c5e7973-3e56-446c-a257-f1b10c652533",
   "metadata": {},
   "outputs": [
    {
     "name": "stdout",
     "output_type": "stream",
     "text": [
      "Defaulting to user installation because normal site-packages is not writeable\n",
      "Requirement already satisfied: pyspark in /home/evgeniy/.local/lib/python3.10/site-packages (3.5.0)\n",
      "Requirement already satisfied: pyarrow in /home/evgeniy/.local/lib/python3.10/site-packages (13.0.0)\n",
      "Requirement already satisfied: seaborn in /home/evgeniy/.local/lib/python3.10/site-packages (0.13.0)\n",
      "Requirement already satisfied: py4j==0.10.9.7 in /home/evgeniy/.local/lib/python3.10/site-packages (from pyspark) (0.10.9.7)\n",
      "Requirement already satisfied: numpy>=1.16.6 in /home/evgeniy/.local/lib/python3.10/site-packages (from pyarrow) (1.26.0)\n",
      "Requirement already satisfied: matplotlib!=3.6.1,>=3.3 in /home/evgeniy/.local/lib/python3.10/site-packages (from seaborn) (3.8.0)\n",
      "Requirement already satisfied: pandas>=1.2 in /home/evgeniy/.local/lib/python3.10/site-packages (from seaborn) (2.1.1)\n",
      "Requirement already satisfied: cycler>=0.10 in /home/evgeniy/.local/lib/python3.10/site-packages (from matplotlib!=3.6.1,>=3.3->seaborn) (0.12.1)\n",
      "Requirement already satisfied: contourpy>=1.0.1 in /home/evgeniy/.local/lib/python3.10/site-packages (from matplotlib!=3.6.1,>=3.3->seaborn) (1.1.1)\n",
      "Requirement already satisfied: pillow>=6.2.0 in /home/evgeniy/.local/lib/python3.10/site-packages (from matplotlib!=3.6.1,>=3.3->seaborn) (10.0.1)\n",
      "Requirement already satisfied: pyparsing>=2.3.1 in /usr/lib/python3/dist-packages (from matplotlib!=3.6.1,>=3.3->seaborn) (2.4.7)\n",
      "Requirement already satisfied: python-dateutil>=2.7 in /home/evgeniy/.local/lib/python3.10/site-packages (from matplotlib!=3.6.1,>=3.3->seaborn) (2.8.2)\n",
      "Requirement already satisfied: fonttools>=4.22.0 in /home/evgeniy/.local/lib/python3.10/site-packages (from matplotlib!=3.6.1,>=3.3->seaborn) (4.43.1)\n",
      "Requirement already satisfied: kiwisolver>=1.0.1 in /home/evgeniy/.local/lib/python3.10/site-packages (from matplotlib!=3.6.1,>=3.3->seaborn) (1.4.5)\n",
      "Requirement already satisfied: packaging>=20.0 in /home/evgeniy/.local/lib/python3.10/site-packages (from matplotlib!=3.6.1,>=3.3->seaborn) (23.2)\n",
      "Requirement already satisfied: pytz>=2020.1 in /usr/lib/python3/dist-packages (from pandas>=1.2->seaborn) (2022.1)\n",
      "Requirement already satisfied: tzdata>=2022.1 in /home/evgeniy/.local/lib/python3.10/site-packages (from pandas>=1.2->seaborn) (2023.3)\n",
      "Requirement already satisfied: six>=1.5 in /usr/lib/python3/dist-packages (from python-dateutil>=2.7->matplotlib!=3.6.1,>=3.3->seaborn) (1.16.0)\n"
     ]
    }
   ],
   "source": [
    "! pip3 install pyspark pyarrow seaborn "
   ]
  },
  {
   "cell_type": "code",
   "execution_count": 2,
   "id": "d6e0d59c-d94a-4e75-9cf5-d6237d7dd566",
   "metadata": {},
   "outputs": [],
   "source": [
    "import os\n",
    "import sys\n",
    "import urllib\n",
    "import zipfile\n",
    "import seaborn as sns\n",
    "import matplotlib.pyplot as plt\n",
    "\n",
    "\n",
    "import pyspark.sql.functions as F\n",
    "\n",
    "from pyspark import SparkConf, SparkContext\n",
    "from pyspark.sql.types import StructType, StructField\n",
    "from pyspark.sql.types import StringType, FloatType, IntegerType, LongType\n",
    "from pyspark.sql import SparkSession\n",
    "from pyspark.ml.recommendation import ALS\n",
    "from pyspark.ml.evaluation import RegressionEvaluator\n",
    "from pyspark.ml.tuning import TrainValidationSplit, ParamGridBuilder, CrossValidator\n",
    "\n",
    "%matplotlib inline"
   ]
  },
  {
   "cell_type": "code",
   "execution_count": 3,
   "id": "6b38056e-0206-4d0b-9fe7-681bc42c64c3",
   "metadata": {},
   "outputs": [
    {
     "name": "stderr",
     "output_type": "stream",
     "text": [
      "23/11/25 01:17:26 WARN Utils: Your hostname, vm-01 resolves to a loopback address: 127.0.1.1; using 10.128.0.16 instead (on interface eth0)\n",
      "23/11/25 01:17:26 WARN Utils: Set SPARK_LOCAL_IP if you need to bind to another address\n",
      "Setting default log level to \"WARN\".\n",
      "To adjust logging level use sc.setLogLevel(newLevel). For SparkR, use setLogLevel(newLevel).\n",
      "23/11/25 01:17:27 WARN NativeCodeLoader: Unable to load native-hadoop library for your platform... using builtin-java classes where applicable\n"
     ]
    }
   ],
   "source": [
    "conf = (\n",
    "    SparkConf()\n",
    "        .set('spark.ui.port', '4050')\n",
    "        .set('spark.driver.memory', '4g')\n",
    "        .set('spark.executor.extraJavaOptions', '-Xss512m')\n",
    "        .set('spark.driver.extraJavaOptions', '-Xss512m')\n",
    "        .setMaster('local[*]')\n",
    ")\n",
    "sc = SparkContext(conf=conf)\n",
    "spark = SparkSession(sc)"
   ]
  },
  {
   "cell_type": "markdown",
   "id": "0be8d011-29d0-428a-8329-c5021b0b4b1e",
   "metadata": {},
   "source": [
    "### `Загрузка данных`"
   ]
  },
  {
   "cell_type": "markdown",
   "id": "489c7578-33d6-4741-9d72-fa467c4d8f04",
   "metadata": {},
   "source": [
    "Загрузим и распакуем данные с официального источника. Для экспериментов возьмём самый маленький датасет, в котором содержаться 100тыс оценок от 1000 пользователей по 1700 фильмам"
   ]
  },
  {
   "cell_type": "code",
   "execution_count": 4,
   "id": "2d9bd65b-e23a-4d44-8450-54f5e51803f0",
   "metadata": {},
   "outputs": [],
   "source": [
    "file_url = \"https://files.grouplens.org/datasets/movielens/ml-100k.zip\"\n",
    "\n",
    "archive_filename = \"movielens-100k.zip\"\n",
    "urllib.request.urlretrieve(file_url, archive_filename)\n",
    "\n",
    "path = \"movielens-100k\"\n",
    "with zipfile.ZipFile(archive_filename, 'r') as zip_ref:\n",
    "    zip_ref.extractall(path)\n",
    "\n",
    "os.remove(archive_filename)"
   ]
  },
  {
   "cell_type": "markdown",
   "id": "342ac91b-b170-4bc4-ba50-462707884aa8",
   "metadata": {},
   "source": [
    "Информация о поставленных оценках содержиться в файле u.data. Прочитаем и загрузим его в Spark"
   ]
  },
  {
   "cell_type": "code",
   "execution_count": 5,
   "id": "d2ec3877-4e9e-4f15-9583-6a560bdb5aa4",
   "metadata": {},
   "outputs": [],
   "source": [
    "# Зададим пути к файлам из датасета\n",
    "data_file = f\"{path}/ml-100k/u.data\"\n",
    "\n",
    "file_type = \"csv\"\n",
    "infer_schema = \"false\"\n",
    "first_row_is_header = \"false\"\n",
    "delimiter = \"\\t\"\n",
    "\n",
    "schema = StructType(\n",
    "    (\n",
    "        StructField(\"UserId\", IntegerType()),\n",
    "        StructField(\"MovieId\", IntegerType()),\n",
    "        StructField(\"Rating\", FloatType()),\n",
    "        StructField(\"Timestamp\", LongType()),\n",
    "    )\n",
    ")\n",
    "\n",
    "ratings_df = (\n",
    "    spark.read.csv(data_file, schema=schema, sep=\"\\t\", header=False)\n",
    ")"
   ]
  },
  {
   "cell_type": "code",
   "execution_count": 6,
   "id": "32c84d33-9891-4980-a360-bf0ca96119bd",
   "metadata": {},
   "outputs": [
    {
     "name": "stderr",
     "output_type": "stream",
     "text": [
      "                                                                                                                                                                                     \r"
     ]
    },
    {
     "name": "stdout",
     "output_type": "stream",
     "text": [
      "+------+-------+------+---------+\n",
      "|UserId|MovieId|Rating|Timestamp|\n",
      "+------+-------+------+---------+\n",
      "|   196|    242|   3.0|881250949|\n",
      "|   186|    302|   3.0|891717742|\n",
      "|    22|    377|   1.0|878887116|\n",
      "|   244|     51|   2.0|880606923|\n",
      "|   166|    346|   1.0|886397596|\n",
      "|   298|    474|   4.0|884182806|\n",
      "|   115|    265|   2.0|881171488|\n",
      "|   253|    465|   5.0|891628467|\n",
      "|   305|    451|   3.0|886324817|\n",
      "|     6|     86|   3.0|883603013|\n",
      "+------+-------+------+---------+\n",
      "only showing top 10 rows\n",
      "\n"
     ]
    }
   ],
   "source": [
    "# посмотрим на данные\n",
    "ratings_df.show(10)"
   ]
  },
  {
   "cell_type": "code",
   "execution_count": 7,
   "id": "9f4a7b07-8a94-4f0b-8719-a5ab5deb53f2",
   "metadata": {},
   "outputs": [
    {
     "name": "stdout",
     "output_type": "stream",
     "text": [
      "root\n",
      " |-- UserId: integer (nullable = true)\n",
      " |-- MovieId: integer (nullable = true)\n",
      " |-- Rating: float (nullable = true)\n",
      " |-- Timestamp: long (nullable = true)\n",
      "\n"
     ]
    }
   ],
   "source": [
    "ratings_df.printSchema()"
   ]
  },
  {
   "cell_type": "markdown",
   "id": "e5452f31-3bd7-4713-b67f-9a18cd0ec4b8",
   "metadata": {},
   "source": [
    "### `Исследование и визуализация данных`"
   ]
  },
  {
   "cell_type": "markdown",
   "id": "a02bda54-1d97-4475-9fe4-7a30ea53d2eb",
   "metadata": {},
   "source": [
    "Посмотрим на распределение оценок в данном датасете"
   ]
  },
  {
   "cell_type": "code",
   "execution_count": 8,
   "id": "99f3871e-c868-417e-883b-143513c541a5",
   "metadata": {},
   "outputs": [
    {
     "name": "stderr",
     "output_type": "stream",
     "text": [
      "[Stage 1:>                                                                                                                                                               (0 + 1) / 1]\r"
     ]
    },
    {
     "name": "stdout",
     "output_type": "stream",
     "text": [
      "   Rating  count\n",
      "0     5.0  21201\n",
      "1     2.0  11370\n",
      "2     3.0  27145\n",
      "3     1.0   6110\n",
      "4     4.0  34174\n"
     ]
    },
    {
     "name": "stderr",
     "output_type": "stream",
     "text": [
      "                                                                                                                                                                                     \r"
     ]
    },
    {
     "data": {
      "text/plain": [
       "<Axes: xlabel='Rating', ylabel='count'>"
      ]
     },
     "execution_count": 8,
     "metadata": {},
     "output_type": "execute_result"
    },
    {
     "data": {
      "image/png": "[encoded data removed]",
      "text/plain": [
       "<Figure size 640x480 with 1 Axes>"
      ]
     },
     "metadata": {},
     "output_type": "display_data"
    }
   ],
   "source": [
    "ratings_stat = ratings_df.groupby(\"Rating\").count().toPandas()\n",
    "print(ratings_stat)\n",
    "sns.barplot(ratings_stat, x=\"Rating\", y=\"count\", hue=\"Rating\")"
   ]
  },
  {
   "cell_type": "markdown",
   "id": "028a5b5c-a741-46ab-8514-ffe6dbfb078f",
   "metadata": {},
   "source": [
    "Теперь посмотрим, как часто оценивается тот или иной фильм"
   ]
  },
  {
   "cell_type": "code",
   "execution_count": 9,
   "id": "4f8f2203-3fe8-47e6-b19b-44f4022a4b92",
   "metadata": {},
   "outputs": [
    {
     "name": "stderr",
     "output_type": "stream",
     "text": [
      "                                                                                                                                                                                     \r"
     ]
    },
    {
     "data": {
      "text/plain": [
       "<Axes: xlabel='count', ylabel='Count'>"
      ]
     },
     "execution_count": 9,
     "metadata": {},
     "output_type": "execute_result"
    },
    {
     "data": {
      "image/png": "[encoded data removed]",
      "text/plain": [
       "<Figure size 1000x700 with 1 Axes>"
      ]
     },
     "metadata": {},
     "output_type": "display_data"
    }
   ],
   "source": [
    "fig, ax = plt.subplots(figsize=(10, 7))\n",
    "\n",
    "count_marks_stat = ratings_df.groupby(\"MovieId\").count().toPandas()\n",
    "sns.histplot(count_marks_stat, x=\"count\", ax=ax)"
   ]
  },
  {
   "cell_type": "markdown",
   "id": "fbcf5874-f0ae-40c7-a50d-b0ad0f110060",
   "metadata": {},
   "source": [
    "### `Обучение модели`"
   ]
  },
  {
   "cell_type": "markdown",
   "id": "ab01f4d5-85ce-4b5c-a807-d592df9635f4",
   "metadata": {},
   "source": [
    "Поделим датасет на данные для обучения и теста в пропорции 7 к 3"
   ]
  },
  {
   "cell_type": "code",
   "execution_count": 10,
   "id": "20b51aa1-0d29-4f57-acf3-1c703fec612b",
   "metadata": {},
   "outputs": [
    {
     "name": "stderr",
     "output_type": "stream",
     "text": [
      "                                                                                                                                                                                     \r"
     ]
    },
    {
     "data": {
      "text/plain": [
       "(34892, 15110)"
      ]
     },
     "execution_count": 10,
     "metadata": {},
     "output_type": "execute_result"
    }
   ],
   "source": [
    "ratings_df = ratings_df.sample(fraction=0.5)\n",
    "train_ratings_df, test_ratings_df = ratings_df.randomSplit([0.7, 0.3], seed=123)\n",
    "train_ratings_df, test_ratings_df = train_ratings_df.cache(), test_ratings_df.cache()\n",
    "# Выведем сколько данных попало в обучение, а сколько на тест\n",
    "train_ratings_df.count(), test_ratings_df.count()"
   ]
  },
  {
   "cell_type": "markdown",
   "id": "82ca9167-d757-4b03-ab79-794a7a4aa484",
   "metadata": {},
   "source": [
    "Pyspark предоставляет уже готовый алгоритм ASL из пакета pysprk.recommendation. Поэтому создадим объект для данной модели и проинициализируем его гиперпараметры какими-нибудь значениями, которые потом доуточним на кросс-валидации"
   ]
  },
  {
   "cell_type": "code",
   "execution_count": 11,
   "id": "8c4f6d90-ecb1-4a37-9d92-76c232feac09",
   "metadata": {},
   "outputs": [],
   "source": [
    "als = ALS(\n",
    "    rank=10, # размерность признакового пространства\n",
    "    maxIter=15, # количество итераций в алгоритме решения\n",
    "    regParam=0.05, # параметр регуляризации lambda: Err + lambda(||u|| + ||i||)\n",
    "    coldStartStrategy='drop', # Стратегия холодного старта, не делаем предскзаний\n",
    "                              # для тех пользователей, которых не было в обучении\n",
    "    userCol=\"UserId\", # название колонки с id пользователя\n",
    "    itemCol=\"MovieId\", # название колонки с id предмета\n",
    "    ratingCol=\"Rating\" # название колонки с оценкой\n",
    ")"
   ]
  },
  {
   "cell_type": "code",
   "execution_count": 12,
   "id": "d5d7c673-cf94-4e34-94df-5de717996cc7",
   "metadata": {},
   "outputs": [
    {
     "name": "stdout",
     "output_type": "stream",
     "text": [
      "alpha: alpha for implicit preference (default: 1.0)\n",
      "blockSize: block size for stacking input data in matrices. Data is stacked within partitions. If block size is more than remaining data in a partition then it is adjusted to the size of this data. (default: 4096)\n",
      "checkpointInterval: set checkpoint interval (>= 1) or disable checkpoint (-1). E.g. 10 means that the cache will get checkpointed every 10 iterations. Note: this setting will be ignored if the checkpoint directory is not set in the SparkContext. (default: 10)\n",
      "coldStartStrategy: strategy for dealing with unknown or new users/items at prediction time. This may be useful in cross-validation or production scenarios, for handling user/item ids the model has not seen in the training data. Supported values: 'nan', 'drop'. (default: nan, current: drop)\n",
      "finalStorageLevel: StorageLevel for ALS model factors. (default: MEMORY_AND_DISK)\n",
      "implicitPrefs: whether to use implicit preference (default: False)\n",
      "intermediateStorageLevel: StorageLevel for intermediate datasets. Cannot be 'NONE'. (default: MEMORY_AND_DISK)\n",
      "itemCol: column name for item ids. Ids must be within the integer value range. (default: item, current: MovieId)\n",
      "maxIter: max number of iterations (>= 0). (default: 10, current: 15)\n",
      "nonnegative: whether to use nonnegative constraint for least squares (default: False)\n",
      "numItemBlocks: number of item blocks (default: 10)\n",
      "numUserBlocks: number of user blocks (default: 10)\n",
      "predictionCol: prediction column name. (default: prediction)\n",
      "rank: rank of the factorization (default: 10, current: 10)\n",
      "ratingCol: column name for ratings (default: rating, current: Rating)\n",
      "regParam: regularization parameter (>= 0). (default: 0.1, current: 0.05)\n",
      "seed: random seed. (default: -5678522695086319218)\n",
      "userCol: column name for user ids. Ids must be within the integer value range. (default: user, current: UserId)\n"
     ]
    }
   ],
   "source": [
    "print(als.explainParams())"
   ]
  },
  {
   "cell_type": "markdown",
   "id": "3fb07abd-5d12-4d55-a20a-f32bb15ea71e",
   "metadata": {},
   "source": [
    "Обучим модель на обучающем множестве"
   ]
  },
  {
   "cell_type": "code",
   "execution_count": 13,
   "id": "ef1987d5-478c-4d6e-bda3-42209de830cf",
   "metadata": {},
   "outputs": [
    {
     "name": "stderr",
     "output_type": "stream",
     "text": [
      "23/11/25 01:17:47 WARN InstanceBuilder: Failed to load implementation from:dev.ludovic.netlib.blas.JNIBLAS                                                                           \n",
      "23/11/25 01:17:48 WARN InstanceBuilder: Failed to load implementation from:dev.ludovic.netlib.lapack.JNILAPACK\n"
     ]
    }
   ],
   "source": [
    "trained_model = als.fit(train_ratings_df)"
   ]
  },
  {
   "cell_type": "markdown",
   "id": "426d37a1-9ea1-4e4f-8a6b-1c77c730c290",
   "metadata": {},
   "source": [
    "Теперь сделаем предсказания для всех фильмов и всех пользователей, которые попали в обучающее множество. При этом не забудем удалить те ячейки, у которых уже стоят изначально оценки, поскольку нас интересуют предсказания на непросмотренных пользователем фильмах. "
   ]
  },
  {
   "cell_type": "code",
   "execution_count": 14,
   "id": "16068370-3da5-4546-8617-ea25d71903c5",
   "metadata": {},
   "outputs": [
    {
     "name": "stderr",
     "output_type": "stream",
     "text": [
      "                                                                                                                                                                                     \r"
     ]
    },
    {
     "name": "stdout",
     "output_type": "stream",
     "text": [
      "+------+-------+----------+------+---------+\n",
      "|UserId|MovieId|prediction|Rating|Timestamp|\n",
      "+------+-------+----------+------+---------+\n",
      "|     1|      1|  4.336265|  NULL|     NULL|\n",
      "|     1|      2| 3.5684073|   3.0|876893171|\n",
      "|     1|      3| 1.9782065|  NULL|     NULL|\n",
      "|     1|      4| 3.7050502|  NULL|     NULL|\n",
      "|     1|      7| 2.8149815|  NULL|     NULL|\n",
      "|     1|      8| 3.4838986|   1.0|875072484|\n",
      "|     1|      9|  3.992112|   5.0|878543541|\n",
      "|     1|     11| 3.9418213|  NULL|     NULL|\n",
      "|     1|     16|  4.362282|   5.0|878543541|\n",
      "|     1|     19|  4.160344|  NULL|     NULL|\n",
      "|     1|     20| 4.1146865|   4.0|887431883|\n",
      "|     1|     22| 4.5400934|  NULL|     NULL|\n",
      "|     1|     23| 4.1961293|  NULL|     NULL|\n",
      "|     1|     25|   4.38918|   4.0|875071805|\n",
      "|     1|     26| 3.4825606|   3.0|875072442|\n",
      "|     1|     32| 4.8254066|   5.0|888732909|\n",
      "|     1|     33| 3.5774992|   4.0|878542699|\n",
      "|     1|     36| 2.8443136|  NULL|     NULL|\n",
      "|     1|     37| 1.8247316|  NULL|     NULL|\n",
      "|     1|     39|  4.169288|   4.0|875072173|\n",
      "+------+-------+----------+------+---------+\n",
      "only showing top 20 rows\n",
      "\n"
     ]
    },
    {
     "name": "stderr",
     "output_type": "stream",
     "text": [
      "                                                                                                                                                                                     \r"
     ]
    },
    {
     "data": {
      "text/plain": [
       "1403183"
      ]
     },
     "execution_count": 14,
     "metadata": {},
     "output_type": "execute_result"
    }
   ],
   "source": [
    "users = train_ratings_df.select(\"UserId\").distinct() # берём всех уникальных пользователей\n",
    "items = train_ratings_df.select(\"MovieId\").distinct() # берём всех уникальные фильмы\n",
    "user_item = users.crossJoin(items) # производим декартово произведенеи колонок: пользователь - фильм\n",
    "dfs_pred = trained_model.transform(user_item) # делаем предсказания для сформированных пар\n",
    "\n",
    "# сделаем объединение результатов предсказаний модели с данными для обучения\n",
    "dfs_pred_exclude_train = (\n",
    "    dfs_pred\n",
    "    .join(\n",
    "        train_ratings_df,\n",
    "        on=[\"UserId\", \"MovieId\"],\n",
    "        how='outer'\n",
    "    )\n",
    ")\n",
    "# Если в строке Rating стоит значение NULL, значит этой\n",
    "# строки не было в обучающем множестве \n",
    "dfs_pred_exclude_train.show()\n",
    "\n",
    "# отберём толькоте строки, которые содержат новые предсказания\n",
    "top_all = dfs_pred_exclude_train.filter(dfs_pred_exclude_train.Rating.isNull()) \\\n",
    "    .select(\"UserId\", \"MovieId\", \"prediction\")\n",
    "\n",
    "# In Spark, transformations are lazy evaluation\n",
    "# Use an action to force execute and measure the test time \n",
    "top_all.count()"
   ]
  },
  {
   "cell_type": "code",
   "execution_count": 15,
   "id": "480cd638-d39d-4e5e-a4b0-666812fcde50",
   "metadata": {},
   "outputs": [
    {
     "name": "stderr",
     "output_type": "stream",
     "text": [
      "[Stage 246:>                                                                                                                                                             (0 + 1) / 1]\r"
     ]
    },
    {
     "name": "stdout",
     "output_type": "stream",
     "text": [
      "+------+-------+----------+\n",
      "|UserId|MovieId|prediction|\n",
      "+------+-------+----------+\n",
      "|     1|      1|  4.336265|\n",
      "|     1|      3| 1.9782065|\n",
      "|     1|      4| 3.7050502|\n",
      "|     1|      7| 2.8149815|\n",
      "|     1|     11| 3.9418213|\n",
      "|     1|     19|  4.160344|\n",
      "|     1|     22| 4.5400934|\n",
      "|     1|     23| 4.1961293|\n",
      "|     1|     36| 2.8443136|\n",
      "|     1|     37| 1.8247316|\n",
      "|     1|     48|  4.006388|\n",
      "|     1|     49|   3.19226|\n",
      "|     1|     50|   4.32914|\n",
      "|     1|     51| 4.3464518|\n",
      "|     1|     52| 3.4137795|\n",
      "|     1|     54| 3.0861375|\n",
      "|     1|     57| 4.1293974|\n",
      "|     1|     67| 3.7074199|\n",
      "|     1|     76| 3.2239702|\n",
      "|     1|     77| 3.0887978|\n",
      "+------+-------+----------+\n",
      "only showing top 20 rows\n",
      "\n"
     ]
    },
    {
     "name": "stderr",
     "output_type": "stream",
     "text": [
      "                                                                                                                                                                                     \r"
     ]
    }
   ],
   "source": [
    "top_all.show()"
   ]
  },
  {
   "cell_type": "markdown",
   "id": "16f50f90-488a-4481-b6c0-85a63a9e39b1",
   "metadata": {},
   "source": [
    "### `Оценка качества работы по метрике RMSE`"
   ]
  },
  {
   "cell_type": "markdown",
   "id": "19718c07-1ffa-48a4-8e28-ddd7a6833180",
   "metadata": {},
   "source": [
    "Так как в данной задаче есть точные оценки от пользователей, то в качестве метрики качества можно воспользоваться RMSE\n",
    "\n",
    "$$RMSE(y, y_{true})=\\sqrt{\\sum_{i=1}^{n}\\frac{(y_{i} - y_{i}^{true})^{2}}{n}}$$\n",
    "\n"
   ]
  },
  {
   "cell_type": "code",
   "execution_count": 16,
   "id": "4d22adfd-1808-418d-83c2-432ca79061ab",
   "metadata": {},
   "outputs": [
    {
     "name": "stdout",
     "output_type": "stream",
     "text": [
      "Root Mean Squared Error (RMSE): 1.0953297099230308\n"
     ]
    }
   ],
   "source": [
    "# прогоняем алгоритм на тестовом множестве\n",
    "predictions = trained_model.transform(test_ratings_df)\n",
    "\n",
    "# так как предсказания алгоритма могут \n",
    "# быть больше, чем допустимый диапозон значений [1, 5]\n",
    "# то произведём замену слишком больших и малых значений\n",
    "# на граничные \n",
    "\n",
    "predictions = predictions.withColumn(\n",
    "    \"prediction\",\n",
    "    F.when(\n",
    "        F.col(\"prediction\") < 1, 1\n",
    "    ).otherwise(\n",
    "        F.when(\n",
    "            F.col(\"prediction\") > 5, 5\n",
    "        ).otherwise(F.col(\"prediction\"))\n",
    "        \n",
    "    )\n",
    ")\n",
    "\n",
    "evaluator = RegressionEvaluator(metricName='rmse', labelCol='Rating', predictionCol='prediction')\n",
    "rmse = evaluator.evaluate(predictions)\n",
    "print(f'Root Mean Squared Error (RMSE): {rmse}')"
   ]
  },
  {
   "cell_type": "markdown",
   "id": "d8870829-00f9-486e-aa11-44626450191b",
   "metadata": {},
   "source": [
    "### `Поиск оптимального значения гиперпараметров`"
   ]
  },
  {
   "cell_type": "code",
   "execution_count": 17,
   "id": "747aa1fe-102e-4303-8328-81154e233161",
   "metadata": {},
   "outputs": [
    {
     "data": {
      "text/plain": [
       "(4,\n",
       " {Param(parent='ALS_e42bd0f5f1e0', name='rank', doc='rank of the factorization'): 10,\n",
       "  Param(parent='ALS_e42bd0f5f1e0', name='maxIter', doc='max number of iterations (>= 0).'): 100,\n",
       "  Param(parent='ALS_e42bd0f5f1e0', name='regParam', doc='regularization parameter (>= 0).'): 0.15})"
      ]
     },
     "execution_count": 17,
     "metadata": {},
     "output_type": "execute_result"
    }
   ],
   "source": [
    "# задаём сетку параметров, в которой попробуем найти оптимальные\n",
    "# значения для размерности признаков d, количества итераций алгоритма\n",
    "# и параметра регуляризаци lambda\n",
    "param_grid = (\n",
    "    ParamGridBuilder()\n",
    "        .addGrid(als.rank, [10, 50]) # возможные значение d\n",
    "        .addGrid(als.maxIter, [100]) # возможные значения итерации\n",
    "        .addGrid(als.regParam, [0.05, 0.15]) # возможные значения параметра регуляризации\n",
    "        .build()\n",
    ")\n",
    "len(param_grid), param_grid[1]"
   ]
  },
  {
   "cell_type": "code",
   "execution_count": 18,
   "id": "9e7bf97e-4fbf-45c5-aa3c-5222e6f88079",
   "metadata": {},
   "outputs": [
    {
     "name": "stderr",
     "output_type": "stream",
     "text": [
      "                                                                                                                                                                                     \r"
     ]
    }
   ],
   "source": [
    "# запускаем обучение + валидацию по заданной выше сетке\n",
    "# исходное обучющее множество будет разбито на само обучение 0.8 \n",
    "tvs = TrainValidationSplit(\n",
    "    estimator=als, # ml-алгоритм\n",
    "    estimatorParamMaps=param_grid, # сетка гиперпараметров\n",
    "    evaluator=evaluator, # алгоритм оценки\n",
    "    trainRatio=0.8, # доля данных используемых для обучения\n",
    "    seed=123 # генератор псевдослучайных чисел\n",
    ")\n",
    "tvs_model = tvs.fit(train_ratings_df)"
   ]
  },
  {
   "cell_type": "code",
   "execution_count": 19,
   "id": "fb87a97c-383f-4f3f-ae4d-60fca04a81f8",
   "metadata": {},
   "outputs": [
    {
     "data": {
      "text/plain": [
       "[{Param(parent='ALS_e42bd0f5f1e0', name='rank', doc='rank of the factorization'): 10,\n",
       "  Param(parent='ALS_e42bd0f5f1e0', name='maxIter', doc='max number of iterations (>= 0).'): 100,\n",
       "  Param(parent='ALS_e42bd0f5f1e0', name='regParam', doc='regularization parameter (>= 0).'): 0.05},\n",
       " {Param(parent='ALS_e42bd0f5f1e0', name='rank', doc='rank of the factorization'): 10,\n",
       "  Param(parent='ALS_e42bd0f5f1e0', name='maxIter', doc='max number of iterations (>= 0).'): 100,\n",
       "  Param(parent='ALS_e42bd0f5f1e0', name='regParam', doc='regularization parameter (>= 0).'): 0.15},\n",
       " {Param(parent='ALS_e42bd0f5f1e0', name='rank', doc='rank of the factorization'): 50,\n",
       "  Param(parent='ALS_e42bd0f5f1e0', name='maxIter', doc='max number of iterations (>= 0).'): 100,\n",
       "  Param(parent='ALS_e42bd0f5f1e0', name='regParam', doc='regularization parameter (>= 0).'): 0.05},\n",
       " {Param(parent='ALS_e42bd0f5f1e0', name='rank', doc='rank of the factorization'): 50,\n",
       "  Param(parent='ALS_e42bd0f5f1e0', name='maxIter', doc='max number of iterations (>= 0).'): 100,\n",
       "  Param(parent='ALS_e42bd0f5f1e0', name='regParam', doc='regularization parameter (>= 0).'): 0.15}]"
      ]
     },
     "execution_count": 19,
     "metadata": {},
     "output_type": "execute_result"
    }
   ],
   "source": [
    "tvs_model.getEstimatorParamMaps()"
   ]
  },
  {
   "cell_type": "markdown",
   "id": "27a6a269-adc4-4441-8e76-84603e7d2f96",
   "metadata": {},
   "source": [
    "Посмотрим, какие метрики по каждому набору параметров, будут на валидационном множестве"
   ]
  },
  {
   "cell_type": "code",
   "execution_count": 22,
   "id": "53c563bd-0086-414b-ad43-442b60d6ce58",
   "metadata": {},
   "outputs": [
    {
     "data": {
      "text/plain": [
       "[1.1488468561115157, 1.0143140678591802, 1.043934273852423, 1.008011043974843]"
      ]
     },
     "execution_count": 22,
     "metadata": {},
     "output_type": "execute_result"
    }
   ],
   "source": [
    "tvs_model.validationMetrics"
   ]
  },
  {
   "cell_type": "code",
   "execution_count": null,
   "id": "2643bc8f-52a9-4cba-9bb4-04aa7e29e68f",
   "metadata": {},
   "outputs": [],
   "source": []
  },
  {
   "cell_type": "code",
   "execution_count": null,
   "id": "da5f7561-8551-416f-b9a5-3e90009b860a",
   "metadata": {},
   "outputs": [],
   "source": []
  },
  {
   "cell_type": "code",
   "execution_count": null,
   "id": "6b2da3ae-919d-419a-a61e-604647ab7ecf",
   "metadata": {},
   "outputs": [],
   "source": []
  }
 ],
 "metadata": {
  "kernelspec": {
   "display_name": "Python 3 (ipykernel)",
   "language": "python",
   "name": "python3"
  },
  "language_info": {
   "codemirror_mode": {
    "name": "ipython",
    "version": 3
   },
   "file_extension": ".py",
   "mimetype": "text/x-python",
   "name": "python",
   "nbconvert_exporter": "python",
   "pygments_lexer": "ipython3",
   "version": "3.10.12"
  }
 },
 "nbformat": 4,
 "nbformat_minor": 5
}
