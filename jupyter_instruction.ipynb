{
 "cells": [
  {
   "cell_type": "markdown",
   "id": "619e76f6-19b6-4a4e-ba9d-0764f42f15f2",
   "metadata": {},
   "source": [
    "### Инструкция по настройке jupyter notebook на виртуальной машине"
   ]
  },
  {
   "cell_type": "markdown",
   "id": "18f24c27-b8bc-4fea-b3d2-80f749d881ce",
   "metadata": {},
   "source": [
    "Можно настроить jupyter на виртуальной машине и работать с ней через браузер.\n",
    "\n",
    "Для этого надо выполнить несколько команд в терминале."
   ]
  },
  {
   "cell_type": "markdown",
   "id": "8ba439e2-5b23-449d-ba22-3ab59a316be2",
   "metadata": {},
   "source": [
    "```bash\n",
    "# устанавливаем python\n",
    "> sudo add-apt-repository ppa:deadsnakes/ppa\n",
    "\n",
    "# устанавливаем пакетный менеджер. На в\n",
    "> sudo apt install -y python3-pip\n",
    "\n",
    "\n",
    "# устанавливаем jupyter\n",
    "> pip3 install notebook\n",
    "> sudo apt install -y jupyter-core\n",
    "\n",
    "# настраиваем конфигурацию jupyter\n",
    "> python3 -m notebook --generate-config\n",
    "> echo \"c.NotebookApp.allow_origin = '*' # allow all origins\" >> ~/.jupyter/jupyter_notebook_config.py\n",
    "> echo \"c.NotebookApp.ip = '0.0.0.0' # listen on all IPs\" >> ~/.jupyter/jupyter_notebook_config.py\n",
    "\n",
    "# создаём tmux-сессию, которая будет постоянно работать на виртуалке\n",
    "> tmux new -s notebook_session\n",
    "\n",
    "# запускаем jupyter \n",
    "python3 -m notebook --no-browser --port=9999\n",
    "```"
   ]
  },
  {
   "cell_type": "markdown",
   "id": "0b5802eb-cf06-43ac-a2d6-753e14fabe49",
   "metadata": {},
   "source": [
    "После запуска jupyter нужно в его выводе найти строку в следующем формате: \n",
    "> http://127.0.0.1:9999/tree?<\"YOUR_LONG_TOKEN\">"
   ]
  },
  {
   "cell_type": "markdown",
   "id": "64f134f1-a7ef-4657-a88f-b713d372254e",
   "metadata": {},
   "source": [
    "Затем необходимо полностью скопировать эту строку и втавить её в браузере, заменив часть адреса 127.0.0.1 на адрес виртуальной машины из таблички."
   ]
  }
 ],
 "metadata": {
  "kernelspec": {
   "display_name": "Python 3 (ipykernel)",
   "language": "python",
   "name": "python3"
  },
  "language_info": {
   "codemirror_mode": {
    "name": "ipython",
    "version": 3
   },
   "file_extension": ".py",
   "mimetype": "text/x-python",
   "name": "python",
   "nbconvert_exporter": "python",
   "pygments_lexer": "ipython3",
   "version": "3.10.12"
  }
 },
 "nbformat": 4,
 "nbformat_minor": 5
}
