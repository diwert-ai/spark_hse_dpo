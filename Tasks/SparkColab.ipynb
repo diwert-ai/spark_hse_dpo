{
  "cells": [
    {
      "cell_type": "markdown",
      "metadata": {
        "id": "ag_gAtm49_Ek"
      },
      "source": [
        "Ниже перечислены несколько ячеек, которые необходимо добавить в jupyter-notebook в сolab'e, чтобы там заработал Spark. Если хотите использовать google-colab для домашних работ, то необходимо загрузить файлы с заданиям в google colab и вставить ячейки ниже в самое начало jupyter.\n",
        "\n",
        "Чтобы импортировать файлы c домашнимии работами .ipynb в сolab нажмите на кнопку файл в верхнем левом углу, а затем на кнопку \"Загрузить блокнот\".\n"
      ]
    },
    {
      "cell_type": "markdown",
      "metadata": {
        "id": "s_Y1aHg6BLgp"
      },
      "source": [
        "Установка необходимых пакетов: java и сам Spark\n",
        "\n"
      ]
    },
    {
      "cell_type": "code",
      "execution_count": null,
      "metadata": {
        "id": "dXyg2POi91ok"
      },
      "outputs": [],
      "source": [
        "!apt-get install openjdk-8-jdk-headless -qq > /dev/null\n",
        "!wget -q http://archive.apache.org/dist/spark/spark-3.1.1/spark-3.1.1-bin-hadoop3.2.tgz\n",
        "!tar xf spark-3.1.1-bin-hadoop3.2.tgz\n",
        "!pip install -q findspark"
      ]
    },
    {
      "cell_type": "markdown",
      "metadata": {
        "id": "eOlnNEHs-JoU"
      },
      "source": [
        "Установка переменных окружения, чтобы указать интерпретатору, где располагаются исполняемые файлы для Spark и Java"
      ]
    },
    {
      "cell_type": "code",
      "execution_count": 3,
      "metadata": {
        "id": "diLqL95H-cb8"
      },
      "outputs": [],
      "source": [
        "import os\n",
        "os.environ[\"JAVA_HOME\"] = \"/usr/lib/jvm/java-8-openjdk-amd64\"\n",
        "os.environ[\"SPARK_HOME\"] = \"/content/spark-3.1.1-bin-hadoop3.2\""
      ]
    },
    {
      "cell_type": "markdown",
      "metadata": {
        "id": "dY7yq3K8-0dn"
      },
      "source": [
        "\n",
        "Создадим спарк-сессию."
      ]
    },
    {
      "cell_type": "code",
      "execution_count": null,
      "metadata": {
        "id": "ob1eQweX-jFf"
      },
      "outputs": [],
      "source": [
        "import findspark\n",
        "findspark.init()\n",
        "from pyspark.sql import SparkSession\n",
        "\n",
        "spark = SparkSession.builder.master(\"local[*]\").getOrCreate()"
      ]
    },
    {
      "cell_type": "markdown",
      "metadata": {
        "id": "-InJPUBVA-CC"
      },
      "source": [
        "Если вы хотите использовать google colab для выполнения домашних работ, то необходимо удалить или закомментировать строки инициализации спарка в первой ячейке, так как иначе интерпретатор будет выдававать ошибку о повторной инициализации спарк сесии.\n",
        "\n",
        "\n",
        "Удаляем этот код.\n",
        "```python\n",
        "conf = (\n",
        "    SparkConf()\n",
        "        .set('spark.ui.port', '4050')\n",
        "        .set('spark.driver.memory', '6g')\n",
        "        .setMaster('local[*]')\n",
        ")\n",
        "sc = SparkContext(conf=conf)\n",
        "spark = SparkSession(sc)\n",
        "```\n"
      ]
    },
    {
      "cell_type": "code",
      "execution_count": null,
      "metadata": {
        "id": "LoZhpIBeBKcp"
      },
      "outputs": [],
      "source": []
    }
  ],
  "metadata": {
    "colab": {
      "provenance": []
    },
    "kernelspec": {
      "display_name": "Python 3",
      "name": "python3"
    },
    "language_info": {
      "name": "python"
    }
  },
  "nbformat": 4,
  "nbformat_minor": 0
}
