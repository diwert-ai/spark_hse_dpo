{
  "nbformat": 4,
  "nbformat_minor": 0,
  "metadata": {
    "colab": {
      "provenance": []
    },
    "kernelspec": {
      "name": "python3",
      "display_name": "Python 3"
    },
    "language_info": {
      "name": "python"
    }
  },
  "cells": [
    {
      "cell_type": "markdown",
      "source": [
        "###`Настрока Spark в среде Google Colab`"
        "Ниже перечислены несколько ячеек, которые необходимо добавить в jupyter-notebook в сolab'e, чтобы там заработал Spark. Если хотите использовать google-colab для домашних работ, то необходимо загрузить файлы с заданиям в google colab и вставить ячейки ниже в самое начало jupyter.\n",
        "\n",
        "Чтобы импортировать файлы c домашнимии работами .ipynb в сolab нажмите на кнопку файл в верхнем левом углу, а затем на кнопку \"загрузить блокнот\".\n"
      ],
      "metadata": {
        "id": "ag_gAtm49_Ek"
      }
    },
    {
      "cell_type": "markdown",
      "source": [
        "Установка необходимых пакетов: java и сам Spark\n",
        "\n"
      ],
      "metadata": {
        "id": "s_Y1aHg6BLgp"
      }
    },
    {
      "cell_type": "code",
      "source": [
        "!apt-get install openjdk-8-jdk-headless -qq > /dev/null\n",
        "!wget -q http://archive.apache.org/dist/spark/spark-3.1.1/spark-3.1.1-bin-hadoop3.2.tgz\n",
        "!tar xf spark-3.1.1-bin-hadoop3.2.tgz\n",
        "!pip install -q findspark"
      ],
      "metadata": {
        "id": "dXyg2POi91ok"
      },
      "execution_count": null,
      "outputs": []
    },
    {
      "cell_type": "markdown",
      "source": [
        "Установка переменных окружения, чтобы указать интерпретатору, где располагаются исполняемые файлы для Spark и Java"
      ],
      "metadata": {
        "id": "eOlnNEHs-JoU"
      }
    },
    {
      "cell_type": "code",
      "source": [
        "import os\n",
        "os.environ[\"JAVA_HOME\"] = \"/usr/lib/jvm/java-8-openjdk-amd64\"\n",
        "os.environ[\"SPARK_HOME\"] = \"/content/spark-2.2.1-bin-hadoop2.7\""
      ],
      "metadata": {
        "id": "diLqL95H-cb8"
      },
      "execution_count": 3,
      "outputs": []
    },
    {
      "cell_type": "markdown",
      "source": [
        "\n",
        "Создадим спарк-сессию."
      ],
      "metadata": {
        "id": "dY7yq3K8-0dn"
      }
    },
    {
      "cell_type": "code",
      "source": [
        "import findspark\n",
        "findspark.init()\n",
        "from pyspark.sql import SparkSession\n",
        "\n",
        "spark = SparkSession.builder.master(\"local[*]\").getOrCreate()"
      ],
      "metadata": {
        "id": "ob1eQweX-jFf"
      },
      "execution_count": null,
      "outputs": []
    },
    {
      "cell_type": "markdown",
      "source": [
        "Если вы хотите использовать google colab для выполнения домашних работ, то необходимо удалить или закомментировать строки инициализации спарка в первой ячейке, так как иначе интерпретатор будет выдававать ошибку о повторной инициализации спарк сесии.\n",
        "\n",
        "\n",
        "Удаляем этот код.\n",
        "```python\n",
        "conf = (\n",
        "    SparkConf()\n",
        "        .set('spark.ui.port', '4050')\n",
        "        .set('spark.driver.memory', '6g')\n",
        "        .setMaster('local[*]')\n",
        ")\n",
        "sc = SparkContext(conf=conf)\n",
        "spark = SparkSession(sc)\n",
        "```\n"
      ],
      "metadata": {
        "id": "-InJPUBVA-CC"
      }
    },
    {
      "cell_type": "code",
      "source": [],
      "metadata": {
        "id": "LoZhpIBeBKcp"
      },
      "execution_count": null,
      "outputs": []
    }
  ]
}
