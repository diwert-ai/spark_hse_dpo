{
 "cells": [
  {
   "cell_type": "markdown",
   "id": "d0974ddd-b6a5-433e-b7e4-f3d3115718da",
   "metadata": {},
   "source": [
    "# `Промышленное машинное обучение на Spark`\n",
    "## `Задание 01: Веб-сервис исправления опечаток.`\n",
    "\n",
    "<span style=\"color:red\">Дедлайн: 5 февраля 00:00</span>\n",
    "\n",
    "<span style=\"color:red\">Заполненный ноутбук присылать на почту <b>ekolmagorov98@yandex.ru</b> с темой письма <b>[HSE Spark 2024][Задание 01][ФИО]</b>.</span>"
   ]
  },
  {
   "cell_type": "markdown",
   "id": "a407ea7b-3616-4fe9-be84-63d7f17f91e9",
   "metadata": {},
   "source": [
    "В данном задании предлагается реализовать веб-сервис, написанный на фреймворке Flask по исправлению опечаток для русского языка. "
   ]
  },
  {
   "cell_type": "markdown",
   "id": "1e6da411-5d01-4e32-9747-13568f741172",
   "metadata": {},
   "source": [
    "### Импорт требуемых модулей"
   ]
  },
  {
   "cell_type": "code",
   "execution_count": 2,
   "id": "2a69919a-fa33-4c1b-b2fc-2b3f9b82a6d4",
   "metadata": {},
   "outputs": [],
   "source": [
    "import requests\n",
    "import time"
   ]
  },
  {
   "cell_type": "markdown",
   "id": "e2658865-5e76-4678-a9f4-9a3ec861d221",
   "metadata": {},
   "source": [
    "###  Задание 1. Разминка.\n",
    "\n",
    "Допишите GET-метод `/version`, который при вызове будет возвращать номер версии вашего сервиса. Так как это первая версия, то в качестве ответа верните json-строку, в которой в поле `version` будет записана строка `1.0`.\n",
    "\n",
    "*Замечание.* Не забывайте, чтобы формировать ответ в формате json [функцией jsonify](https://sky.pro/media/vozvrashhenie-json-otveta-iz-predstavleniya-flask/). "
   ]
  },
  {
   "cell_type": "code",
   "execution_count": 3,
   "id": "66f50b2a-5ba8-4d26-b00c-c71cb86ca326",
   "metadata": {},
   "outputs": [
    {
     "name": "stdout",
     "output_type": "stream",
     "text": [
      "Overwriting server.py\n"
     ]
    }
   ],
   "source": [
    "%%writefile server.py\n",
    "\n",
    "from flask import Flask\n",
    "from flask import jsonify\n",
    "\n",
    "app = Flask(__name__)\n",
    "@app.route('/version', methods=['GET'])\n",
    "def get_version():\n",
    "    # YOUR CODE HERE\n",
    "   \n",
    "if __name__ == '__main__':\n",
    "    app.run(host='localhost', port=5555)"
   ]
  },
  {
   "cell_type": "markdown",
   "id": "0d6c6f49-0669-4828-877c-1ce6e5002058",
   "metadata": {},
   "source": [
    "Магическая команда writefile производит запись содержимого из jupyter-ячейки в файл, который указывается после данной команды. Так как запуск и остановку веб-сервера необходимо производить в отдельном потоке исполнения, то дополнительно откройте окно терминала и через него произведите запуск сервера следующей командой:\n",
    "\n",
    "```bash\n",
    "> lsof -i:5555 | awk '{ if (NR>1) print $2}' | xargs -r kill -9 & python3 server.py\n",
    "```\n",
    "\n",
    "В случае успешного запуска, вы должны получить в терминале следующий вывод.\n",
    "\n",
    "```\n",
    " * Serving Flask app 'server'\n",
    " * Debug mode: off\n",
    "   WARNING: This is a development server. Do not use it in a production deployment. Use a   production WSGI server instead.\n",
    " * Running on http://http://127.0.0.1:5555\n",
    " * http://10.128.0.16:5555\n",
    "Press CTRL+C to quit\n",
    "```\n",
    "\n",
    "Данный вовод, говорит о том, что произошел запуск приложения `server` на хосте `127.0.0.1` и порту `5555`. Чтобы остановить работу сервера необходимо нажать сочетание клавиш `CTRL+C`. \n",
    "\n",
    "<b><span style=\"color:red\">!!! Важно: перезапускайте сервер после каждого обновления ячейки с кодом приложения, чтобы ваши изменения кода смогли попасть в него.</span></b>"
   ]
  },
  {
   "cell_type": "markdown",
   "id": "472cf8f9-efd3-4759-9a47-af731d413029",
   "metadata": {},
   "source": [
    "Запустите приложение в соседнем окне терминала и проверьте правильность вашего решения по вызову кода ниже. Все ошибки на стороне сервера будут отражены в окне терминала."
   ]
  },
  {
   "cell_type": "code",
   "execution_count": 5,
   "id": "1d278e54-c16d-4791-abba-b6bec151ece2",
   "metadata": {},
   "outputs": [
    {
     "data": {
      "text/plain": [
       "{'version': '1.0'}"
      ]
     },
     "execution_count": 5,
     "metadata": {},
     "output_type": "execute_result"
    }
   ],
   "source": [
    "resp = requests.get(\"http://localhost:5555/version\")\n",
    "\n",
    "assert resp.status_code == 200,  f'''Статус некорректный статус ответа: {resp.status_code}.\n",
    "                                     Описание ошибки: {resp.reason}.\n",
    "                                     Посмотрите в запущенном терминале более детальную информацию о ней'''\n",
    "assert resp.json().get(\"version\") == \"1.0\", \"Некорректный номер версии\"\n",
    "resp.json()"
   ]
  },
  {
   "cell_type": "markdown",
   "id": "79fecab6-f42a-41e7-8bf8-bac53eb8a85f",
   "metadata": {},
   "source": [
    "Теперь веб-приложение на метде `/version` выдаёт корректный статус ответа - код 200 - и то содержимое ответа, которое ожидалось."
   ]
  },
  {
   "cell_type": "markdown",
   "id": "378f89e6-2000-46c3-b86d-931c6b4871fc",
   "metadata": {},
   "source": [
    "### Задание 2. Поиск наиболее релевантного исправления.\n",
    "\n",
    "Теперь реализуем целевое действие, которое требуется от приложения - исправление опечатки в слове.\n",
    "В качестве используемого метода поиска опечатки воспользуемся алгоритмом поиска ближайшего слова по словарю, в качестве метрики близости между двумя словами воспользуемся [расстоянием Левенштейна](https://ru.wikipedia.org/wiki/Расстояние_Левенштейна). \n",
    "Данное расстояние между словами $word_{1}$ и $word_{2}$ определяется, как минимальное количество требуемых операций вставки, замены и удаления символов в слове $word_{1}$, чтобы его превратить в слово $word_{2}$.\n",
    "\n",
    "Например:\n",
    "- D(кот, кит) = 1, достаточно поменять букву 'о' на 'и';\n",
    "- D(собака, чайка) = 4, необходимо удалить одну из букв + произвести замену оствшихся первых трёх на слог 'чай'"
   ]
  },
  {
   "cell_type": "markdown",
   "id": "feda22ee-f96f-4079-9139-38e2a5415f10",
   "metadata": {},
   "source": [
    "В качестве словар подготовлен txt-файл со всеми корректными словами и их количеством в романе Л.Н.Толстого \"Война и мир\".\n",
    "\n",
    "В данном задании необходимо:\n",
    "1. Cчитать данный файл в [структуру Counter](https://docs-python.ru/standart-library/modul-collections-python/klass-counter-modulja-collections/).\n",
    "2. Реализовать функцию вычисления вероятности некоторого слова в словаре, как $P(word_{k}) = \\frac{\\#word_{k}}{\\#word_{1}+...+\\#word_{k}+...+\\#word_{N}}$\n",
    "3. Найти в словаре слово среди слов-кандидатов, которое имеет с максимальную вероятность - оно и будет исправленным ответом.\n",
    "4. Подготовить GET-метод `/correct` с параметом `check_word`. Ответ дайте в формате json, в котором в поле `corrected` - будет располагаться исправленный вариант, если он будет найден в словаре. Чтобы передавать именнованные параметры в GET-методе необходимо воспользоваться модулем requests из flask. Обратите внимание на следующий [ответ со Stakoverflow](https://stackoverflow.com/a/24892131) по передаче параметров."
   ]
  },
  {
   "cell_type": "code",
   "execution_count": 6,
   "id": "3b06e0ff-d98a-4e57-a2e6-73bbf6f904b3",
   "metadata": {},
   "outputs": [
    {
     "name": "stdout",
     "output_type": "stream",
     "text": [
      "Overwriting server.py\n"
     ]
    }
   ],
   "source": [
    "%%writefile server.py\n",
    "\n",
    "from collections import Counter\n",
    "from flask import Flask\n",
    "from flask import jsonify\n",
    "from flask import request\n",
    "\n",
    "def read_dictionary(filename: str) -> Counter:\n",
    "    '''\n",
    "        Read dictionary file with words statistics.\n",
    "        Function results is Counter datatype.\n",
    "    '''\n",
    "    #YOUR CODE HERE\n",
    "\n",
    "WORDS = read_dictionary('dictionary.txt')\n",
    "\n",
    "\n",
    "def P(word, N=sum(WORDS.values())): \n",
    "    '''\n",
    "        Probability of `word`: (num occurances of `word`)/ (total count of words) \n",
    "    '''\n",
    "    # YOUR CODE HERE\n",
    "\n",
    "def most_probable(word): \n",
    "    '''\n",
    "        Find most probable (with max ) spelling correction for word. \n",
    "        Hint: see max function + key param \n",
    "            https://www.programiz.com/python-programming/methods/built-in/max\n",
    "    '''\n",
    "    # YOUR CODE HERE\n",
    "\n",
    "def candidates(word): \n",
    "    '''\n",
    "        Generate most nearest spelling corrections for word.\n",
    "        If found word in dictionary then return word, otherwise\n",
    "        try found words from one and then two edit distance\n",
    "    '''\n",
    "    one_symbol_change = generate_candidates_one_symbol(word)\n",
    "    two_symbol_change = generate_candidates_two_symbol(word)\n",
    "    return (known([word]) or known(one_symbol_change) or known(two_symbol_change) or [word])\n",
    "\n",
    "def known(words): \n",
    "    '''\n",
    "        The subset of `words` that appear in the dictionary of WORDS.\n",
    "    '''\n",
    "    return set(w for w in words if w in WORDS)\n",
    "\n",
    "def generate_candidates_one_symbol(word):\n",
    "    '''\n",
    "        Generate candidates that are one edit symbol away from `word`.\n",
    "    '''\n",
    "    \n",
    "    letters    = 'абвгдеёжзиклмнопрстуфхцчшщъыьэюя'\n",
    "    splits     = [(word[:i], word[i:])    for i in range(len(word) + 1)]\n",
    "    deletes    = [L + R[1:]               for L, R in splits if R]\n",
    "    transposes = [L + R[1] + R[0] + R[2:] for L, R in splits if len(R)>1]\n",
    "    replaces   = [L + c + R[1:]           for L, R in splits if R for c in letters]\n",
    "    inserts    = [L + c + R               for L, R in splits for c in letters]\n",
    "    return set(deletes + transposes + replaces + inserts)\n",
    "\n",
    "def generate_candidates_two_symbol(word): \n",
    "    '''\n",
    "        Generate all сandidates that are two edits away from `word`.\n",
    "    '''\n",
    "    return [\n",
    "        e2 for e1 in generate_candidates_one_symbol(word)\n",
    "        for e2 in generate_candidates_one_symbol(e1)\n",
    "    ]\n",
    "\n",
    "app = Flask(__name__)\n",
    "\n",
    "@app.route('/correct', methods=['GET'])\n",
    "def correct():\n",
    "    # YOUR CODE HERE\n",
    "\n",
    "if __name__ == '__main__':\n",
    "    app.run(host='localhost', port=5555)"
   ]
  },
  {
   "cell_type": "markdown",
   "id": "269d1868-856b-44c5-9116-27c8050cbf59",
   "metadata": {},
   "source": [
    "Запустите приложение в окне терминала по команде описанной выше. После чего запустите ячейку ниже. Если всё выполненно корректно, то вы получите пустой ответ после её завершения."
   ]
  },
  {
   "cell_type": "code",
   "execution_count": 7,
   "id": "f7bde0e2-c0cd-4713-9283-0bfa1c482406",
   "metadata": {},
   "outputs": [],
   "source": [
    "params = {\"check_word\": \"полкводиц\"}\n",
    "resp = requests.get(\"http://localhost:5555/correct\", params=params)\n",
    "\n",
    "assert resp.status_code == 200, \"Код ошибки не равен 200, ошибки на стороне сервера\"\n",
    "assert resp.json()['correct_word'] == \"полководец\", \"Исправление некорретное\""
   ]
  },
  {
   "cell_type": "markdown",
   "id": "eb02f32f-cc73-40d5-8b4b-287a71e9c499",
   "metadata": {},
   "source": [
    "Проверим, как ведёт себя программа на более современных словах."
   ]
  },
  {
   "cell_type": "code",
   "execution_count": 8,
   "id": "8e5a20a6-bd99-425f-a16d-1954fd52c033",
   "metadata": {},
   "outputs": [
    {
     "name": "stdout",
     "output_type": "stream",
     "text": [
      "{'correct_word': 'ради'}\n"
     ]
    }
   ],
   "source": [
    "params = {\"check_word\": \"радио\"}\n",
    "resp = requests.get(\"http://localhost:5555/correct\", params=params)\n",
    "\n",
    "print(resp.json())"
   ]
  },
  {
   "cell_type": "markdown",
   "id": "76614e47-ab90-47d4-93df-f2fecc19cd6e",
   "metadata": {},
   "source": [
    "Как можно заметить, приложение выдало некорректный ответ на слово \"радио\". Объясняется это тем, что словарь для проверки был сформирован на основании текста XIX века и привычное современному человеку слово \"радио\" там не встречается. Попробуем добавить в возможность добавления новых слов в словарь."
   ]
  },
  {
   "cell_type": "markdown",
   "id": "01e783c0-3472-4fe4-a1a0-985dcf5c28a4",
   "metadata": {},
   "source": [
    "### Задание 3. Обогащение словаря новыми словами.\n",
    "\n",
    "В данном задании предлагается реализовать возможность добавления новых слов в словарь, чтобы была возможность редактировать поведение программы на тех словах, которые там изначально не встречаются.\n",
    "\n",
    "В данном задании предлагается к существующему решению добавить POST-метод `/add_word`, в котором необходимо считать поле `added_word` из тела запроса и добавить его в структуру Counter. \n",
    "\n",
    "- Подсказака 1. Можно посмотреть поля и их значения в запросе. Если взять атрибут json из входящего request. См. следующий [ответ](https://stackoverflow.com/a/35614301)\n",
    "- Подсказка 2. Добавление/измнение значений в структуре Counter может быть выполнена следующим образом:\n",
    "```python\n",
    "counter = Counter({'Dog': 2, 'Cat': 1})\n",
    "counter['Owl'] += 1\n",
    "```\n",
    "- Подсказка 3. Так как в методе добавления достаточно проинформировать клиента об успешном добавлении, то для этого достаточно просто отослать пустой ответ со статусом 200: `jsonify(success=True)`"
   ]
  },
  {
   "cell_type": "code",
   "execution_count": 13,
   "id": "13a8abdc-3e40-4a90-a210-190722bf5f8a",
   "metadata": {},
   "outputs": [
    {
     "name": "stdout",
     "output_type": "stream",
     "text": [
      "Overwriting server.py\n"
     ]
    }
   ],
   "source": [
    "\n",
    "%%writefile server.py\n",
    "\n",
    "from collections import Counter\n",
    "from flask import Flask\n",
    "from flask import jsonify, request, abort\n",
    "\n",
    "def read_dictionary(filename: str) -> Counter:\n",
    "    '''\n",
    "        Read dictionary file with words statistics.\n",
    "        Function results is Counter datatype.\n",
    "    '''\n",
    "    #YOUR CODE HERE FROM PREVIOUS CELL\n",
    "\n",
    "WORDS = read_dictionary('dictionary.txt')\n",
    "\n",
    "\n",
    "def P(word, N=sum(WORDS.values())): \n",
    "    '''\n",
    "        Probability of `word`: (num occurances of `word`)/ (total count of words) \n",
    "    '''\n",
    "    # YOUR CODE HERE FROM PREVIOUS CELL\n",
    "\n",
    "def most_probable(word): \n",
    "    '''\n",
    "        Find most probable (with max ) spelling correction for word. \n",
    "        Hint: see max function + key param \n",
    "            https://www.programiz.com/python-programming/methods/built-in/max\n",
    "    '''\n",
    "    # YOUR CODE HERE FROM PREVIOUS CELL\n",
    "\n",
    "def candidates(word): \n",
    "    '''\n",
    "        Generate most nearest spelling corrections for word.\n",
    "        If found word in dictionary then return word, otherwise\n",
    "        try found words from one and then two edit distance\n",
    "    '''\n",
    "    one_symbol_change = generate_candidates_one_symbol(word)\n",
    "    two_symbol_change = generate_candidates_two_symbol(word)\n",
    "    return (known([word]) or known(one_symbol_change) or known(two_symbol_change) or [word])\n",
    "\n",
    "def known(words): \n",
    "    '''\n",
    "        The subset of `words` that appear in the dictionary of WORDS.\n",
    "    '''\n",
    "    return set(w for w in words if w in WORDS)\n",
    "\n",
    "def generate_candidates_one_symbol(word):\n",
    "    '''\n",
    "        Generate candidates that are one edit symbol away from `word`.\n",
    "    '''\n",
    "    \n",
    "    letters    = 'абвгдеёжзиклмнопрстуфхцчшщъыьэюя'\n",
    "    splits     = [(word[:i], word[i:])    for i in range(len(word) + 1)]\n",
    "    deletes    = [L + R[1:]               for L, R in splits if R]\n",
    "    transposes = [L + R[1] + R[0] + R[2:] for L, R in splits if len(R)>1]\n",
    "    replaces   = [L + c + R[1:]           for L, R in splits if R for c in letters]\n",
    "    inserts    = [L + c + R               for L, R in splits for c in letters]\n",
    "    return set(deletes + transposes + replaces + inserts)\n",
    "\n",
    "def generate_candidates_two_symbol(word): \n",
    "    '''\n",
    "        Generate all сandidates that are two edits away from `word`.\n",
    "    '''\n",
    "    return [\n",
    "        e2 for e1 in generate_candidates_one_symbol(word)\n",
    "        for e2 in generate_candidates_one_symbol(e1)\n",
    "    ]\n",
    "\n",
    "app = Flask(__name__)\n",
    "\n",
    "@app.route('/correct', methods=['GET'])\n",
    "def correct():\n",
    "    # YOUR CODE HERE FROM PREVIOUS CELL\n",
    "\n",
    "@app.route('/add_word', methods=['POST'])\n",
    "def add_word():\n",
    "    # YOUR CODE HERE\n",
    "    # ... \n",
    "\n",
    "    \n",
    "\n",
    "if __name__ == '__main__':\n",
    "    app.run(host='localhost', port=5555)"
   ]
  },
  {
   "cell_type": "markdown",
   "id": "de8599d4-cbfd-4324-a694-dfe4ab121fa8",
   "metadata": {},
   "source": [
    "Проверка нового метода"
   ]
  },
  {
   "cell_type": "code",
   "execution_count": 14,
   "id": "1fe8e90f-7b00-4348-a44a-3f14c572907e",
   "metadata": {},
   "outputs": [
    {
     "name": "stdout",
     "output_type": "stream",
     "text": [
      "{'correct_word': 'радио'}\n"
     ]
    }
   ],
   "source": [
    "# Проверим работоспособность метода добавления нового слова\n",
    "data = {\"added_word\": \"радио\"}\n",
    "resp = requests.post(\"http://localhost:5555/add_word\", json=data)\n",
    "\n",
    "assert resp.status_code == 200, \"Код ошибки не равен 200, ошибки на стороне сервера\"\n",
    "\n",
    "# Проверим, что новое слово действительно добавилось в словарь\n",
    "\n",
    "params = {\"check_word\": \"радио\"}\n",
    "resp = requests.get(\"http://localhost:5555/correct\", params=params)\n",
    "\n",
    "\n",
    "assert resp.status_code == 200, \"Код ошибки не равен 200, ошибки на стороне сервера\"\n",
    "assert resp.json()['correct_word'] == \"радио\", \"Новое слово радио не было добавлено в словарь корректных слов\"\n",
    "\n",
    "\n",
    "print(resp.json())"
   ]
  },
  {
   "cell_type": "markdown",
   "id": "d6a88177-a981-43c5-b60a-3984b2cedc12",
   "metadata": {},
   "source": [
    "### Задание 4. Показываем слова кандидаты.\n",
    "\n",
    "Добавьте параметризированный GET-метод `/candidates/<int:edit_distance>`, который будет выдавать в поле `words` своего ответа слова-кандидаты для слова `word`, передаваемого в параметрах запроса. Последнее значение в пути метода указывает, на каком расстоянии редактирования должны быть слова-кандидаты на исправление: здесь допустимо два значения 1 и 2.\n",
    "\n",
    "Например, вызов метода `/candidates/1?word=кот` должен выдать следующие слова: \"тот\", \"скот\", \"вот\", \"пот\" и тд. \n",
    "\n",
    "А вызов `/candidates/2?word=кот`, следующие слова: \"лож\", \"год\", \"вор\", \"пост\", \"коса\" и тд."
   ]
  },
  {
   "cell_type": "code",
   "execution_count": 15,
   "id": "dcfdd977-6a53-48be-9ae6-7bd61f01ff2f",
   "metadata": {},
   "outputs": [
    {
     "name": "stdout",
     "output_type": "stream",
     "text": [
      "Overwriting server.py\n"
     ]
    }
   ],
   "source": [
    "%%writefile server.py\n",
    "\n",
    "from collections import Counter\n",
    "from flask import Flask\n",
    "from flask import jsonify, request, abort\n",
    "\n",
    "def read_dictionary(filename: str) -> Counter:\n",
    "    '''\n",
    "        Read dictionary file with words statistics.\n",
    "        Function results is Counter datatype.\n",
    "    '''\n",
    "    #YOUR CODE HERE FROM PREVIOUS CELL\n",
    "\n",
    "WORDS = read_dictionary('dictionary.txt')\n",
    "\n",
    "def known(words): \n",
    "    '''\n",
    "        The subset of `words` that appear in the dictionary of WORDS.\n",
    "    '''\n",
    "    return set(w for w in words if w in WORDS)\n",
    "\n",
    "def generate_candidates_one_symbol(word):\n",
    "    '''\n",
    "        Generate candidates that are one edit symbol away from `word`.\n",
    "    '''\n",
    "    \n",
    "    letters    = 'абвгдеёжзиклмнопрстуфхцчшщъыьэюя'\n",
    "    splits     = [(word[:i], word[i:])    for i in range(len(word) + 1)]\n",
    "    deletes    = [L + R[1:]               for L, R in splits if R]\n",
    "    transposes = [L + R[1] + R[0] + R[2:] for L, R in splits if len(R)>1]\n",
    "    replaces   = [L + c + R[1:]           for L, R in splits if R for c in letters]\n",
    "    inserts    = [L + c + R               for L, R in splits for c in letters]\n",
    "    return set(deletes + transposes + replaces + inserts)\n",
    "\n",
    "def generate_candidates_two_symbol(word): \n",
    "    '''\n",
    "        Generate all сandidates that are two edits away from `word`.\n",
    "    '''\n",
    "    return [\n",
    "        e2 for e1 in generate_candidates_one_symbol(word)\n",
    "        for e2 in generate_candidates_one_symbol(e1)\n",
    "    ]\n",
    "\n",
    "app = Flask(__name__)\n",
    "\n",
    "@app.route('/candidates/<int:edit_distance>', methods=['GET'])\n",
    "def candidates(edit_distance: int):\n",
    "    # YOUR CODE HERE\n",
    "    \n",
    "\n",
    "    \n",
    "\n",
    "if __name__ == '__main__':\n",
    "    app.run(host='0.0.0.0', port=5555)"
   ]
  },
  {
   "cell_type": "markdown",
   "id": "f39c66fa-2ce3-4a24-8df7-6844325e0a9a",
   "metadata": {},
   "source": [
    "Проверка корректности добавленных методов"
   ]
  },
  {
   "cell_type": "code",
   "execution_count": 16,
   "id": "3a2197cc-c217-4a16-ba83-8f3c011ba2fb",
   "metadata": {},
   "outputs": [
    {
     "name": "stdout",
     "output_type": "stream",
     "text": [
      "Ответ от сервера: {'words': ['генерала', 'генералу', 'генерале', 'генералы', 'генерал']}\n",
      "Ответ от сервера: {'words': ['генерала', 'генералу', 'генералах', 'генералом', 'генерале', 'генералов', 'генералам', 'генералы', 'генерал']}\n"
     ]
    }
   ],
   "source": [
    "\n",
    "resp = requests.get(\"http://localhost:5555/candidates/1\", params={\"word\": \"генерал\"})\n",
    "assert resp.status_code == 200, \"Код ответа не равен 200, в решении присутствуют ошибки\"\n",
    "print(\"Ответ от сервера:\", resp.json())\n",
    "assert len(resp.json()[\"words\"]) == 5, f'''Ошибка в логике работы, для данного\n",
    "                слова должно быть сформировано 5 кандидатов, получено {len(resp.json()['words'])}'''\n",
    "\n",
    "resp = requests.get(\"http://localhost:5555/candidates/2\", params={\"word\": \"генерал\"})\n",
    "assert resp.status_code == 200, \"Код ответа не равен 200, в решении присутствуют ошибки\"\n",
    "print(\"Ответ от сервера:\", resp.json())\n",
    "assert len(resp.json()[\"words\"]) == 9, f'''Ошибка в логике работы, для данного слова должно \n",
    "                быть сформировано 9 кандидатов, получено {len(resp.json()['words'])}'''"
   ]
  },
  {
   "cell_type": "markdown",
   "id": "a4c1a81d-449f-4dd0-8cc6-d37aa74c2b79",
   "metadata": {},
   "source": [
    "#### Задание 5.\n",
    "\n",
    "Как в примере из второй части первой лекции произведите упаковку приложения в Docker-контейнер, и произведите запуск этого контейнера.\n",
    "Заполните пропущенные строки внутри Dockerfile. Произведите сборку образа и старт контейнера, запустив ячейки ниже."
   ]
  },
  {
   "cell_type": "code",
   "execution_count": 17,
   "id": "635a4eec-a4c2-4545-8578-c8dc39185928",
   "metadata": {},
   "outputs": [
    {
     "name": "stdout",
     "output_type": "stream",
     "text": [
      "Overwriting Dockerfile\n"
     ]
    }
   ],
   "source": [
    "%%writefile Dockerfile\n",
    "\n",
    "# Используем в качестве базового образа образ python\n",
    "FROM python:3.11-slim\n",
    "\n",
    "# Создайте папку, в которой будет храниться исходные файлы приложения, с именем app\n",
    "# YOUR CODE HERE\n",
    "\n",
    "# Пометьте созданную папку app как рабочую директорию. \n",
    "# YOUR CODE HERE\n",
    "\n",
    "# Перекопируйте файл server.py с текущей директории в созданную выше папку app\n",
    "# YOUR CODE HERE\n",
    "\n",
    "# Перекопируйте файл словаря c текущей директории в созданную выше папку app\n",
    "# YOUR CODE HERE\n",
    "\n",
    "# Установим библиотеку Flask внутрь контейнера\n",
    "RUN pip3 install -q Flask\n",
    "\n",
    "# Сделаем порт 5555, на котором работет приложение видимым\n",
    "EXPOSE 5555\n",
    "\n",
    "# Установим команду, которая будет запускаться при старте котнейнера\n",
    "CMD [\"python3\", \"server.py\"]\n"
   ]
  },
  {
   "cell_type": "markdown",
   "id": "a2dbd622-43ea-4081-bfd8-026547c396b2",
   "metadata": {},
   "source": [
    "Произведём сборку образа в качестве названия будет имя `corrector:1.0`. \n",
    "\n",
    "<b>Замечание:</b> не забывайте пересобирать образ после каждого обновления кода приложения."
   ]
  },
  {
   "cell_type": "code",
   "execution_count": 25,
   "id": "5649d958-2188-43a2-abd5-c4dd824b8729",
   "metadata": {},
   "outputs": [
    {
     "name": "stdout",
     "output_type": "stream",
     "text": [
      "Untagged: corrector:1.0\n",
      "Deleted: sha256:64331db1efd6efdcf20e2f1af3f4f08d7f975789d3856283255772e3b51ce672\n"
     ]
    }
   ],
   "source": [
    "# Удаление старого образа\n",
    "! docker rmi corrector:1.0\n",
    "# Создание нового\n",
    "! docker build --progress=plain --no-cache --rm=true  -t corrector:1.0 ."
   ]
  },
  {
   "cell_type": "markdown",
   "id": "df563733-f7fd-4da7-9644-f834c8de44e1",
   "metadata": {},
   "source": [
    "Посмотрим на существующие в системе Docker-образы и убедимся, что образ приложения существует в системе c нужным именем и тегом."
   ]
  },
  {
   "cell_type": "code",
   "execution_count": 21,
   "id": "159c5fdc-6d28-4920-866a-c29d06e6a694",
   "metadata": {},
   "outputs": [
    {
     "name": "stdout",
     "output_type": "stream",
     "text": [
      "REPOSITORY   TAG       IMAGE ID       CREATED             SIZE\n",
      "corrector    1.0       177b957a0a0a   2 seconds ago       148MB\n",
      "<none>       <none>    58d703a39ec4   About an hour ago   148MB\n",
      "test_app     1.0       136ed896d9ec   5 days ago          131MB\n"
     ]
    }
   ],
   "source": [
    "! docker images"
   ]
  },
  {
   "cell_type": "markdown",
   "id": "6fdf274b-7bd9-4112-b5a1-11f7cc8209a7",
   "metadata": {},
   "source": [
    "Теперь запустим контейнер с приложением и проверим его работоспособность."
   ]
  },
  {
   "cell_type": "code",
   "execution_count": 22,
   "id": "d50e394a-4bf3-4f28-84bd-76154c92046e",
   "metadata": {},
   "outputs": [
    {
     "name": "stdout",
     "output_type": "stream",
     "text": [
      "corrector_app\n",
      "a2ed8cc0e4517c5f4bc19d97e47819c12dfe24aaf71af0057a1bcfa9bebc0b3f\n",
      "\u001b[92mВаш контейнеризированное приложение корректно работает!\u001b[0m\n"
     ]
    }
   ],
   "source": [
    "# Останавливаем старый конейнер с приложением \n",
    "! if [ \"$(docker ps | grep -c 'corrector_app')\" -gt 0 ]; then docker stop corrector_app; fi\n",
    "\n",
    "# Запускаем новый контейнер\n",
    "! docker run --name corrector_app --rm -d -p 8000:5555  corrector:1.0;\n",
    "\n",
    "# Прежде чем слать запросы на веб-сервер подождём 2 секунды, пока он запустится\n",
    "time.sleep(2.0)\n",
    "\n",
    "try:\n",
    "    resp = requests.get(\"http://localhost:8000/candidates/1\", params={\"word\": \"генерал\"})\n",
    "except Exception as ex:\n",
    "    print(\"\\033[91m В решении ошибка присутствует ошибка.\", ex, \"\\033[0m\")\n",
    "\n",
    "assert resp.status_code == 200, \"Код ответа не равен 200, в решении присутствуют ошибки\"\n",
    "\n",
    "if resp.status_code == 200:\n",
    "    print(\"\\033[92mВаш контейнеризированное приложение корректно работает!\\033[0m\")"
   ]
  },
  {
   "cell_type": "markdown",
   "id": "953d52af-e742-45d8-844e-df051b9a9930",
   "metadata": {},
   "source": [
    "Если ячейка выше выдаёт ошибку, то нужно смотреть причину в логах контейнера, Чтобы посмотреть логи и ошибки контейнеризированного приложения, воспользуйтесь следующей командой. "
   ]
  },
  {
   "cell_type": "code",
   "execution_count": 23,
   "id": "e9cfc3e7-74b0-4404-b66e-bb41e0fbf4f5",
   "metadata": {},
   "outputs": [
    {
     "name": "stdout",
     "output_type": "stream",
     "text": [
      " * Serving Flask app 'server'\n",
      " * Debug mode: off\n",
      "\u001b[31m\u001b[1mWARNING: This is a development server. Do not use it in a production deployment. Use a production WSGI server instead.\u001b[0m\n",
      " * Running on all addresses (0.0.0.0)\n",
      " * Running on http://127.0.0.1:5555\n",
      " * Running on http://172.17.0.2:5555\n",
      "\u001b[33mPress CTRL+C to quit\u001b[0m\n",
      "172.17.0.1 - - [18/Jan/2024 22:35:22] \"GET /candidates/1?word=генерал HTTP/1.1\" 200 -\n"
     ]
    }
   ],
   "source": [
    "! docker logs corrector_app"
   ]
  },
  {
   "cell_type": "code",
   "execution_count": null,
   "id": "7e3a9c4f-7ea3-4f42-823a-1f7e1f269503",
   "metadata": {},
   "outputs": [],
   "source": []
  }
 ],
 "metadata": {
  "kernelspec": {
   "display_name": "Python 3 (ipykernel)",
   "language": "python",
   "name": "python3"
  },
  "language_info": {
   "codemirror_mode": {
    "name": "ipython",
    "version": 3
   },
   "file_extension": ".py",
   "mimetype": "text/x-python",
   "name": "python",
   "nbconvert_exporter": "python",
   "pygments_lexer": "ipython3",
   "version": "3.10.12"
  }
 },
 "nbformat": 4,
 "nbformat_minor": 5
}
